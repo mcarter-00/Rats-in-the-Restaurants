{
 "cells": [
  {
   "attachments": {},
   "cell_type": "markdown",
   "metadata": {},
   "source": [
    "# Linear regression analysis\n",
    "\n",
    "Y-Value: SCORE\n",
    "\n",
    "X-Value: One of the 43 features\n",
    "\n",
    "Each figure includes a scatter plot with a linear regression line."
   ]
  },
  {
   "cell_type": "code",
   "execution_count": 1,
   "metadata": {},
   "outputs": [],
   "source": [
    "# Import dependencies\n",
    "import pandas as pd\n",
    "\n",
    "# Import linear regression from the SciPy stats module.\n",
    "from scipy.stats import linregress\n",
    "\n",
    "# Import Matplotlib.\n",
    "import matplotlib.pyplot as plt\n",
    "\n",
    "# Expand output display to view all\n",
    "pd.set_option('display.max_columns', 999)\n",
    "\n",
    "# Import datasets\n",
    "dataset = pd.read_csv(\"./Resources/Clean/clean_new_rats_JUNE09.csv\")"
   ]
  },
  {
   "cell_type": "code",
   "execution_count": 2,
   "metadata": {},
   "outputs": [
    {
     "data": {
      "text/html": [
       "<div>\n",
       "<style scoped>\n",
       "    .dataframe tbody tr th:only-of-type {\n",
       "        vertical-align: middle;\n",
       "    }\n",
       "\n",
       "    .dataframe tbody tr th {\n",
       "        vertical-align: top;\n",
       "    }\n",
       "\n",
       "    .dataframe thead th {\n",
       "        text-align: right;\n",
       "    }\n",
       "</style>\n",
       "<table border=\"1\" class=\"dataframe\">\n",
       "  <thead>\n",
       "    <tr style=\"text-align: right;\">\n",
       "      <th></th>\n",
       "      <th>Unnamed: 0</th>\n",
       "      <th>ACTIVITY_DATE</th>\n",
       "      <th>FACILITY_ID</th>\n",
       "      <th>FACILITY_NAME</th>\n",
       "      <th>PROGRAM_NAME</th>\n",
       "      <th>PROGRAM_STATUS</th>\n",
       "      <th>FACILITY_ADDRESS</th>\n",
       "      <th>FACILITY_CITY</th>\n",
       "      <th>FACILITY_STATE</th>\n",
       "      <th>FACILITY_ZIP</th>\n",
       "      <th>SCORE</th>\n",
       "      <th>GRADE</th>\n",
       "      <th>serial_number</th>\n",
       "      <th>LAT</th>\n",
       "      <th>LNG</th>\n",
       "      <th>violation_status</th>\n",
       "      <th>violation_code</th>\n",
       "      <th>violation_description</th>\n",
       "      <th>points</th>\n",
       "      <th>GEONAME</th>\n",
       "      <th>Pop_Tot</th>\n",
       "      <th>Prop_18y</th>\n",
       "      <th>Prop_64y</th>\n",
       "      <th>Prop_65y+</th>\n",
       "      <th>Prop_Blk</th>\n",
       "      <th>Prop_Lat</th>\n",
       "      <th>Prop_Whi</th>\n",
       "      <th>Prop_Asi</th>\n",
       "      <th>Prop_Ami</th>\n",
       "      <th>Prop_NHO</th>\n",
       "      <th>Prop_FPL1</th>\n",
       "      <th>Prop_FPL2</th>\n",
       "      <th>Prop_forb</th>\n",
       "      <th>Prop_Eng</th>\n",
       "      <th>Prop_edLH</th>\n",
       "      <th>Prop_edHG</th>\n",
       "      <th>Prop_edSC</th>\n",
       "      <th>Prop_edCG</th>\n",
       "      <th>MHI</th>\n",
       "      <th>Prop_groc</th>\n",
       "      <th>Prop_60mi</th>\n",
       "      <th>No_farm</th>\n",
       "      <th>Prop_obse</th>\n",
       "      <th>Prop_DM</th>\n",
       "      <th>Rte_CVD</th>\n",
       "      <th>Prop_ownr</th>\n",
       "      <th>Prop_rentr</th>\n",
       "      <th>No_hless</th>\n",
       "      <th>Rte_crim</th>\n",
       "      <th>Rte_alco</th>\n",
       "      <th>Propt_envi</th>\n",
       "      <th>Prop_depr</th>\n",
       "      <th>Propt_HPI</th>\n",
       "      <th>Prop_fru</th>\n",
       "      <th>Prop_bev</th>\n",
       "      <th>Prop_hyp</th>\n",
       "      <th>Prop_marj</th>\n",
       "      <th>new_seats</th>\n",
       "      <th>ACTIVITY_DATE_MONTHYEAR</th>\n",
       "      <th>ACTIVITY_DATE_MONTH</th>\n",
       "    </tr>\n",
       "  </thead>\n",
       "  <tbody>\n",
       "    <tr>\n",
       "      <td>0</td>\n",
       "      <td>0</td>\n",
       "      <td>2020-02-04</td>\n",
       "      <td>FA0240932</td>\n",
       "      <td>THE GREAT ROOM CAFE</td>\n",
       "      <td>THE GREAT ROOM CAFE</td>\n",
       "      <td>ACTIVE</td>\n",
       "      <td>2810 ARTESIA BLVD</td>\n",
       "      <td>REDONDO BEACH</td>\n",
       "      <td>CA</td>\n",
       "      <td>90278</td>\n",
       "      <td>91</td>\n",
       "      <td>A</td>\n",
       "      <td>DA000B8AV</td>\n",
       "      <td>-118.358308</td>\n",
       "      <td>33.872838</td>\n",
       "      <td>OUT OF COMPLIANCE</td>\n",
       "      <td>F007</td>\n",
       "      <td># 07. Proper hot and cold holding temperatures</td>\n",
       "      <td>4.0</td>\n",
       "      <td>REDONDO BEACH</td>\n",
       "      <td>69316.0</td>\n",
       "      <td>0.2056</td>\n",
       "      <td>0.6614</td>\n",
       "      <td>0.133</td>\n",
       "      <td>0.0272</td>\n",
       "      <td>0.1567</td>\n",
       "      <td>0.6806</td>\n",
       "      <td>0.1302</td>\n",
       "      <td>0.0025</td>\n",
       "      <td>0.0028</td>\n",
       "      <td>0.0462</td>\n",
       "      <td>0.0957</td>\n",
       "      <td>0.1877</td>\n",
       "      <td>0.0393</td>\n",
       "      <td>0.0415</td>\n",
       "      <td>0.111</td>\n",
       "      <td>0.2785</td>\n",
       "      <td>0.5689</td>\n",
       "      <td>105145.0</td>\n",
       "      <td>0.7645</td>\n",
       "      <td>0.116</td>\n",
       "      <td>2</td>\n",
       "      <td>0.1971</td>\n",
       "      <td>0.0599</td>\n",
       "      <td>177.9619</td>\n",
       "      <td>0.499</td>\n",
       "      <td>0.501</td>\n",
       "      <td>216.0</td>\n",
       "      <td>231.0</td>\n",
       "      <td>26.0</td>\n",
       "      <td>84</td>\n",
       "      <td>0.1129</td>\n",
       "      <td>93.0</td>\n",
       "      <td>0.2</td>\n",
       "      <td>0.2</td>\n",
       "      <td>0.2</td>\n",
       "      <td>0.1</td>\n",
       "      <td>61</td>\n",
       "      <td>2020-02</td>\n",
       "      <td>2</td>\n",
       "    </tr>\n",
       "    <tr>\n",
       "      <td>1</td>\n",
       "      <td>1</td>\n",
       "      <td>2020-02-04</td>\n",
       "      <td>FA0240932</td>\n",
       "      <td>THE GREAT ROOM CAFE</td>\n",
       "      <td>THE GREAT ROOM CAFE</td>\n",
       "      <td>ACTIVE</td>\n",
       "      <td>2810 ARTESIA BLVD</td>\n",
       "      <td>REDONDO BEACH</td>\n",
       "      <td>CA</td>\n",
       "      <td>90278</td>\n",
       "      <td>91</td>\n",
       "      <td>A</td>\n",
       "      <td>DA000B8AV</td>\n",
       "      <td>-118.358308</td>\n",
       "      <td>33.872838</td>\n",
       "      <td>OUT OF COMPLIANCE</td>\n",
       "      <td>F034</td>\n",
       "      <td># 34. Warewashing facilities: Adequate, mainta...</td>\n",
       "      <td>1.0</td>\n",
       "      <td>REDONDO BEACH</td>\n",
       "      <td>69316.0</td>\n",
       "      <td>0.2056</td>\n",
       "      <td>0.6614</td>\n",
       "      <td>0.133</td>\n",
       "      <td>0.0272</td>\n",
       "      <td>0.1567</td>\n",
       "      <td>0.6806</td>\n",
       "      <td>0.1302</td>\n",
       "      <td>0.0025</td>\n",
       "      <td>0.0028</td>\n",
       "      <td>0.0462</td>\n",
       "      <td>0.0957</td>\n",
       "      <td>0.1877</td>\n",
       "      <td>0.0393</td>\n",
       "      <td>0.0415</td>\n",
       "      <td>0.111</td>\n",
       "      <td>0.2785</td>\n",
       "      <td>0.5689</td>\n",
       "      <td>105145.0</td>\n",
       "      <td>0.7645</td>\n",
       "      <td>0.116</td>\n",
       "      <td>2</td>\n",
       "      <td>0.1971</td>\n",
       "      <td>0.0599</td>\n",
       "      <td>177.9619</td>\n",
       "      <td>0.499</td>\n",
       "      <td>0.501</td>\n",
       "      <td>216.0</td>\n",
       "      <td>231.0</td>\n",
       "      <td>26.0</td>\n",
       "      <td>84</td>\n",
       "      <td>0.1129</td>\n",
       "      <td>93.0</td>\n",
       "      <td>0.2</td>\n",
       "      <td>0.2</td>\n",
       "      <td>0.2</td>\n",
       "      <td>0.1</td>\n",
       "      <td>61</td>\n",
       "      <td>2020-02</td>\n",
       "      <td>2</td>\n",
       "    </tr>\n",
       "    <tr>\n",
       "      <td>2</td>\n",
       "      <td>2</td>\n",
       "      <td>2020-02-04</td>\n",
       "      <td>FA0240932</td>\n",
       "      <td>THE GREAT ROOM CAFE</td>\n",
       "      <td>THE GREAT ROOM CAFE</td>\n",
       "      <td>ACTIVE</td>\n",
       "      <td>2810 ARTESIA BLVD</td>\n",
       "      <td>REDONDO BEACH</td>\n",
       "      <td>CA</td>\n",
       "      <td>90278</td>\n",
       "      <td>91</td>\n",
       "      <td>A</td>\n",
       "      <td>DA000B8AV</td>\n",
       "      <td>-118.358308</td>\n",
       "      <td>33.872838</td>\n",
       "      <td>OUT OF COMPLIANCE</td>\n",
       "      <td>F040</td>\n",
       "      <td># 40. Plumbing: Plumbing in good repair, prope...</td>\n",
       "      <td>1.0</td>\n",
       "      <td>REDONDO BEACH</td>\n",
       "      <td>69316.0</td>\n",
       "      <td>0.2056</td>\n",
       "      <td>0.6614</td>\n",
       "      <td>0.133</td>\n",
       "      <td>0.0272</td>\n",
       "      <td>0.1567</td>\n",
       "      <td>0.6806</td>\n",
       "      <td>0.1302</td>\n",
       "      <td>0.0025</td>\n",
       "      <td>0.0028</td>\n",
       "      <td>0.0462</td>\n",
       "      <td>0.0957</td>\n",
       "      <td>0.1877</td>\n",
       "      <td>0.0393</td>\n",
       "      <td>0.0415</td>\n",
       "      <td>0.111</td>\n",
       "      <td>0.2785</td>\n",
       "      <td>0.5689</td>\n",
       "      <td>105145.0</td>\n",
       "      <td>0.7645</td>\n",
       "      <td>0.116</td>\n",
       "      <td>2</td>\n",
       "      <td>0.1971</td>\n",
       "      <td>0.0599</td>\n",
       "      <td>177.9619</td>\n",
       "      <td>0.499</td>\n",
       "      <td>0.501</td>\n",
       "      <td>216.0</td>\n",
       "      <td>231.0</td>\n",
       "      <td>26.0</td>\n",
       "      <td>84</td>\n",
       "      <td>0.1129</td>\n",
       "      <td>93.0</td>\n",
       "      <td>0.2</td>\n",
       "      <td>0.2</td>\n",
       "      <td>0.2</td>\n",
       "      <td>0.1</td>\n",
       "      <td>61</td>\n",
       "      <td>2020-02</td>\n",
       "      <td>2</td>\n",
       "    </tr>\n",
       "    <tr>\n",
       "      <td>3</td>\n",
       "      <td>3</td>\n",
       "      <td>2020-02-04</td>\n",
       "      <td>FA0240932</td>\n",
       "      <td>THE GREAT ROOM CAFE</td>\n",
       "      <td>THE GREAT ROOM CAFE</td>\n",
       "      <td>ACTIVE</td>\n",
       "      <td>2810 ARTESIA BLVD</td>\n",
       "      <td>REDONDO BEACH</td>\n",
       "      <td>CA</td>\n",
       "      <td>90278</td>\n",
       "      <td>91</td>\n",
       "      <td>A</td>\n",
       "      <td>DA000B8AV</td>\n",
       "      <td>-118.358308</td>\n",
       "      <td>33.872838</td>\n",
       "      <td>OUT OF COMPLIANCE</td>\n",
       "      <td>F037</td>\n",
       "      <td># 37. Adequate ventilation and lighting; desig...</td>\n",
       "      <td>1.0</td>\n",
       "      <td>REDONDO BEACH</td>\n",
       "      <td>69316.0</td>\n",
       "      <td>0.2056</td>\n",
       "      <td>0.6614</td>\n",
       "      <td>0.133</td>\n",
       "      <td>0.0272</td>\n",
       "      <td>0.1567</td>\n",
       "      <td>0.6806</td>\n",
       "      <td>0.1302</td>\n",
       "      <td>0.0025</td>\n",
       "      <td>0.0028</td>\n",
       "      <td>0.0462</td>\n",
       "      <td>0.0957</td>\n",
       "      <td>0.1877</td>\n",
       "      <td>0.0393</td>\n",
       "      <td>0.0415</td>\n",
       "      <td>0.111</td>\n",
       "      <td>0.2785</td>\n",
       "      <td>0.5689</td>\n",
       "      <td>105145.0</td>\n",
       "      <td>0.7645</td>\n",
       "      <td>0.116</td>\n",
       "      <td>2</td>\n",
       "      <td>0.1971</td>\n",
       "      <td>0.0599</td>\n",
       "      <td>177.9619</td>\n",
       "      <td>0.499</td>\n",
       "      <td>0.501</td>\n",
       "      <td>216.0</td>\n",
       "      <td>231.0</td>\n",
       "      <td>26.0</td>\n",
       "      <td>84</td>\n",
       "      <td>0.1129</td>\n",
       "      <td>93.0</td>\n",
       "      <td>0.2</td>\n",
       "      <td>0.2</td>\n",
       "      <td>0.2</td>\n",
       "      <td>0.1</td>\n",
       "      <td>61</td>\n",
       "      <td>2020-02</td>\n",
       "      <td>2</td>\n",
       "    </tr>\n",
       "    <tr>\n",
       "      <td>4</td>\n",
       "      <td>4</td>\n",
       "      <td>2020-02-04</td>\n",
       "      <td>FA0240932</td>\n",
       "      <td>THE GREAT ROOM CAFE</td>\n",
       "      <td>THE GREAT ROOM CAFE</td>\n",
       "      <td>ACTIVE</td>\n",
       "      <td>2810 ARTESIA BLVD</td>\n",
       "      <td>REDONDO BEACH</td>\n",
       "      <td>CA</td>\n",
       "      <td>90278</td>\n",
       "      <td>91</td>\n",
       "      <td>A</td>\n",
       "      <td>DA000B8AV</td>\n",
       "      <td>-118.358308</td>\n",
       "      <td>33.872838</td>\n",
       "      <td>OUT OF COMPLIANCE</td>\n",
       "      <td>F006</td>\n",
       "      <td># 06. Adequate handwashing facilities supplied...</td>\n",
       "      <td>2.0</td>\n",
       "      <td>REDONDO BEACH</td>\n",
       "      <td>69316.0</td>\n",
       "      <td>0.2056</td>\n",
       "      <td>0.6614</td>\n",
       "      <td>0.133</td>\n",
       "      <td>0.0272</td>\n",
       "      <td>0.1567</td>\n",
       "      <td>0.6806</td>\n",
       "      <td>0.1302</td>\n",
       "      <td>0.0025</td>\n",
       "      <td>0.0028</td>\n",
       "      <td>0.0462</td>\n",
       "      <td>0.0957</td>\n",
       "      <td>0.1877</td>\n",
       "      <td>0.0393</td>\n",
       "      <td>0.0415</td>\n",
       "      <td>0.111</td>\n",
       "      <td>0.2785</td>\n",
       "      <td>0.5689</td>\n",
       "      <td>105145.0</td>\n",
       "      <td>0.7645</td>\n",
       "      <td>0.116</td>\n",
       "      <td>2</td>\n",
       "      <td>0.1971</td>\n",
       "      <td>0.0599</td>\n",
       "      <td>177.9619</td>\n",
       "      <td>0.499</td>\n",
       "      <td>0.501</td>\n",
       "      <td>216.0</td>\n",
       "      <td>231.0</td>\n",
       "      <td>26.0</td>\n",
       "      <td>84</td>\n",
       "      <td>0.1129</td>\n",
       "      <td>93.0</td>\n",
       "      <td>0.2</td>\n",
       "      <td>0.2</td>\n",
       "      <td>0.2</td>\n",
       "      <td>0.1</td>\n",
       "      <td>61</td>\n",
       "      <td>2020-02</td>\n",
       "      <td>2</td>\n",
       "    </tr>\n",
       "  </tbody>\n",
       "</table>\n",
       "</div>"
      ],
      "text/plain": [
       "   Unnamed: 0 ACTIVITY_DATE FACILITY_ID        FACILITY_NAME  \\\n",
       "0           0    2020-02-04   FA0240932  THE GREAT ROOM CAFE   \n",
       "1           1    2020-02-04   FA0240932  THE GREAT ROOM CAFE   \n",
       "2           2    2020-02-04   FA0240932  THE GREAT ROOM CAFE   \n",
       "3           3    2020-02-04   FA0240932  THE GREAT ROOM CAFE   \n",
       "4           4    2020-02-04   FA0240932  THE GREAT ROOM CAFE   \n",
       "\n",
       "          PROGRAM_NAME PROGRAM_STATUS   FACILITY_ADDRESS  FACILITY_CITY  \\\n",
       "0  THE GREAT ROOM CAFE         ACTIVE  2810 ARTESIA BLVD  REDONDO BEACH   \n",
       "1  THE GREAT ROOM CAFE         ACTIVE  2810 ARTESIA BLVD  REDONDO BEACH   \n",
       "2  THE GREAT ROOM CAFE         ACTIVE  2810 ARTESIA BLVD  REDONDO BEACH   \n",
       "3  THE GREAT ROOM CAFE         ACTIVE  2810 ARTESIA BLVD  REDONDO BEACH   \n",
       "4  THE GREAT ROOM CAFE         ACTIVE  2810 ARTESIA BLVD  REDONDO BEACH   \n",
       "\n",
       "  FACILITY_STATE  FACILITY_ZIP  SCORE GRADE serial_number         LAT  \\\n",
       "0             CA         90278     91     A     DA000B8AV -118.358308   \n",
       "1             CA         90278     91     A     DA000B8AV -118.358308   \n",
       "2             CA         90278     91     A     DA000B8AV -118.358308   \n",
       "3             CA         90278     91     A     DA000B8AV -118.358308   \n",
       "4             CA         90278     91     A     DA000B8AV -118.358308   \n",
       "\n",
       "         LNG   violation_status violation_code  \\\n",
       "0  33.872838  OUT OF COMPLIANCE           F007   \n",
       "1  33.872838  OUT OF COMPLIANCE           F034   \n",
       "2  33.872838  OUT OF COMPLIANCE           F040   \n",
       "3  33.872838  OUT OF COMPLIANCE           F037   \n",
       "4  33.872838  OUT OF COMPLIANCE           F006   \n",
       "\n",
       "                               violation_description  points        GEONAME  \\\n",
       "0     # 07. Proper hot and cold holding temperatures     4.0  REDONDO BEACH   \n",
       "1  # 34. Warewashing facilities: Adequate, mainta...     1.0  REDONDO BEACH   \n",
       "2  # 40. Plumbing: Plumbing in good repair, prope...     1.0  REDONDO BEACH   \n",
       "3  # 37. Adequate ventilation and lighting; desig...     1.0  REDONDO BEACH   \n",
       "4  # 06. Adequate handwashing facilities supplied...     2.0  REDONDO BEACH   \n",
       "\n",
       "   Pop_Tot  Prop_18y  Prop_64y  Prop_65y+  Prop_Blk  Prop_Lat  Prop_Whi  \\\n",
       "0  69316.0    0.2056    0.6614      0.133    0.0272    0.1567    0.6806   \n",
       "1  69316.0    0.2056    0.6614      0.133    0.0272    0.1567    0.6806   \n",
       "2  69316.0    0.2056    0.6614      0.133    0.0272    0.1567    0.6806   \n",
       "3  69316.0    0.2056    0.6614      0.133    0.0272    0.1567    0.6806   \n",
       "4  69316.0    0.2056    0.6614      0.133    0.0272    0.1567    0.6806   \n",
       "\n",
       "   Prop_Asi  Prop_Ami  Prop_NHO  Prop_FPL1  Prop_FPL2  Prop_forb  Prop_Eng  \\\n",
       "0    0.1302    0.0025    0.0028     0.0462     0.0957     0.1877    0.0393   \n",
       "1    0.1302    0.0025    0.0028     0.0462     0.0957     0.1877    0.0393   \n",
       "2    0.1302    0.0025    0.0028     0.0462     0.0957     0.1877    0.0393   \n",
       "3    0.1302    0.0025    0.0028     0.0462     0.0957     0.1877    0.0393   \n",
       "4    0.1302    0.0025    0.0028     0.0462     0.0957     0.1877    0.0393   \n",
       "\n",
       "   Prop_edLH  Prop_edHG  Prop_edSC  Prop_edCG       MHI  Prop_groc  Prop_60mi  \\\n",
       "0     0.0415      0.111     0.2785     0.5689  105145.0     0.7645      0.116   \n",
       "1     0.0415      0.111     0.2785     0.5689  105145.0     0.7645      0.116   \n",
       "2     0.0415      0.111     0.2785     0.5689  105145.0     0.7645      0.116   \n",
       "3     0.0415      0.111     0.2785     0.5689  105145.0     0.7645      0.116   \n",
       "4     0.0415      0.111     0.2785     0.5689  105145.0     0.7645      0.116   \n",
       "\n",
       "   No_farm  Prop_obse  Prop_DM   Rte_CVD  Prop_ownr  Prop_rentr  No_hless  \\\n",
       "0        2     0.1971   0.0599  177.9619      0.499       0.501     216.0   \n",
       "1        2     0.1971   0.0599  177.9619      0.499       0.501     216.0   \n",
       "2        2     0.1971   0.0599  177.9619      0.499       0.501     216.0   \n",
       "3        2     0.1971   0.0599  177.9619      0.499       0.501     216.0   \n",
       "4        2     0.1971   0.0599  177.9619      0.499       0.501     216.0   \n",
       "\n",
       "   Rte_crim  Rte_alco  Propt_envi  Prop_depr  Propt_HPI  Prop_fru  Prop_bev  \\\n",
       "0     231.0      26.0          84     0.1129       93.0       0.2       0.2   \n",
       "1     231.0      26.0          84     0.1129       93.0       0.2       0.2   \n",
       "2     231.0      26.0          84     0.1129       93.0       0.2       0.2   \n",
       "3     231.0      26.0          84     0.1129       93.0       0.2       0.2   \n",
       "4     231.0      26.0          84     0.1129       93.0       0.2       0.2   \n",
       "\n",
       "   Prop_hyp  Prop_marj  new_seats ACTIVITY_DATE_MONTHYEAR  ACTIVITY_DATE_MONTH  \n",
       "0       0.2        0.1         61                 2020-02                    2  \n",
       "1       0.2        0.1         61                 2020-02                    2  \n",
       "2       0.2        0.1         61                 2020-02                    2  \n",
       "3       0.2        0.1         61                 2020-02                    2  \n",
       "4       0.2        0.1         61                 2020-02                    2  "
      ]
     },
     "execution_count": 2,
     "metadata": {},
     "output_type": "execute_result"
    }
   ],
   "source": [
    "# Set up DataFrames\n",
    "rats_df = pd.DataFrame(dataset)\n",
    "rats_df.head()"
   ]
  },
  {
   "cell_type": "code",
   "execution_count": 3,
   "metadata": {},
   "outputs": [
    {
     "data": {
      "text/html": [
       "<div>\n",
       "<style scoped>\n",
       "    .dataframe tbody tr th:only-of-type {\n",
       "        vertical-align: middle;\n",
       "    }\n",
       "\n",
       "    .dataframe tbody tr th {\n",
       "        vertical-align: top;\n",
       "    }\n",
       "\n",
       "    .dataframe thead th {\n",
       "        text-align: right;\n",
       "    }\n",
       "</style>\n",
       "<table border=\"1\" class=\"dataframe\">\n",
       "  <thead>\n",
       "    <tr style=\"text-align: right;\">\n",
       "      <th></th>\n",
       "      <th>ACTIVITY_DATE</th>\n",
       "      <th>FACILITY_ID</th>\n",
       "      <th>FACILITY_NAME</th>\n",
       "      <th>PROGRAM_NAME</th>\n",
       "      <th>PROGRAM_STATUS</th>\n",
       "      <th>FACILITY_ADDRESS</th>\n",
       "      <th>FACILITY_CITY</th>\n",
       "      <th>FACILITY_STATE</th>\n",
       "      <th>FACILITY_ZIP</th>\n",
       "      <th>SCORE</th>\n",
       "      <th>GRADE</th>\n",
       "      <th>serial_number</th>\n",
       "      <th>LAT</th>\n",
       "      <th>LNG</th>\n",
       "      <th>violation_status</th>\n",
       "      <th>violation_code</th>\n",
       "      <th>violation_description</th>\n",
       "      <th>points</th>\n",
       "      <th>GEONAME</th>\n",
       "      <th>Pop_Tot</th>\n",
       "      <th>Prop_18y</th>\n",
       "      <th>Prop_64y</th>\n",
       "      <th>Prop_65y+</th>\n",
       "      <th>Prop_Blk</th>\n",
       "      <th>Prop_Lat</th>\n",
       "      <th>Prop_Whi</th>\n",
       "      <th>Prop_Asi</th>\n",
       "      <th>Prop_Ami</th>\n",
       "      <th>Prop_NHO</th>\n",
       "      <th>Prop_FPL1</th>\n",
       "      <th>Prop_FPL2</th>\n",
       "      <th>Prop_forb</th>\n",
       "      <th>Prop_Eng</th>\n",
       "      <th>Prop_edLH</th>\n",
       "      <th>Prop_edHG</th>\n",
       "      <th>Prop_edSC</th>\n",
       "      <th>Prop_edCG</th>\n",
       "      <th>MHI</th>\n",
       "      <th>Prop_groc</th>\n",
       "      <th>Prop_60mi</th>\n",
       "      <th>No_farm</th>\n",
       "      <th>Prop_obse</th>\n",
       "      <th>Prop_DM</th>\n",
       "      <th>Rte_CVD</th>\n",
       "      <th>Prop_ownr</th>\n",
       "      <th>Prop_rentr</th>\n",
       "      <th>No_hless</th>\n",
       "      <th>Rte_crim</th>\n",
       "      <th>Rte_alco</th>\n",
       "      <th>Propt_envi</th>\n",
       "      <th>Prop_depr</th>\n",
       "      <th>Propt_HPI</th>\n",
       "      <th>Prop_fru</th>\n",
       "      <th>Prop_bev</th>\n",
       "      <th>Prop_hyp</th>\n",
       "      <th>Prop_marj</th>\n",
       "      <th>new_seats</th>\n",
       "      <th>ACTIVITY_DATE_MONTHYEAR</th>\n",
       "      <th>ACTIVITY_DATE_MONTH</th>\n",
       "    </tr>\n",
       "  </thead>\n",
       "  <tbody>\n",
       "    <tr>\n",
       "      <td>0</td>\n",
       "      <td>2020-02-04</td>\n",
       "      <td>FA0240932</td>\n",
       "      <td>THE GREAT ROOM CAFE</td>\n",
       "      <td>THE GREAT ROOM CAFE</td>\n",
       "      <td>ACTIVE</td>\n",
       "      <td>2810 ARTESIA BLVD</td>\n",
       "      <td>REDONDO BEACH</td>\n",
       "      <td>CA</td>\n",
       "      <td>90278</td>\n",
       "      <td>91</td>\n",
       "      <td>A</td>\n",
       "      <td>DA000B8AV</td>\n",
       "      <td>-118.358308</td>\n",
       "      <td>33.872838</td>\n",
       "      <td>OUT OF COMPLIANCE</td>\n",
       "      <td>F007</td>\n",
       "      <td># 07. Proper hot and cold holding temperatures</td>\n",
       "      <td>4.0</td>\n",
       "      <td>REDONDO BEACH</td>\n",
       "      <td>69316.0</td>\n",
       "      <td>0.2056</td>\n",
       "      <td>0.6614</td>\n",
       "      <td>0.133</td>\n",
       "      <td>0.0272</td>\n",
       "      <td>0.1567</td>\n",
       "      <td>0.6806</td>\n",
       "      <td>0.1302</td>\n",
       "      <td>0.0025</td>\n",
       "      <td>0.0028</td>\n",
       "      <td>0.0462</td>\n",
       "      <td>0.0957</td>\n",
       "      <td>0.1877</td>\n",
       "      <td>0.0393</td>\n",
       "      <td>0.0415</td>\n",
       "      <td>0.111</td>\n",
       "      <td>0.2785</td>\n",
       "      <td>0.5689</td>\n",
       "      <td>105145.0</td>\n",
       "      <td>0.7645</td>\n",
       "      <td>0.116</td>\n",
       "      <td>2</td>\n",
       "      <td>0.1971</td>\n",
       "      <td>0.0599</td>\n",
       "      <td>177.9619</td>\n",
       "      <td>0.499</td>\n",
       "      <td>0.501</td>\n",
       "      <td>216.0</td>\n",
       "      <td>231.0</td>\n",
       "      <td>26.0</td>\n",
       "      <td>84</td>\n",
       "      <td>0.1129</td>\n",
       "      <td>93.0</td>\n",
       "      <td>0.2</td>\n",
       "      <td>0.2</td>\n",
       "      <td>0.2</td>\n",
       "      <td>0.1</td>\n",
       "      <td>61</td>\n",
       "      <td>2020-02</td>\n",
       "      <td>2</td>\n",
       "    </tr>\n",
       "    <tr>\n",
       "      <td>1</td>\n",
       "      <td>2020-02-04</td>\n",
       "      <td>FA0240932</td>\n",
       "      <td>THE GREAT ROOM CAFE</td>\n",
       "      <td>THE GREAT ROOM CAFE</td>\n",
       "      <td>ACTIVE</td>\n",
       "      <td>2810 ARTESIA BLVD</td>\n",
       "      <td>REDONDO BEACH</td>\n",
       "      <td>CA</td>\n",
       "      <td>90278</td>\n",
       "      <td>91</td>\n",
       "      <td>A</td>\n",
       "      <td>DA000B8AV</td>\n",
       "      <td>-118.358308</td>\n",
       "      <td>33.872838</td>\n",
       "      <td>OUT OF COMPLIANCE</td>\n",
       "      <td>F034</td>\n",
       "      <td># 34. Warewashing facilities: Adequate, mainta...</td>\n",
       "      <td>1.0</td>\n",
       "      <td>REDONDO BEACH</td>\n",
       "      <td>69316.0</td>\n",
       "      <td>0.2056</td>\n",
       "      <td>0.6614</td>\n",
       "      <td>0.133</td>\n",
       "      <td>0.0272</td>\n",
       "      <td>0.1567</td>\n",
       "      <td>0.6806</td>\n",
       "      <td>0.1302</td>\n",
       "      <td>0.0025</td>\n",
       "      <td>0.0028</td>\n",
       "      <td>0.0462</td>\n",
       "      <td>0.0957</td>\n",
       "      <td>0.1877</td>\n",
       "      <td>0.0393</td>\n",
       "      <td>0.0415</td>\n",
       "      <td>0.111</td>\n",
       "      <td>0.2785</td>\n",
       "      <td>0.5689</td>\n",
       "      <td>105145.0</td>\n",
       "      <td>0.7645</td>\n",
       "      <td>0.116</td>\n",
       "      <td>2</td>\n",
       "      <td>0.1971</td>\n",
       "      <td>0.0599</td>\n",
       "      <td>177.9619</td>\n",
       "      <td>0.499</td>\n",
       "      <td>0.501</td>\n",
       "      <td>216.0</td>\n",
       "      <td>231.0</td>\n",
       "      <td>26.0</td>\n",
       "      <td>84</td>\n",
       "      <td>0.1129</td>\n",
       "      <td>93.0</td>\n",
       "      <td>0.2</td>\n",
       "      <td>0.2</td>\n",
       "      <td>0.2</td>\n",
       "      <td>0.1</td>\n",
       "      <td>61</td>\n",
       "      <td>2020-02</td>\n",
       "      <td>2</td>\n",
       "    </tr>\n",
       "    <tr>\n",
       "      <td>2</td>\n",
       "      <td>2020-02-04</td>\n",
       "      <td>FA0240932</td>\n",
       "      <td>THE GREAT ROOM CAFE</td>\n",
       "      <td>THE GREAT ROOM CAFE</td>\n",
       "      <td>ACTIVE</td>\n",
       "      <td>2810 ARTESIA BLVD</td>\n",
       "      <td>REDONDO BEACH</td>\n",
       "      <td>CA</td>\n",
       "      <td>90278</td>\n",
       "      <td>91</td>\n",
       "      <td>A</td>\n",
       "      <td>DA000B8AV</td>\n",
       "      <td>-118.358308</td>\n",
       "      <td>33.872838</td>\n",
       "      <td>OUT OF COMPLIANCE</td>\n",
       "      <td>F040</td>\n",
       "      <td># 40. Plumbing: Plumbing in good repair, prope...</td>\n",
       "      <td>1.0</td>\n",
       "      <td>REDONDO BEACH</td>\n",
       "      <td>69316.0</td>\n",
       "      <td>0.2056</td>\n",
       "      <td>0.6614</td>\n",
       "      <td>0.133</td>\n",
       "      <td>0.0272</td>\n",
       "      <td>0.1567</td>\n",
       "      <td>0.6806</td>\n",
       "      <td>0.1302</td>\n",
       "      <td>0.0025</td>\n",
       "      <td>0.0028</td>\n",
       "      <td>0.0462</td>\n",
       "      <td>0.0957</td>\n",
       "      <td>0.1877</td>\n",
       "      <td>0.0393</td>\n",
       "      <td>0.0415</td>\n",
       "      <td>0.111</td>\n",
       "      <td>0.2785</td>\n",
       "      <td>0.5689</td>\n",
       "      <td>105145.0</td>\n",
       "      <td>0.7645</td>\n",
       "      <td>0.116</td>\n",
       "      <td>2</td>\n",
       "      <td>0.1971</td>\n",
       "      <td>0.0599</td>\n",
       "      <td>177.9619</td>\n",
       "      <td>0.499</td>\n",
       "      <td>0.501</td>\n",
       "      <td>216.0</td>\n",
       "      <td>231.0</td>\n",
       "      <td>26.0</td>\n",
       "      <td>84</td>\n",
       "      <td>0.1129</td>\n",
       "      <td>93.0</td>\n",
       "      <td>0.2</td>\n",
       "      <td>0.2</td>\n",
       "      <td>0.2</td>\n",
       "      <td>0.1</td>\n",
       "      <td>61</td>\n",
       "      <td>2020-02</td>\n",
       "      <td>2</td>\n",
       "    </tr>\n",
       "    <tr>\n",
       "      <td>3</td>\n",
       "      <td>2020-02-04</td>\n",
       "      <td>FA0240932</td>\n",
       "      <td>THE GREAT ROOM CAFE</td>\n",
       "      <td>THE GREAT ROOM CAFE</td>\n",
       "      <td>ACTIVE</td>\n",
       "      <td>2810 ARTESIA BLVD</td>\n",
       "      <td>REDONDO BEACH</td>\n",
       "      <td>CA</td>\n",
       "      <td>90278</td>\n",
       "      <td>91</td>\n",
       "      <td>A</td>\n",
       "      <td>DA000B8AV</td>\n",
       "      <td>-118.358308</td>\n",
       "      <td>33.872838</td>\n",
       "      <td>OUT OF COMPLIANCE</td>\n",
       "      <td>F037</td>\n",
       "      <td># 37. Adequate ventilation and lighting; desig...</td>\n",
       "      <td>1.0</td>\n",
       "      <td>REDONDO BEACH</td>\n",
       "      <td>69316.0</td>\n",
       "      <td>0.2056</td>\n",
       "      <td>0.6614</td>\n",
       "      <td>0.133</td>\n",
       "      <td>0.0272</td>\n",
       "      <td>0.1567</td>\n",
       "      <td>0.6806</td>\n",
       "      <td>0.1302</td>\n",
       "      <td>0.0025</td>\n",
       "      <td>0.0028</td>\n",
       "      <td>0.0462</td>\n",
       "      <td>0.0957</td>\n",
       "      <td>0.1877</td>\n",
       "      <td>0.0393</td>\n",
       "      <td>0.0415</td>\n",
       "      <td>0.111</td>\n",
       "      <td>0.2785</td>\n",
       "      <td>0.5689</td>\n",
       "      <td>105145.0</td>\n",
       "      <td>0.7645</td>\n",
       "      <td>0.116</td>\n",
       "      <td>2</td>\n",
       "      <td>0.1971</td>\n",
       "      <td>0.0599</td>\n",
       "      <td>177.9619</td>\n",
       "      <td>0.499</td>\n",
       "      <td>0.501</td>\n",
       "      <td>216.0</td>\n",
       "      <td>231.0</td>\n",
       "      <td>26.0</td>\n",
       "      <td>84</td>\n",
       "      <td>0.1129</td>\n",
       "      <td>93.0</td>\n",
       "      <td>0.2</td>\n",
       "      <td>0.2</td>\n",
       "      <td>0.2</td>\n",
       "      <td>0.1</td>\n",
       "      <td>61</td>\n",
       "      <td>2020-02</td>\n",
       "      <td>2</td>\n",
       "    </tr>\n",
       "    <tr>\n",
       "      <td>4</td>\n",
       "      <td>2020-02-04</td>\n",
       "      <td>FA0240932</td>\n",
       "      <td>THE GREAT ROOM CAFE</td>\n",
       "      <td>THE GREAT ROOM CAFE</td>\n",
       "      <td>ACTIVE</td>\n",
       "      <td>2810 ARTESIA BLVD</td>\n",
       "      <td>REDONDO BEACH</td>\n",
       "      <td>CA</td>\n",
       "      <td>90278</td>\n",
       "      <td>91</td>\n",
       "      <td>A</td>\n",
       "      <td>DA000B8AV</td>\n",
       "      <td>-118.358308</td>\n",
       "      <td>33.872838</td>\n",
       "      <td>OUT OF COMPLIANCE</td>\n",
       "      <td>F006</td>\n",
       "      <td># 06. Adequate handwashing facilities supplied...</td>\n",
       "      <td>2.0</td>\n",
       "      <td>REDONDO BEACH</td>\n",
       "      <td>69316.0</td>\n",
       "      <td>0.2056</td>\n",
       "      <td>0.6614</td>\n",
       "      <td>0.133</td>\n",
       "      <td>0.0272</td>\n",
       "      <td>0.1567</td>\n",
       "      <td>0.6806</td>\n",
       "      <td>0.1302</td>\n",
       "      <td>0.0025</td>\n",
       "      <td>0.0028</td>\n",
       "      <td>0.0462</td>\n",
       "      <td>0.0957</td>\n",
       "      <td>0.1877</td>\n",
       "      <td>0.0393</td>\n",
       "      <td>0.0415</td>\n",
       "      <td>0.111</td>\n",
       "      <td>0.2785</td>\n",
       "      <td>0.5689</td>\n",
       "      <td>105145.0</td>\n",
       "      <td>0.7645</td>\n",
       "      <td>0.116</td>\n",
       "      <td>2</td>\n",
       "      <td>0.1971</td>\n",
       "      <td>0.0599</td>\n",
       "      <td>177.9619</td>\n",
       "      <td>0.499</td>\n",
       "      <td>0.501</td>\n",
       "      <td>216.0</td>\n",
       "      <td>231.0</td>\n",
       "      <td>26.0</td>\n",
       "      <td>84</td>\n",
       "      <td>0.1129</td>\n",
       "      <td>93.0</td>\n",
       "      <td>0.2</td>\n",
       "      <td>0.2</td>\n",
       "      <td>0.2</td>\n",
       "      <td>0.1</td>\n",
       "      <td>61</td>\n",
       "      <td>2020-02</td>\n",
       "      <td>2</td>\n",
       "    </tr>\n",
       "  </tbody>\n",
       "</table>\n",
       "</div>"
      ],
      "text/plain": [
       "  ACTIVITY_DATE FACILITY_ID        FACILITY_NAME         PROGRAM_NAME  \\\n",
       "0    2020-02-04   FA0240932  THE GREAT ROOM CAFE  THE GREAT ROOM CAFE   \n",
       "1    2020-02-04   FA0240932  THE GREAT ROOM CAFE  THE GREAT ROOM CAFE   \n",
       "2    2020-02-04   FA0240932  THE GREAT ROOM CAFE  THE GREAT ROOM CAFE   \n",
       "3    2020-02-04   FA0240932  THE GREAT ROOM CAFE  THE GREAT ROOM CAFE   \n",
       "4    2020-02-04   FA0240932  THE GREAT ROOM CAFE  THE GREAT ROOM CAFE   \n",
       "\n",
       "  PROGRAM_STATUS   FACILITY_ADDRESS  FACILITY_CITY FACILITY_STATE  \\\n",
       "0         ACTIVE  2810 ARTESIA BLVD  REDONDO BEACH             CA   \n",
       "1         ACTIVE  2810 ARTESIA BLVD  REDONDO BEACH             CA   \n",
       "2         ACTIVE  2810 ARTESIA BLVD  REDONDO BEACH             CA   \n",
       "3         ACTIVE  2810 ARTESIA BLVD  REDONDO BEACH             CA   \n",
       "4         ACTIVE  2810 ARTESIA BLVD  REDONDO BEACH             CA   \n",
       "\n",
       "   FACILITY_ZIP  SCORE GRADE serial_number         LAT        LNG  \\\n",
       "0         90278     91     A     DA000B8AV -118.358308  33.872838   \n",
       "1         90278     91     A     DA000B8AV -118.358308  33.872838   \n",
       "2         90278     91     A     DA000B8AV -118.358308  33.872838   \n",
       "3         90278     91     A     DA000B8AV -118.358308  33.872838   \n",
       "4         90278     91     A     DA000B8AV -118.358308  33.872838   \n",
       "\n",
       "    violation_status violation_code  \\\n",
       "0  OUT OF COMPLIANCE           F007   \n",
       "1  OUT OF COMPLIANCE           F034   \n",
       "2  OUT OF COMPLIANCE           F040   \n",
       "3  OUT OF COMPLIANCE           F037   \n",
       "4  OUT OF COMPLIANCE           F006   \n",
       "\n",
       "                               violation_description  points        GEONAME  \\\n",
       "0     # 07. Proper hot and cold holding temperatures     4.0  REDONDO BEACH   \n",
       "1  # 34. Warewashing facilities: Adequate, mainta...     1.0  REDONDO BEACH   \n",
       "2  # 40. Plumbing: Plumbing in good repair, prope...     1.0  REDONDO BEACH   \n",
       "3  # 37. Adequate ventilation and lighting; desig...     1.0  REDONDO BEACH   \n",
       "4  # 06. Adequate handwashing facilities supplied...     2.0  REDONDO BEACH   \n",
       "\n",
       "   Pop_Tot  Prop_18y  Prop_64y  Prop_65y+  Prop_Blk  Prop_Lat  Prop_Whi  \\\n",
       "0  69316.0    0.2056    0.6614      0.133    0.0272    0.1567    0.6806   \n",
       "1  69316.0    0.2056    0.6614      0.133    0.0272    0.1567    0.6806   \n",
       "2  69316.0    0.2056    0.6614      0.133    0.0272    0.1567    0.6806   \n",
       "3  69316.0    0.2056    0.6614      0.133    0.0272    0.1567    0.6806   \n",
       "4  69316.0    0.2056    0.6614      0.133    0.0272    0.1567    0.6806   \n",
       "\n",
       "   Prop_Asi  Prop_Ami  Prop_NHO  Prop_FPL1  Prop_FPL2  Prop_forb  Prop_Eng  \\\n",
       "0    0.1302    0.0025    0.0028     0.0462     0.0957     0.1877    0.0393   \n",
       "1    0.1302    0.0025    0.0028     0.0462     0.0957     0.1877    0.0393   \n",
       "2    0.1302    0.0025    0.0028     0.0462     0.0957     0.1877    0.0393   \n",
       "3    0.1302    0.0025    0.0028     0.0462     0.0957     0.1877    0.0393   \n",
       "4    0.1302    0.0025    0.0028     0.0462     0.0957     0.1877    0.0393   \n",
       "\n",
       "   Prop_edLH  Prop_edHG  Prop_edSC  Prop_edCG       MHI  Prop_groc  Prop_60mi  \\\n",
       "0     0.0415      0.111     0.2785     0.5689  105145.0     0.7645      0.116   \n",
       "1     0.0415      0.111     0.2785     0.5689  105145.0     0.7645      0.116   \n",
       "2     0.0415      0.111     0.2785     0.5689  105145.0     0.7645      0.116   \n",
       "3     0.0415      0.111     0.2785     0.5689  105145.0     0.7645      0.116   \n",
       "4     0.0415      0.111     0.2785     0.5689  105145.0     0.7645      0.116   \n",
       "\n",
       "   No_farm  Prop_obse  Prop_DM   Rte_CVD  Prop_ownr  Prop_rentr  No_hless  \\\n",
       "0        2     0.1971   0.0599  177.9619      0.499       0.501     216.0   \n",
       "1        2     0.1971   0.0599  177.9619      0.499       0.501     216.0   \n",
       "2        2     0.1971   0.0599  177.9619      0.499       0.501     216.0   \n",
       "3        2     0.1971   0.0599  177.9619      0.499       0.501     216.0   \n",
       "4        2     0.1971   0.0599  177.9619      0.499       0.501     216.0   \n",
       "\n",
       "   Rte_crim  Rte_alco  Propt_envi  Prop_depr  Propt_HPI  Prop_fru  Prop_bev  \\\n",
       "0     231.0      26.0          84     0.1129       93.0       0.2       0.2   \n",
       "1     231.0      26.0          84     0.1129       93.0       0.2       0.2   \n",
       "2     231.0      26.0          84     0.1129       93.0       0.2       0.2   \n",
       "3     231.0      26.0          84     0.1129       93.0       0.2       0.2   \n",
       "4     231.0      26.0          84     0.1129       93.0       0.2       0.2   \n",
       "\n",
       "   Prop_hyp  Prop_marj  new_seats ACTIVITY_DATE_MONTHYEAR  ACTIVITY_DATE_MONTH  \n",
       "0       0.2        0.1         61                 2020-02                    2  \n",
       "1       0.2        0.1         61                 2020-02                    2  \n",
       "2       0.2        0.1         61                 2020-02                    2  \n",
       "3       0.2        0.1         61                 2020-02                    2  \n",
       "4       0.2        0.1         61                 2020-02                    2  "
      ]
     },
     "execution_count": 3,
     "metadata": {},
     "output_type": "execute_result"
    }
   ],
   "source": [
    "# Delete 'unnamed' columns in DataFrames\n",
    "del rats_df['Unnamed: 0']\n",
    "\n",
    "# Display\n",
    "rats_df.head()"
   ]
  },
  {
   "cell_type": "markdown",
   "metadata": {},
   "source": [
    "__________"
   ]
  },
  {
   "cell_type": "markdown",
   "metadata": {},
   "source": [
    "# Inspections Dataset columns"
   ]
  },
  {
   "cell_type": "markdown",
   "metadata": {},
   "source": [
    "### ACTIVITY_DATE_MONTH"
   ]
  },
  {
   "cell_type": "code",
   "execution_count": 4,
   "metadata": {},
   "outputs": [
    {
     "name": "stdout",
     "output_type": "stream",
     "text": [
      "y = -0.04x + 92.01\n",
      "The p-value is: 0.000\n",
      "The r-value is: -0.029235110517868538\n"
     ]
    }
   ],
   "source": [
    "# x = \"ACTIVITY_DATE_MONTH\"\n",
    "# y = \"SCORE\"\n",
    "\n",
    "# Perform linear regression.\n",
    "(slope, intercept, r_value, p_value, std_err) = linregress(rats_df[\"ACTIVITY_DATE_MONTH\"], rats_df[\"SCORE\"])\n",
    "\n",
    "# Get the equation of the line.\n",
    "line_eq = \"y = \" + str(round(slope,2)) + \"x + \" + str(round(intercept,2))\n",
    "print(line_eq)\n",
    "print(f\"The p-value is: {p_value:.3f}\")\n",
    "print(f\"The r-value is: {r_value}\")"
   ]
  },
  {
   "cell_type": "code",
   "execution_count": 5,
   "metadata": {},
   "outputs": [
    {
     "data": {
      "image/png": "[encoded data removed]",
      "text/plain": [
       "<Figure size 432x288 with 1 Axes>"
      ]
     },
     "metadata": {
      "needs_background": "light"
     },
     "output_type": "display_data"
    }
   ],
   "source": [
    "# Calculate the regression line \"y values\" from the slope and intercept.\n",
    "regress_values = [(month * slope + intercept) for month in rats_df[\"ACTIVITY_DATE_MONTH\"]]\n",
    "\n",
    "# Create a scatter plot of the x and y values.\n",
    "plt.scatter(rats_df[\"ACTIVITY_DATE_MONTH\"], rats_df[\"SCORE\"])\n",
    "\n",
    "# Plot the regression line with the x-values and the y coordinates based on the intercept and slope.\n",
    "plt.plot(rats_df[\"ACTIVITY_DATE_MONTH\"], regress_values, \"r\")\n",
    "\n",
    "# Annotate the text for the line equation and add its coordinates.\n",
    "plt.annotate(line_eq, (2,70), fontsize=15, color=\"red\")\n",
    "plt.xlabel('ACTIVITY_DATE_MONTH')\n",
    "plt.ylabel('SCORE')\n",
    "plt.show()"
   ]
  },
  {
   "cell_type": "markdown",
   "metadata": {},
   "source": [
    "### FACILITY_ZIP"
   ]
  },
  {
   "cell_type": "code",
   "execution_count": 6,
   "metadata": {},
   "outputs": [
    {
     "name": "stdout",
     "output_type": "stream",
     "text": [
      "y = 0.0x + 72.23\n",
      "The p-value is: 0.000\n",
      "The r-value is: 0.04063994974677158\n"
     ]
    }
   ],
   "source": [
    "# x = \"FACILITY_ZIP\"\n",
    "# y = \"SCORE\"\n",
    "\n",
    "# Perform linear regression.\n",
    "(slope, intercept, r_value, p_value, std_err) = linregress(rats_df[\"FACILITY_ZIP\"], rats_df[\"SCORE\"])\n",
    "\n",
    "# Get the equation of the line.\n",
    "line_eq = \"y = \" + str(round(slope,2)) + \"x + \" + str(round(intercept,2))\n",
    "print(line_eq)\n",
    "print(f\"The p-value is: {p_value:.3f}\")\n",
    "print(f\"The r-value is: {r_value}\")"
   ]
  },
  {
   "cell_type": "code",
   "execution_count": 7,
   "metadata": {},
   "outputs": [
    {
     "data": {
      "image/png": "[encoded data removed]",
      "text/plain": [
       "<Figure size 432x288 with 1 Axes>"
      ]
     },
     "metadata": {
      "needs_background": "light"
     },
     "output_type": "display_data"
    }
   ],
   "source": [
    "# Calculate the regression line \"y values\" from the slope and intercept.\n",
    "regress_values = [(zipcode * slope + intercept) for zipcode in rats_df[\"FACILITY_ZIP\"]]\n",
    "\n",
    "# Create a scatter plot of the x and y values.\n",
    "plt.scatter(rats_df[\"FACILITY_ZIP\"], rats_df[\"SCORE\"])\n",
    "\n",
    "# Plot the regression line with the x-values and the y coordinates based on the intercept and slope.\n",
    "plt.plot(rats_df[\"FACILITY_ZIP\"], regress_values, \"r\")\n",
    "\n",
    "# Annotate the text for the line equation and add its coordinates.\n",
    "plt.annotate(line_eq, (0,70), fontsize=15, color=\"red\")\n",
    "plt.xlabel('FACILITY_ZIP')\n",
    "plt.ylabel('SCORE')\n",
    "plt.show()"
   ]
  },
  {
   "cell_type": "markdown",
   "metadata": {},
   "source": [
    "### LAT"
   ]
  },
  {
   "cell_type": "code",
   "execution_count": 8,
   "metadata": {},
   "outputs": [
    {
     "name": "stdout",
     "output_type": "stream",
     "text": [
      "y = -0.81x + -4.1\n",
      "The p-value is: 0.000\n",
      "The r-value is: -0.03441627517684206\n"
     ]
    }
   ],
   "source": [
    "# x = \"LAT\"\n",
    "# y = \"SCORE\"\n",
    "\n",
    "# Perform linear regression.\n",
    "(slope, intercept, r_value, p_value, std_err) = linregress(rats_df[\"LAT\"], rats_df[\"SCORE\"])\n",
    "\n",
    "# Get the equation of the line.\n",
    "line_eq = \"y = \" + str(round(slope,2)) + \"x + \" + str(round(intercept,2))\n",
    "print(line_eq)\n",
    "print(f\"The p-value is: {p_value:.3f}\")\n",
    "print(f\"The r-value is: {r_value}\")"
   ]
  },
  {
   "cell_type": "code",
   "execution_count": 9,
   "metadata": {},
   "outputs": [],
   "source": [
    "# Calculate the regression line \"y values\" from the slope and intercept.\n",
    "regress_values = [(lat * slope + intercept) for lat in rats_df[\"LAT\"]]"
   ]
  },
  {
   "cell_type": "code",
   "execution_count": 10,
   "metadata": {},
   "outputs": [
    {
     "data": {
      "image/png": "[encoded data removed]",
      "text/plain": [
       "<Figure size 432x288 with 1 Axes>"
      ]
     },
     "metadata": {
      "needs_background": "light"
     },
     "output_type": "display_data"
    }
   ],
   "source": [
    "# Create a scatter plot of the x and y values.\n",
    "plt.scatter(rats_df[\"LAT\"], rats_df[\"SCORE\"])\n",
    "\n",
    "# Plot the regression line with the x-values and the y coordinates based on the intercept and slope.\n",
    "plt.plot(rats_df[\"LAT\"], regress_values, \"r\")\n",
    "\n",
    "# Annotate the text for the line equation and add its coordinates.\n",
    "plt.annotate(line_eq,(-120.5,70), fontsize=15, color=\"red\")\n",
    "plt.xlabel('LAT')\n",
    "plt.ylabel('SCORE')\n",
    "plt.show()"
   ]
  },
  {
   "cell_type": "markdown",
   "metadata": {},
   "source": [
    "### LNG"
   ]
  },
  {
   "cell_type": "code",
   "execution_count": 11,
   "metadata": {},
   "outputs": [
    {
     "name": "stdout",
     "output_type": "stream",
     "text": [
      "y = 3.99x + -44.17\n",
      "The p-value is: 0.000\n",
      "The r-value is: 0.13450200989278088\n"
     ]
    }
   ],
   "source": [
    "# x = \"LNG\"\n",
    "# y = \"SCORE\"\n",
    "\n",
    "# Perform linear regression.\n",
    "(slope, intercept, r_value, p_value, std_err) = linregress(rats_df[\"LNG\"], rats_df[\"SCORE\"])\n",
    "\n",
    "# Get the equation of the line.\n",
    "line_eq = \"y = \" + str(round(slope,2)) + \"x + \" + str(round(intercept,2))\n",
    "print(line_eq)\n",
    "print(f\"The p-value is: {p_value:.3f}\")\n",
    "print(f\"The r-value is: {r_value}\")"
   ]
  },
  {
   "cell_type": "code",
   "execution_count": 12,
   "metadata": {},
   "outputs": [
    {
     "data": {
      "image/png": "[encoded data removed]",
      "text/plain": [
       "<Figure size 432x288 with 1 Axes>"
      ]
     },
     "metadata": {
      "needs_background": "light"
     },
     "output_type": "display_data"
    }
   ],
   "source": [
    "# Calculate the regression line \"y values\" from the slope and intercept.\n",
    "regress_values = [(lng * slope + intercept) for lng in rats_df[\"LNG\"]]\n",
    "\n",
    "# Create a scatter plot of the x and y values.\n",
    "plt.scatter(rats_df[\"LNG\"], rats_df[\"SCORE\"])\n",
    "\n",
    "# Plot the regression line with the x-values and the y coordinates based on the intercept and slope.\n",
    "plt.plot(rats_df[\"LNG\"], regress_values, \"r\")\n",
    "\n",
    "# Annotate the text for the line equation and add its coordinates.\n",
    "plt.annotate(line_eq, (34,150), fontsize=15, color=\"red\")\n",
    "plt.xlabel('LNG')\n",
    "plt.ylabel('SCORE')\n",
    "plt.show()"
   ]
  },
  {
   "cell_type": "markdown",
   "metadata": {},
   "source": [
    "__________"
   ]
  },
  {
   "cell_type": "markdown",
   "metadata": {},
   "source": [
    "# Violation Dataset columns"
   ]
  },
  {
   "cell_type": "markdown",
   "metadata": {},
   "source": [
    "### points"
   ]
  },
  {
   "cell_type": "code",
   "execution_count": 13,
   "metadata": {},
   "outputs": [
    {
     "name": "stdout",
     "output_type": "stream",
     "text": [
      "y = -0.98x + 93.09\n",
      "The p-value is: 0.000\n",
      "The r-value is: -0.1995892530328611\n"
     ]
    }
   ],
   "source": [
    "# x = \"points\"\n",
    "# y = \"SCORE\"\n",
    "\n",
    "# Perform linear regression.\n",
    "(slope, intercept, r_value, p_value, std_err) = linregress(rats_df[\"points\"], rats_df[\"SCORE\"])\n",
    "\n",
    "# Get the equation of the line.\n",
    "line_eq = \"y = \" + str(round(slope,2)) + \"x + \" + str(round(intercept,2))\n",
    "print(line_eq)\n",
    "print(f\"The p-value is: {p_value:.3f}\")\n",
    "print(f\"The r-value is: {r_value}\")"
   ]
  },
  {
   "cell_type": "code",
   "execution_count": 14,
   "metadata": {},
   "outputs": [
    {
     "data": {
      "image/png": "[encoded data removed]",
      "text/plain": [
       "<Figure size 432x288 with 1 Axes>"
      ]
     },
     "metadata": {
      "needs_background": "light"
     },
     "output_type": "display_data"
    }
   ],
   "source": [
    "# Calculate the regression line \"y values\" from the slope and intercept.\n",
    "regress_values = [(points * slope + intercept) for points in rats_df[\"points\"]]\n",
    "\n",
    "# Create a scatter plot of the x and y values.\n",
    "plt.scatter(rats_df[\"points\"], rats_df[\"SCORE\"])\n",
    "\n",
    "# Plot the regression line with the x-values and the y coordinates based on the intercept and slope.\n",
    "plt.plot(rats_df[\"points\"], regress_values, \"r\")\n",
    "\n",
    "# Annotate the text for the line equation and add its coordinates.\n",
    "plt.annotate(line_eq, (6,90), fontsize=15, color=\"red\")\n",
    "plt.xlabel('points')\n",
    "plt.ylabel('SCORE')\n",
    "plt.show()"
   ]
  },
  {
   "cell_type": "markdown",
   "metadata": {},
   "source": [
    "__________"
   ]
  },
  {
   "cell_type": "markdown",
   "metadata": {},
   "source": [
    "# Community Health Dataset columns"
   ]
  },
  {
   "cell_type": "markdown",
   "metadata": {},
   "source": [
    "### Pop_Tot"
   ]
  },
  {
   "cell_type": "code",
   "execution_count": 15,
   "metadata": {},
   "outputs": [
    {
     "name": "stdout",
     "output_type": "stream",
     "text": [
      "y = -0.0x + 91.81\n",
      "The p-value is: 0.000\n",
      "The r-value is: -0.010384761611035923\n"
     ]
    }
   ],
   "source": [
    "# x = \"Pop_Tot\"\n",
    "# y = \"SCORE\"\n",
    "\n",
    "# Perform linear regression.\n",
    "(slope, intercept, r_value, p_value, std_err) = linregress(rats_df[\"Pop_Tot\"], rats_df[\"SCORE\"])\n",
    "\n",
    "# Get the equation of the line.\n",
    "line_eq = \"y = \" + str(round(slope,2)) + \"x + \" + str(round(intercept,2))\n",
    "print(line_eq)\n",
    "print(f\"The p-value is: {p_value:.3f}\")\n",
    "print(f\"The r-value is: {r_value}\")"
   ]
  },
  {
   "cell_type": "code",
   "execution_count": 16,
   "metadata": {},
   "outputs": [
    {
     "data": {
      "image/png": "[encoded data removed]",
      "text/plain": [
       "<Figure size 432x288 with 1 Axes>"
      ]
     },
     "metadata": {
      "needs_background": "light"
     },
     "output_type": "display_data"
    }
   ],
   "source": [
    "# Calculate the regression line \"y values\" from the slope and intercept.\n",
    "regress_values = [(pop * slope + intercept) for pop in rats_df[\"Pop_Tot\"]]\n",
    "\n",
    "# Create a scatter plot of the x and y values.\n",
    "plt.scatter(rats_df[\"Pop_Tot\"], rats_df[\"SCORE\"])\n",
    "\n",
    "# Plot the regression line with the x-values and the y coordinates based on the intercept and slope.\n",
    "plt.plot(rats_df[\"Pop_Tot\"], regress_values, \"r\")\n",
    "\n",
    "# Annotate the text for the line equation and add its coordinates.\n",
    "plt.annotate(line_eq, (100,70), fontsize=15, color=\"red\")\n",
    "plt.xlabel('Pop_Tot')\n",
    "plt.ylabel('SCORE')\n",
    "plt.show()"
   ]
  },
  {
   "cell_type": "markdown",
   "metadata": {},
   "source": [
    "### Prop_18y"
   ]
  },
  {
   "cell_type": "code",
   "execution_count": 17,
   "metadata": {},
   "outputs": [
    {
     "name": "stdout",
     "output_type": "stream",
     "text": [
      "y = 6.86x + 90.27\n",
      "The p-value is: 0.000\n",
      "The r-value is: 0.05292147859342104\n"
     ]
    }
   ],
   "source": [
    "# x = \"Prop_18y\"\n",
    "# y = \"SCORE\"\n",
    "\n",
    "# Perform linear regression.\n",
    "(slope, intercept, r_value, p_value, std_err) = linregress(rats_df[\"Prop_18y\"], rats_df[\"SCORE\"])\n",
    "\n",
    "# Get the equation of the line.\n",
    "line_eq = \"y = \" + str(round(slope,2)) + \"x + \" + str(round(intercept,2))\n",
    "print(line_eq)\n",
    "print(f\"The p-value is: {p_value:.3f}\")\n",
    "print(f\"The r-value is: {r_value}\")"
   ]
  },
  {
   "cell_type": "code",
   "execution_count": 18,
   "metadata": {},
   "outputs": [
    {
     "data": {
      "image/png": "[encoded data removed]",
      "text/plain": [
       "<Figure size 432x288 with 1 Axes>"
      ]
     },
     "metadata": {
      "needs_background": "light"
     },
     "output_type": "display_data"
    }
   ],
   "source": [
    "# Calculate the regression line \"y values\" from the slope and intercept.\n",
    "regress_values = [(teen * slope + intercept) for teen in rats_df[\"Prop_18y\"]]\n",
    "\n",
    "# Create a scatter plot of the x and y values.\n",
    "plt.scatter(rats_df[\"Prop_18y\"], rats_df[\"SCORE\"])\n",
    "\n",
    "# Plot the regression line with the x-values and the y coordinates based on the intercept and slope.\n",
    "plt.plot(rats_df[\"Prop_18y\"], regress_values, \"r\")\n",
    "\n",
    "# Annotate the text for the line equation and add its coordinates.\n",
    "plt.annotate(line_eq, (0.05, 70), fontsize=15, color=\"red\")\n",
    "plt.xlabel('Prop_18y')\n",
    "plt.ylabel('SCORE')\n",
    "plt.show()"
   ]
  },
  {
   "cell_type": "markdown",
   "metadata": {},
   "source": [
    "### Prop_64y"
   ]
  },
  {
   "cell_type": "code",
   "execution_count": 19,
   "metadata": {},
   "outputs": [
    {
     "name": "stdout",
     "output_type": "stream",
     "text": [
      "y = 16.67x + 81.01\n",
      "The p-value is: 0.000\n",
      "The r-value is: 0.06184436417164392\n"
     ]
    }
   ],
   "source": [
    "# x = \"Prop_64y\"\n",
    "# y = \"SCORE\"\n",
    "\n",
    "# Perform linear regression.\n",
    "(slope, intercept, r_value, p_value, std_err) = linregress(rats_df[\"Prop_64y\"], rats_df[\"SCORE\"])\n",
    "\n",
    "# Get the equation of the line.\n",
    "line_eq = \"y = \" + str(round(slope,2)) + \"x + \" + str(round(intercept,2))\n",
    "print(line_eq)\n",
    "print(f\"The p-value is: {p_value:.3f}\")\n",
    "print(f\"The r-value is: {r_value}\")"
   ]
  },
  {
   "cell_type": "code",
   "execution_count": 20,
   "metadata": {},
   "outputs": [
    {
     "data": {
      "image/png": "[encoded data removed]",
      "text/plain": [
       "<Figure size 432x288 with 1 Axes>"
      ]
     },
     "metadata": {
      "needs_background": "light"
     },
     "output_type": "display_data"
    }
   ],
   "source": [
    "# Calculate the regression line \"y values\" from the slope and intercept.\n",
    "regress_values = [(adult * slope + intercept) for adult in rats_df[\"Prop_64y\"]]\n",
    "\n",
    "# Create a scatter plot of the x and y values.\n",
    "plt.scatter(rats_df[\"Prop_64y\"], rats_df[\"SCORE\"])\n",
    "\n",
    "# Plot the regression line with the x-values and the y coordinates based on the intercept and slope.\n",
    "plt.plot(rats_df[\"Prop_64y\"], regress_values, \"r\")\n",
    "\n",
    "# Annotate the text for the line equation and add its coordinates.\n",
    "plt.annotate(line_eq, (0.70, 70), fontsize=15, color=\"red\")\n",
    "plt.xlabel('Prop_64y')\n",
    "plt.ylabel('SCORE')\n",
    "plt.show()"
   ]
  },
  {
   "cell_type": "markdown",
   "metadata": {},
   "source": [
    "### Prop_65y+"
   ]
  },
  {
   "cell_type": "code",
   "execution_count": 21,
   "metadata": {},
   "outputs": [
    {
     "name": "stdout",
     "output_type": "stream",
     "text": [
      "y = -12.23x + 93.43\n",
      "The p-value is: 0.000\n",
      "The r-value is: -0.0883560088268196\n"
     ]
    }
   ],
   "source": [
    "# x = \"Prop_65y+\"\n",
    "# y = \"SCORE\"\n",
    "\n",
    "# Perform linear regression.\n",
    "(slope, intercept, r_value, p_value, std_err) = linregress(rats_df[\"Prop_65y+\"], rats_df[\"SCORE\"])\n",
    "\n",
    "# Get the equation of the line.\n",
    "line_eq = \"y = \" + str(round(slope,2)) + \"x + \" + str(round(intercept,2))\n",
    "print(line_eq)\n",
    "print(f\"The p-value is: {p_value:.3f}\")\n",
    "print(f\"The r-value is: {r_value}\")"
   ]
  },
  {
   "cell_type": "code",
   "execution_count": 22,
   "metadata": {},
   "outputs": [
    {
     "data": {
      "image/png": "[encoded data removed]",
      "text/plain": [
       "<Figure size 432x288 with 1 Axes>"
      ]
     },
     "metadata": {
      "needs_background": "light"
     },
     "output_type": "display_data"
    }
   ],
   "source": [
    "# Calculate the regression line \"y values\" from the slope and intercept.\n",
    "regress_values = [(senior * slope + intercept) for senior in rats_df[\"Prop_65y+\"]]\n",
    "\n",
    "# Create a scatter plot of the x and y values.\n",
    "plt.scatter(rats_df[\"Prop_65y+\"], rats_df[\"SCORE\"])\n",
    "\n",
    "# Plot the regression line with the x-values and the y coordinates based on the intercept and slope.\n",
    "plt.plot(rats_df[\"Prop_65y+\"], regress_values, \"r\")\n",
    "\n",
    "# Annotate the text for the line equation and add its coordinates.\n",
    "plt.annotate(line_eq, (0.075, 70), fontsize=15, color=\"red\")\n",
    "plt.xlabel('Prop_65y+')\n",
    "plt.ylabel('SCORE')\n",
    "plt.show()"
   ]
  },
  {
   "cell_type": "markdown",
   "metadata": {},
   "source": [
    "### Prop_Blk  "
   ]
  },
  {
   "cell_type": "code",
   "execution_count": 23,
   "metadata": {},
   "outputs": [
    {
     "name": "stdout",
     "output_type": "stream",
     "text": [
      "y = -2.53x + 91.95\n",
      "The p-value is: 0.000\n",
      "The r-value is: -0.04228736178455405\n"
     ]
    }
   ],
   "source": [
    "# x = \"Prop_Blk\"\n",
    "# y = \"SCORE\"\n",
    "\n",
    "# Perform linear regression.\n",
    "(slope, intercept, r_value, p_value, std_err) = linregress(rats_df[\"Prop_Blk\"], rats_df[\"SCORE\"])\n",
    "\n",
    "# Get the equation of the line.\n",
    "line_eq = \"y = \" + str(round(slope,2)) + \"x + \" + str(round(intercept,2))\n",
    "print(line_eq)\n",
    "print(f\"The p-value is: {p_value:.3f}\")\n",
    "print(f\"The r-value is: {r_value}\")"
   ]
  },
  {
   "cell_type": "code",
   "execution_count": 24,
   "metadata": {},
   "outputs": [
    {
     "data": {
      "image/png": "[encoded data removed]",
      "text/plain": [
       "<Figure size 432x288 with 1 Axes>"
      ]
     },
     "metadata": {
      "needs_background": "light"
     },
     "output_type": "display_data"
    }
   ],
   "source": [
    "# Calculate the regression line \"y values\" from the slope and intercept.\n",
    "regress_values = [(blk * slope + intercept) for blk in rats_df[\"Prop_Blk\"]]\n",
    "\n",
    "# Create a scatter plot of the x and y values.\n",
    "plt.scatter(rats_df[\"Prop_Blk\"], rats_df[\"SCORE\"])\n",
    "\n",
    "# Plot the regression line with the x-values and the y coordinates based on the intercept and slope.\n",
    "plt.plot(rats_df[\"Prop_Blk\"], regress_values, \"r\")\n",
    "\n",
    "# Annotate the text for the line equation and add its coordinates.\n",
    "plt.annotate(line_eq, (0.0, 70), fontsize=15, color=\"red\")\n",
    "plt.xlabel('Prop_Blk')\n",
    "plt.ylabel('SCORE')\n",
    "plt.show()"
   ]
  },
  {
   "cell_type": "markdown",
   "metadata": {},
   "source": [
    "### Prop_Lat"
   ]
  },
  {
   "cell_type": "code",
   "execution_count": 25,
   "metadata": {},
   "outputs": [
    {
     "name": "stdout",
     "output_type": "stream",
     "text": [
      "y = 0.76x + 91.43\n",
      "The p-value is: 0.000\n",
      "The r-value is: 0.04191403517526943\n"
     ]
    }
   ],
   "source": [
    "# x = \"Prop_Lat\"\n",
    "# y = \"SCORE\"\n",
    "\n",
    "# Perform linear regression.\n",
    "(slope, intercept, r_value, p_value, std_err) = linregress(rats_df[\"Prop_Lat\"], rats_df[\"SCORE\"])\n",
    "\n",
    "# Get the equation of the line.\n",
    "line_eq = \"y = \" + str(round(slope,2)) + \"x + \" + str(round(intercept,2))\n",
    "print(line_eq)\n",
    "print(f\"The p-value is: {p_value:.3f}\")\n",
    "print(f\"The r-value is: {r_value}\")"
   ]
  },
  {
   "cell_type": "code",
   "execution_count": 26,
   "metadata": {},
   "outputs": [
    {
     "data": {
      "image/png": "[encoded data removed]",
      "text/plain": [
       "<Figure size 432x288 with 1 Axes>"
      ]
     },
     "metadata": {
      "needs_background": "light"
     },
     "output_type": "display_data"
    }
   ],
   "source": [
    "# Calculate the regression line \"y values\" from the slope and intercept.\n",
    "regress_values = [(latino * slope + intercept) for latino in rats_df[\"Prop_Lat\"]]\n",
    "\n",
    "# Create a scatter plot of the x and y values.\n",
    "plt.scatter(rats_df[\"Prop_Lat\"], rats_df[\"SCORE\"])\n",
    "\n",
    "# Plot the regression line with the x-values and the y coordinates based on the intercept and slope.\n",
    "plt.plot(rats_df[\"Prop_Lat\"], regress_values, \"r\")\n",
    "\n",
    "# Annotate the text for the line equation and add its coordinates.\n",
    "plt.annotate(line_eq, (0.2, 70), fontsize=15, color=\"red\")\n",
    "plt.xlabel('Prop_Lat')\n",
    "plt.ylabel('SCORE')\n",
    "plt.show()"
   ]
  },
  {
   "cell_type": "markdown",
   "metadata": {},
   "source": [
    "### Prop_Whi"
   ]
  },
  {
   "cell_type": "code",
   "execution_count": 27,
   "metadata": {},
   "outputs": [
    {
     "name": "stdout",
     "output_type": "stream",
     "text": [
      "y = 1.36x + 91.36\n",
      "The p-value is: 0.000\n",
      "The r-value is: 0.06909669505534916\n"
     ]
    }
   ],
   "source": [
    "# x = \"Prop_Whi\"\n",
    "# y = \"SCORE\"\n",
    "\n",
    "# Perform linear regression.\n",
    "(slope, intercept, r_value, p_value, std_err) = linregress(rats_df[\"Prop_Whi\"], rats_df[\"SCORE\"])\n",
    "\n",
    "# Get the equation of the line.\n",
    "line_eq = \"y = \" + str(round(slope,2)) + \"x + \" + str(round(intercept,2))\n",
    "print(line_eq)\n",
    "print(f\"The p-value is: {p_value:.3f}\")\n",
    "print(f\"The r-value is: {r_value}\")"
   ]
  },
  {
   "cell_type": "code",
   "execution_count": 28,
   "metadata": {},
   "outputs": [
    {
     "data": {
      "image/png": "[encoded data removed]",
      "text/plain": [
       "<Figure size 432x288 with 1 Axes>"
      ]
     },
     "metadata": {
      "needs_background": "light"
     },
     "output_type": "display_data"
    }
   ],
   "source": [
    "# Calculate the regression line \"y values\" from the slope and intercept.\n",
    "regress_values = [(white * slope + intercept) for white in rats_df[\"Prop_Whi\"]]\n",
    "\n",
    "# Create a scatter plot of the x and y values.\n",
    "plt.scatter(rats_df[\"Prop_Whi\"], rats_df[\"SCORE\"])\n",
    "\n",
    "# Plot the regression line with the x-values and the y coordinates based on the intercept and slope.\n",
    "plt.plot(rats_df[\"Prop_Whi\"], regress_values, \"r\")\n",
    "\n",
    "# Annotate the text for the line equation and add its coordinates.\n",
    "plt.annotate(line_eq, (0.4, 70), fontsize=15, color=\"red\")\n",
    "plt.xlabel('Prop_Whi')\n",
    "plt.ylabel('SCORE')\n",
    "plt.show()"
   ]
  },
  {
   "cell_type": "markdown",
   "metadata": {},
   "source": [
    "### Prop_Asi"
   ]
  },
  {
   "cell_type": "code",
   "execution_count": 29,
   "metadata": {},
   "outputs": [
    {
     "name": "stdout",
     "output_type": "stream",
     "text": [
      "y = -3.64x + 92.38\n",
      "The p-value is: 0.000\n",
      "The r-value is: -0.1355144465842099\n"
     ]
    }
   ],
   "source": [
    "# x = \"Prop_Asi\"\n",
    "# y = \"SCORE\"\n",
    "\n",
    "# Perform linear regression.\n",
    "(slope, intercept, r_value, p_value, std_err) = linregress(rats_df[\"Prop_Asi\"], rats_df[\"SCORE\"])\n",
    "\n",
    "# Get the equation of the line.\n",
    "line_eq = \"y = \" + str(round(slope,2)) + \"x + \" + str(round(intercept,2))\n",
    "print(line_eq)\n",
    "print(f\"The p-value is: {p_value:.3f}\")\n",
    "print(f\"The r-value is: {r_value}\")"
   ]
  },
  {
   "cell_type": "code",
   "execution_count": 30,
   "metadata": {},
   "outputs": [
    {
     "data": {
      "image/png": "[encoded data removed]",
      "text/plain": [
       "<Figure size 432x288 with 1 Axes>"
      ]
     },
     "metadata": {
      "needs_background": "light"
     },
     "output_type": "display_data"
    }
   ],
   "source": [
    "# Calculate the regression line \"y values\" from the slope and intercept.\n",
    "regress_values = [(asian * slope + intercept) for asian in rats_df[\"Prop_Asi\"]]\n",
    "\n",
    "# Create a scatter plot of the x and y values.\n",
    "plt.scatter(rats_df[\"Prop_Asi\"], rats_df[\"SCORE\"])\n",
    "\n",
    "# Plot the regression line with the x-values and the y coordinates based on the intercept and slope.\n",
    "plt.plot(rats_df[\"Prop_Asi\"], regress_values, \"r\")\n",
    "\n",
    "# Annotate the text for the line equation and add its coordinates.\n",
    "plt.annotate(line_eq, (0.2,70), fontsize=15, color=\"red\")\n",
    "plt.xlabel('Prop_Asi')\n",
    "plt.ylabel('SCORE')\n",
    "plt.show()"
   ]
  },
  {
   "cell_type": "markdown",
   "metadata": {},
   "source": [
    "### Prop_Ami  "
   ]
  },
  {
   "cell_type": "code",
   "execution_count": 31,
   "metadata": {},
   "outputs": [
    {
     "name": "stdout",
     "output_type": "stream",
     "text": [
      "y = 474.95x + 90.9\n",
      "The p-value is: 0.000\n",
      "The r-value is: 0.06410464190499209\n"
     ]
    }
   ],
   "source": [
    "# x = \"Prop_Ami\"\n",
    "# y = \"SCORE\"\n",
    "\n",
    "# Perform linear regression.\n",
    "(slope, intercept, r_value, p_value, std_err) = linregress(rats_df[\"Prop_Ami\"], rats_df[\"SCORE\"])\n",
    "\n",
    "# Get the equation of the line.\n",
    "line_eq = \"y = \" + str(round(slope,2)) + \"x + \" + str(round(intercept,2))\n",
    "print(line_eq)\n",
    "print(f\"The p-value is: {p_value:.3f}\")\n",
    "print(f\"The r-value is: {r_value}\")"
   ]
  },
  {
   "cell_type": "code",
   "execution_count": 32,
   "metadata": {},
   "outputs": [
    {
     "data": {
      "image/png": "[encoded data removed]",
      "text/plain": [
       "<Figure size 432x288 with 1 Axes>"
      ]
     },
     "metadata": {
      "needs_background": "light"
     },
     "output_type": "display_data"
    }
   ],
   "source": [
    "# Calculate the regression line \"y values\" from the slope and intercept.\n",
    "regress_values = [(ami * slope + intercept) for ami in rats_df[\"Prop_Ami\"]]\n",
    "\n",
    "# Create a scatter plot of the x and y values.\n",
    "plt.scatter(rats_df[\"Prop_Ami\"], rats_df[\"SCORE\"])\n",
    "\n",
    "# Plot the regression line with the x-values and the y coordinates based on the intercept and slope.\n",
    "plt.plot(rats_df[\"Prop_Ami\"], regress_values, \"r\")\n",
    "\n",
    "# Annotate the text for the line equation and add its coordinates.\n",
    "plt.annotate(line_eq, (-0.005, 70), fontsize=15, color=\"red\")\n",
    "plt.xlabel('Prop_Ami')\n",
    "plt.ylabel('SCORE')\n",
    "plt.show()"
   ]
  },
  {
   "cell_type": "markdown",
   "metadata": {},
   "source": [
    "### Prop_NHO"
   ]
  },
  {
   "cell_type": "code",
   "execution_count": 33,
   "metadata": {},
   "outputs": [
    {
     "name": "stdout",
     "output_type": "stream",
     "text": [
      "y = -68.65x + 91.92\n",
      "The p-value is: 0.000\n",
      "The r-value is: -0.06402541465547788\n"
     ]
    }
   ],
   "source": [
    "# x = \"Prop_NHO\"\n",
    "# y = \"SCORE\"\n",
    "\n",
    "# Perform linear regression.\n",
    "(slope, intercept, r_value, p_value, std_err) = linregress(rats_df[\"Prop_NHO\"], rats_df[\"SCORE\"])\n",
    "\n",
    "# Get the equation of the line.\n",
    "line_eq = \"y = \" + str(round(slope,2)) + \"x + \" + str(round(intercept,2))\n",
    "print(line_eq)\n",
    "print(f\"The p-value is: {p_value:.3f}\")\n",
    "print(f\"The r-value is: {r_value}\")"
   ]
  },
  {
   "cell_type": "code",
   "execution_count": 34,
   "metadata": {},
   "outputs": [
    {
     "data": {
      "image/png": "[encoded data removed]",
      "text/plain": [
       "<Figure size 432x288 with 1 Axes>"
      ]
     },
     "metadata": {
      "needs_background": "light"
     },
     "output_type": "display_data"
    }
   ],
   "source": [
    "# Calculate the regression line \"y values\" from the slope and intercept.\n",
    "regress_values = [(nho * slope + intercept) for nho in rats_df[\"Prop_NHO\"]]\n",
    "\n",
    "# Create a scatter plot of the x and y values.\n",
    "plt.scatter(rats_df[\"Prop_NHO\"], rats_df[\"SCORE\"])\n",
    "\n",
    "# Plot the regression line with the x-values and the y coordinates based on the intercept and slope.\n",
    "plt.plot(rats_df[\"Prop_NHO\"], regress_values, \"r\")\n",
    "\n",
    "# Annotate the text for the line equation and add its coordinates.\n",
    "plt.annotate(line_eq, (-0.01, 70), fontsize=15, color=\"red\")\n",
    "plt.xlabel('Prop_NHO')\n",
    "plt.ylabel('SCORE')\n",
    "plt.show()"
   ]
  },
  {
   "cell_type": "markdown",
   "metadata": {},
   "source": [
    "### Prop_FPL1 "
   ]
  },
  {
   "cell_type": "code",
   "execution_count": 35,
   "metadata": {},
   "outputs": [
    {
     "name": "stdout",
     "output_type": "stream",
     "text": [
      "y = 1.81x + 91.51\n",
      "The p-value is: 0.000\n",
      "The r-value is: 0.02554529706618689\n"
     ]
    }
   ],
   "source": [
    "# x = \"Prop_FPL1\"\n",
    "# y = \"SCORE\"\n",
    "\n",
    "# Perform linear regression.\n",
    "(slope, intercept, r_value, p_value, std_err) = linregress(rats_df[\"Prop_FPL1\"], rats_df[\"SCORE\"])\n",
    "\n",
    "# Get the equation of the line.\n",
    "line_eq = \"y = \" + str(round(slope,2)) + \"x + \" + str(round(intercept,2))\n",
    "print(line_eq)\n",
    "print(f\"The p-value is: {p_value:.3f}\")\n",
    "print(f\"The r-value is: {r_value}\")"
   ]
  },
  {
   "cell_type": "code",
   "execution_count": 36,
   "metadata": {},
   "outputs": [
    {
     "data": {
      "image/png": "[encoded data removed]",
      "text/plain": [
       "<Figure size 432x288 with 1 Axes>"
      ]
     },
     "metadata": {
      "needs_background": "light"
     },
     "output_type": "display_data"
    }
   ],
   "source": [
    "# Calculate the regression line \"y values\" from the slope and intercept.\n",
    "regress_values = [(fpl * slope + intercept) for fpl in rats_df[\"Prop_FPL1\"]]\n",
    "\n",
    "# Create a scatter plot of the x and y values.\n",
    "plt.scatter(rats_df[\"Prop_FPL1\"], rats_df[\"SCORE\"])\n",
    "\n",
    "# Plot the regression line with the x-values and the y coordinates based on the intercept and slope.\n",
    "plt.plot(rats_df[\"Prop_FPL1\"], regress_values, \"r\")\n",
    "\n",
    "# Annotate the text for the line equation and add its coordinates.\n",
    "plt.annotate(line_eq, (0.05, 70), fontsize=15, color=\"red\")\n",
    "plt.xlabel('Prop_FPL1')\n",
    "plt.ylabel('SCORE')\n",
    "plt.show()"
   ]
  },
  {
   "cell_type": "markdown",
   "metadata": {},
   "source": [
    "### Prop_FPL2"
   ]
  },
  {
   "cell_type": "code",
   "execution_count": 37,
   "metadata": {},
   "outputs": [
    {
     "name": "stdout",
     "output_type": "stream",
     "text": [
      "y = 0.59x + 91.57\n",
      "The p-value is: 0.000\n",
      "The r-value is: 0.019188981484125785\n"
     ]
    }
   ],
   "source": [
    "# x = \"Prop_FPL2\"\n",
    "# y = \"SCORE\"\n",
    "\n",
    "# Perform linear regression.\n",
    "(slope, intercept, r_value, p_value, std_err) = linregress(rats_df[\"Prop_FPL2\"], rats_df[\"SCORE\"])\n",
    "\n",
    "# Get the equation of the line.\n",
    "line_eq = \"y = \" + str(round(slope,2)) + \"x + \" + str(round(intercept,2))\n",
    "print(line_eq)\n",
    "print(f\"The p-value is: {p_value:.3f}\")\n",
    "print(f\"The r-value is: {r_value}\")"
   ]
  },
  {
   "cell_type": "code",
   "execution_count": 38,
   "metadata": {},
   "outputs": [
    {
     "data": {
      "image/png": "[encoded data removed]",
      "text/plain": [
       "<Figure size 432x288 with 1 Axes>"
      ]
     },
     "metadata": {
      "needs_background": "light"
     },
     "output_type": "display_data"
    }
   ],
   "source": [
    "# Calculate the regression line \"y values\" from the slope and intercept.\n",
    "regress_values = [(fpl2 * slope + intercept) for fpl2 in rats_df[\"Prop_FPL2\"]]\n",
    "\n",
    "# Create a scatter plot of the x and y values.\n",
    "plt.scatter(rats_df[\"Prop_FPL2\"], rats_df[\"SCORE\"])\n",
    "\n",
    "# Plot the regression line with the x-values and the y coordinates based on the intercept and slope.\n",
    "plt.plot(rats_df[\"Prop_FPL2\"], regress_values, \"r\")\n",
    "\n",
    "# Annotate the text for the line equation and add its coordinates.\n",
    "plt.annotate(line_eq, (0.5, 70), fontsize=15, color=\"red\")\n",
    "plt.xlabel('Prop_FPL2')\n",
    "plt.ylabel('SCORE')\n",
    "plt.show()"
   ]
  },
  {
   "cell_type": "markdown",
   "metadata": {},
   "source": [
    "### Prop_forb "
   ]
  },
  {
   "cell_type": "code",
   "execution_count": 39,
   "metadata": {},
   "outputs": [
    {
     "name": "stdout",
     "output_type": "stream",
     "text": [
      "y = -2.84x + 92.78\n",
      "The p-value is: 0.000\n",
      "The r-value is: -0.06094201388638619\n"
     ]
    }
   ],
   "source": [
    "# x = \"Prop_forb\"\n",
    "# y = \"SCORE\"\n",
    "\n",
    "# Perform linear regression.\n",
    "(slope, intercept, r_value, p_value, std_err) = linregress(rats_df[\"Prop_forb\"], rats_df[\"SCORE\"])\n",
    "\n",
    "# Get the equation of the line.\n",
    "line_eq = \"y = \" + str(round(slope,2)) + \"x + \" + str(round(intercept,2))\n",
    "print(line_eq)\n",
    "print(f\"The p-value is: {p_value:.3f}\")\n",
    "print(f\"The r-value is: {r_value}\")"
   ]
  },
  {
   "cell_type": "code",
   "execution_count": 40,
   "metadata": {},
   "outputs": [
    {
     "data": {
      "image/png": "[encoded data removed]",
      "text/plain": [
       "<Figure size 432x288 with 1 Axes>"
      ]
     },
     "metadata": {
      "needs_background": "light"
     },
     "output_type": "display_data"
    }
   ],
   "source": [
    "# Calculate the regression line \"y values\" from the slope and intercept.\n",
    "regress_values = [(forb * slope + intercept) for forb in rats_df[\"Prop_forb\"]]\n",
    "\n",
    "# Create a scatter plot of the x and y values.\n",
    "plt.scatter(rats_df[\"Prop_forb\"], rats_df[\"SCORE\"])\n",
    "\n",
    "# Plot the regression line with the x-values and the y coordinates based on the intercept and slope.\n",
    "plt.plot(rats_df[\"Prop_forb\"], regress_values, \"r\")\n",
    "\n",
    "# Annotate the text for the line equation and add its coordinates.\n",
    "plt.annotate(line_eq, (0.4, 70), fontsize=15, color=\"red\")\n",
    "plt.xlabel('Prop_forb')\n",
    "plt.ylabel('SCORE')\n",
    "plt.show()"
   ]
  },
  {
   "cell_type": "markdown",
   "metadata": {},
   "source": [
    "### Prop_Eng "
   ]
  },
  {
   "cell_type": "code",
   "execution_count": 41,
   "metadata": {},
   "outputs": [
    {
     "name": "stdout",
     "output_type": "stream",
     "text": [
      "y = -2.99x + 92.19\n",
      "The p-value is: 0.000\n",
      "The r-value is: -0.04563097139516348\n"
     ]
    }
   ],
   "source": [
    "# x = \"Prop_Eng\"\n",
    "# y = \"SCORE\"\n",
    "\n",
    "# Perform linear regression.\n",
    "(slope, intercept, r_value, p_value, std_err) = linregress(rats_df[\"Prop_Eng\"], rats_df[\"SCORE\"])\n",
    "\n",
    "# Get the equation of the line.\n",
    "line_eq = \"y = \" + str(round(slope,2)) + \"x + \" + str(round(intercept,2))\n",
    "print(line_eq)\n",
    "print(f\"The p-value is: {p_value:.3f}\")\n",
    "print(f\"The r-value is: {r_value}\")"
   ]
  },
  {
   "cell_type": "code",
   "execution_count": 42,
   "metadata": {},
   "outputs": [
    {
     "data": {
      "image/png": "[encoded data removed]",
      "text/plain": [
       "<Figure size 432x288 with 1 Axes>"
      ]
     },
     "metadata": {
      "needs_background": "light"
     },
     "output_type": "display_data"
    }
   ],
   "source": [
    "# Calculate the regression line \"y values\" from the slope and intercept.\n",
    "regress_values = [(eng * slope + intercept) for eng in rats_df[\"Prop_Eng\"]]\n",
    "\n",
    "# Create a scatter plot of the x and y values.\n",
    "plt.scatter(rats_df[\"Prop_Eng\"], rats_df[\"SCORE\"])\n",
    "\n",
    "# Plot the regression line with the x-values and the y coordinates based on the intercept and slope.\n",
    "plt.plot(rats_df[\"Prop_Eng\"], regress_values, \"r\")\n",
    "\n",
    "# Annotate the text for the line equation and add its coordinates.\n",
    "plt.annotate(line_eq, (0.00, 70), fontsize=15, color=\"red\")\n",
    "plt.xlabel('Prop_Eng')\n",
    "plt.ylabel('SCORE')\n",
    "plt.show()"
   ]
  },
  {
   "cell_type": "markdown",
   "metadata": {},
   "source": [
    "### Prop_edLH"
   ]
  },
  {
   "cell_type": "code",
   "execution_count": 43,
   "metadata": {},
   "outputs": [
    {
     "name": "stdout",
     "output_type": "stream",
     "text": [
      "y = 0.78x + 91.61\n",
      "The p-value is: 0.000\n",
      "The r-value is: 0.02117324916388955\n"
     ]
    }
   ],
   "source": [
    "# x = \"Prop_edLH\"\n",
    "# y = \"SCORE\"\n",
    "\n",
    "# Perform linear regression.\n",
    "(slope, intercept, r_value, p_value, std_err) = linregress(rats_df[\"Prop_edLH\"], rats_df[\"SCORE\"])\n",
    "\n",
    "# Get the equation of the line.\n",
    "line_eq = \"y = \" + str(round(slope,2)) + \"x + \" + str(round(intercept,2))\n",
    "print(line_eq)\n",
    "print(f\"The p-value is: {p_value:.3f}\")\n",
    "print(f\"The r-value is: {r_value}\")"
   ]
  },
  {
   "cell_type": "code",
   "execution_count": 44,
   "metadata": {},
   "outputs": [
    {
     "data": {
      "image/png": "[encoded data removed]",
      "text/plain": [
       "<Figure size 432x288 with 1 Axes>"
      ]
     },
     "metadata": {
      "needs_background": "light"
     },
     "output_type": "display_data"
    }
   ],
   "source": [
    "# Calculate the regression line \"y values\" from the slope and intercept.\n",
    "regress_values = [(edlh * slope + intercept) for edlh in rats_df[\"Prop_edLH\"]]\n",
    "\n",
    "# Create a scatter plot of the x and y values.\n",
    "plt.scatter(rats_df[\"Prop_edLH\"], rats_df[\"SCORE\"])\n",
    "\n",
    "# Plot the regression line with the x-values and the y coordinates based on the intercept and slope.\n",
    "plt.plot(rats_df[\"Prop_edLH\"], regress_values, \"r\")\n",
    "\n",
    "# Annotate the text for the line equation and add its coordinates.\n",
    "plt.annotate(line_eq, (0.0, 70), fontsize=15, color=\"red\")\n",
    "plt.xlabel('Prop_edLH')\n",
    "plt.ylabel('SCORE')\n",
    "plt.show()"
   ]
  },
  {
   "cell_type": "markdown",
   "metadata": {},
   "source": [
    "### Prop_edHG"
   ]
  },
  {
   "cell_type": "code",
   "execution_count": 45,
   "metadata": {},
   "outputs": [
    {
     "name": "stdout",
     "output_type": "stream",
     "text": [
      "y = -0.07x + 91.79\n",
      "The p-value is: 0.483\n",
      "The r-value is: -0.0008043727634495934\n"
     ]
    }
   ],
   "source": [
    "# x = \"Prop_edHG\"\n",
    "# y = \"SCORE\"\n",
    "\n",
    "# Perform linear regression.\n",
    "(slope, intercept, r_value, p_value, std_err) = linregress(rats_df[\"Prop_edHG\"], rats_df[\"SCORE\"])\n",
    "\n",
    "# Get the equation of the line.\n",
    "line_eq = \"y = \" + str(round(slope,2)) + \"x + \" + str(round(intercept,2))\n",
    "print(line_eq)\n",
    "print(f\"The p-value is: {p_value:.3f}\")\n",
    "print(f\"The r-value is: {r_value}\")"
   ]
  },
  {
   "cell_type": "code",
   "execution_count": 46,
   "metadata": {},
   "outputs": [
    {
     "data": {
      "image/png": "[encoded data removed]",
      "text/plain": [
       "<Figure size 432x288 with 1 Axes>"
      ]
     },
     "metadata": {
      "needs_background": "light"
     },
     "output_type": "display_data"
    }
   ],
   "source": [
    "# Calculate the regression line \"y values\" from the slope and intercept.\n",
    "regress_values = [(edhg * slope + intercept) for edhg in rats_df[\"Prop_edHG\"]]\n",
    "\n",
    "# Create a scatter plot of the x and y values.\n",
    "plt.scatter(rats_df[\"Prop_edHG\"], rats_df[\"SCORE\"])\n",
    "\n",
    "# Plot the regression line with the x-values and the y coordinates based on the intercept and slope.\n",
    "plt.plot(rats_df[\"Prop_edHG\"], regress_values, \"r\")\n",
    "\n",
    "# Annotate the text for the line equation and add its coordinates.\n",
    "plt.annotate(line_eq, (0.05, 70), fontsize=15, color=\"red\")\n",
    "plt.xlabel('Prop_edHG')\n",
    "plt.ylabel('SCORE')\n",
    "plt.show()"
   ]
  },
  {
   "cell_type": "markdown",
   "metadata": {},
   "source": [
    "### Prop_edSC "
   ]
  },
  {
   "cell_type": "code",
   "execution_count": 47,
   "metadata": {},
   "outputs": [
    {
     "name": "stdout",
     "output_type": "stream",
     "text": [
      "y = -0.43x + 91.89\n",
      "The p-value is: 0.000\n",
      "The r-value is: -0.005145130048850284\n"
     ]
    }
   ],
   "source": [
    "# x = \"Prop_edSC\"\n",
    "# y = \"SCORE\"\n",
    "\n",
    "# Perform linear regression.\n",
    "(slope, intercept, r_value, p_value, std_err) = linregress(rats_df[\"Prop_edSC\"], rats_df[\"SCORE\"])\n",
    "\n",
    "# Get the equation of the line.\n",
    "line_eq = \"y = \" + str(round(slope,2)) + \"x + \" + str(round(intercept,2))\n",
    "print(line_eq)\n",
    "print(f\"The p-value is: {p_value:.3f}\")\n",
    "print(f\"The r-value is: {r_value}\")"
   ]
  },
  {
   "cell_type": "code",
   "execution_count": 48,
   "metadata": {},
   "outputs": [
    {
     "data": {
      "image/png": "[encoded data removed]",
      "text/plain": [
       "<Figure size 432x288 with 1 Axes>"
      ]
     },
     "metadata": {
      "needs_background": "light"
     },
     "output_type": "display_data"
    }
   ],
   "source": [
    "# Calculate the regression line \"y values\" from the slope and intercept.\n",
    "regress_values = [(edsc * slope + intercept) for edsc in rats_df[\"Prop_edSC\"]]\n",
    "\n",
    "# Create a scatter plot of the x and y values.\n",
    "plt.scatter(rats_df[\"Prop_edSC\"], rats_df[\"SCORE\"])\n",
    "\n",
    "# Plot the regression line with the x-values and the y coordinates based on the intercept and slope.\n",
    "plt.plot(rats_df[\"Prop_edSC\"], regress_values, \"r\")\n",
    "\n",
    "# Annotate the text for the line equation and add its coordinates.\n",
    "plt.annotate(line_eq, (0.15, 70), fontsize=15, color=\"red\")\n",
    "plt.xlabel('Prop_edSC')\n",
    "plt.ylabel('SCORE')\n",
    "plt.show()"
   ]
  },
  {
   "cell_type": "markdown",
   "metadata": {},
   "source": [
    "### Prop_edCG "
   ]
  },
  {
   "cell_type": "code",
   "execution_count": 49,
   "metadata": {},
   "outputs": [
    {
     "name": "stdout",
     "output_type": "stream",
     "text": [
      "y = -0.43x + 91.91\n",
      "The p-value is: 0.000\n",
      "The r-value is: -0.014791259238407265\n"
     ]
    }
   ],
   "source": [
    "# x = \"Prop_edSC\"\n",
    "# y = \"SCORE\"\n",
    "\n",
    "# Perform linear regression.\n",
    "(slope, intercept, r_value, p_value, std_err) = linregress(rats_df[\"Prop_edCG\"], rats_df[\"SCORE\"])\n",
    "\n",
    "# Get the equation of the line.\n",
    "line_eq = \"y = \" + str(round(slope,2)) + \"x + \" + str(round(intercept,2))\n",
    "print(line_eq)\n",
    "print(f\"The p-value is: {p_value:.3f}\")\n",
    "print(f\"The r-value is: {r_value}\")"
   ]
  },
  {
   "cell_type": "code",
   "execution_count": 50,
   "metadata": {},
   "outputs": [
    {
     "data": {
      "image/png": "[encoded data removed]",
      "text/plain": [
       "<Figure size 432x288 with 1 Axes>"
      ]
     },
     "metadata": {
      "needs_background": "light"
     },
     "output_type": "display_data"
    }
   ],
   "source": [
    "# Calculate the regression line \"y values\" from the slope and intercept.\n",
    "regress_values = [(edcg * slope + intercept) for edcg in rats_df[\"Prop_edCG\"]]\n",
    "\n",
    "# Create a scatter plot of the x and y values.\n",
    "plt.scatter(rats_df[\"Prop_edCG\"], rats_df[\"SCORE\"])\n",
    "\n",
    "# Plot the regression line with the x-values and the y coordinates based on the intercept and slope.\n",
    "plt.plot(rats_df[\"Prop_edCG\"], regress_values, \"r\")\n",
    "\n",
    "# Annotate the text for the line equation and add its coordinates.\n",
    "plt.annotate(line_eq, (0.05, 70), fontsize=15, color=\"red\")\n",
    "plt.xlabel('Prop_edCG')\n",
    "plt.ylabel('SCORE')\n",
    "plt.show()"
   ]
  },
  {
   "cell_type": "markdown",
   "metadata": {},
   "source": [
    "### MHI "
   ]
  },
  {
   "cell_type": "code",
   "execution_count": 51,
   "metadata": {},
   "outputs": [
    {
     "name": "stdout",
     "output_type": "stream",
     "text": [
      "y = 0.0x + 91.75\n",
      "The p-value is: 0.129\n",
      "The r-value is: 0.0017436602665052011\n"
     ]
    }
   ],
   "source": [
    "# x = \"MHI\"\n",
    "# y = \"SCORE\"\n",
    "\n",
    "# Perform linear regression.\n",
    "(slope, intercept, r_value, p_value, std_err) = linregress(rats_df[\"MHI\"], rats_df[\"SCORE\"])\n",
    "\n",
    "# Get the equation of the line.\n",
    "line_eq = \"y = \" + str(round(slope,2)) + \"x + \" + str(round(intercept,2))\n",
    "print(line_eq)\n",
    "print(f\"The p-value is: {p_value:.3f}\")\n",
    "print(f\"The r-value is: {r_value}\")"
   ]
  },
  {
   "cell_type": "code",
   "execution_count": 52,
   "metadata": {},
   "outputs": [
    {
     "data": {
      "image/png": "[encoded data removed]",
      "text/plain": [
       "<Figure size 432x288 with 1 Axes>"
      ]
     },
     "metadata": {
      "needs_background": "light"
     },
     "output_type": "display_data"
    }
   ],
   "source": [
    "# Calculate the regression line \"y values\" from the slope and intercept.\n",
    "regress_values = [(income * slope + intercept) for income in rats_df[\"MHI\"]]\n",
    "\n",
    "# Create a scatter plot of the x and y values.\n",
    "plt.scatter(rats_df[\"MHI\"], rats_df[\"SCORE\"])\n",
    "\n",
    "# Plot the regression line with the x-values and the y coordinates based on the intercept and slope.\n",
    "plt.plot(rats_df[\"MHI\"], regress_values, \"r\")\n",
    "\n",
    "# Annotate the text for the line equation and add its coordinates.\n",
    "plt.annotate(line_eq, (120000, 70), fontsize=15, color=\"red\")\n",
    "plt.xlabel('MHI')\n",
    "plt.ylabel('SCORE')\n",
    "plt.show()"
   ]
  },
  {
   "cell_type": "markdown",
   "metadata": {},
   "source": [
    "### Prop_groc"
   ]
  },
  {
   "cell_type": "code",
   "execution_count": 53,
   "metadata": {},
   "outputs": [
    {
     "name": "stdout",
     "output_type": "stream",
     "text": [
      "y = -0.76x + 92.25\n",
      "The p-value is: 0.000\n",
      "The r-value is: -0.025092947507385582\n"
     ]
    }
   ],
   "source": [
    "# x = \"Prop_groc\"\n",
    "# y = \"SCORE\"\n",
    "\n",
    "# Perform linear regression.\n",
    "(slope, intercept, r_value, p_value, std_err) = linregress(rats_df[\"Prop_groc\"], rats_df[\"SCORE\"])\n",
    "\n",
    "# Get the equation of the line.\n",
    "line_eq = \"y = \" + str(round(slope,2)) + \"x + \" + str(round(intercept,2))\n",
    "print(line_eq)\n",
    "print(f\"The p-value is: {p_value:.3f}\")\n",
    "print(f\"The r-value is: {r_value}\")"
   ]
  },
  {
   "cell_type": "code",
   "execution_count": 54,
   "metadata": {},
   "outputs": [
    {
     "data": {
      "image/png": "[encoded data removed]",
      "text/plain": [
       "<Figure size 432x288 with 1 Axes>"
      ]
     },
     "metadata": {
      "needs_background": "light"
     },
     "output_type": "display_data"
    }
   ],
   "source": [
    "# Calculate the regression line \"y values\" from the slope and intercept.\n",
    "regress_values = [(groc * slope + intercept) for groc in rats_df[\"Prop_groc\"]]\n",
    "\n",
    "# Create a scatter plot of the x and y values.\n",
    "plt.scatter(rats_df[\"Prop_groc\"], rats_df[\"SCORE\"])\n",
    "\n",
    "# Plot the regression line with the x-values and the y coordinates based on the intercept and slope.\n",
    "plt.plot(rats_df[\"Prop_groc\"], regress_values, \"r\")\n",
    "\n",
    "# Annotate the text for the line equation and add its coordinates.\n",
    "plt.annotate(line_eq, (0.2, 70), fontsize=15, color=\"red\")\n",
    "plt.xlabel('Prop_groc')\n",
    "plt.ylabel('SCORE')\n",
    "plt.show()"
   ]
  },
  {
   "cell_type": "markdown",
   "metadata": {},
   "source": [
    "### Prop_60mi "
   ]
  },
  {
   "cell_type": "code",
   "execution_count": 55,
   "metadata": {},
   "outputs": [
    {
     "name": "stdout",
     "output_type": "stream",
     "text": [
      "y = 6.51x + 91.0\n",
      "The p-value is: 0.000\n",
      "The r-value is: 0.053790489696364546\n"
     ]
    }
   ],
   "source": [
    "# x = \"Prop_60mi\"\n",
    "# y = \"SCORE\"\n",
    "\n",
    "# Perform linear regression.\n",
    "(slope, intercept, r_value, p_value, std_err) = linregress(rats_df[\"Prop_60mi\"], rats_df[\"SCORE\"])\n",
    "\n",
    "# Get the equation of the line.\n",
    "line_eq = \"y = \" + str(round(slope,2)) + \"x + \" + str(round(intercept,2))\n",
    "print(line_eq)\n",
    "print(f\"The p-value is: {p_value:.3f}\")\n",
    "print(f\"The r-value is: {r_value}\")"
   ]
  },
  {
   "cell_type": "code",
   "execution_count": 57,
   "metadata": {},
   "outputs": [
    {
     "data": {
      "image/png": "[encoded data removed]",
      "text/plain": [
       "<Figure size 432x288 with 1 Axes>"
      ]
     },
     "metadata": {
      "needs_background": "light"
     },
     "output_type": "display_data"
    }
   ],
   "source": [
    "# Calculate the regression line \"y values\" from the slope and intercept.\n",
    "regress_values = [(commute * slope + intercept) for commute in rats_df[\"Prop_60mi\"]]\n",
    "\n",
    "# Create a scatter plot of the x and y values.\n",
    "plt.scatter(rats_df[\"Prop_60mi\"], rats_df[\"SCORE\"])\n",
    "\n",
    "# Plot the regression line with the x-values and the y coordinates based on the intercept and slope.\n",
    "plt.plot(rats_df[\"Prop_60mi\"], regress_values, \"r\")\n",
    "\n",
    "# Annotate the text for the line equation and add its coordinates.\n",
    "plt.annotate(line_eq, (0.2, 70), fontsize=15, color=\"red\")\n",
    "plt.xlabel('Prop_60mi')\n",
    "plt.ylabel('SCORE')\n",
    "plt.show()                  \n",
    "                                    "
   ]
  },
  {
   "cell_type": "markdown",
   "metadata": {},
   "source": [
    "### No_farm "
   ]
  },
  {
   "cell_type": "code",
   "execution_count": 58,
   "metadata": {},
   "outputs": [
    {
     "name": "stdout",
     "output_type": "stream",
     "text": [
      "y = -0.0x + 91.81\n",
      "The p-value is: 0.000\n",
      "The r-value is: -0.010797319597369225\n"
     ]
    }
   ],
   "source": [
    "# x = \"No_farm\"\n",
    "# y = \"SCORE\"\n",
    "\n",
    "# Perform linear regression.\n",
    "(slope, intercept, r_value, p_value, std_err) = linregress(rats_df[\"No_farm\"], rats_df[\"SCORE\"])\n",
    "\n",
    "# Get the equation of the line.\n",
    "line_eq = \"y = \" + str(round(slope,2)) + \"x + \" + str(round(intercept,2))\n",
    "print(line_eq)\n",
    "print(f\"The p-value is: {p_value:.3f}\")\n",
    "print(f\"The r-value is: {r_value}\")"
   ]
  },
  {
   "cell_type": "code",
   "execution_count": 60,
   "metadata": {},
   "outputs": [
    {
     "data": {
      "image/png": "[encoded data removed]",
      "text/plain": [
       "<Figure size 432x288 with 1 Axes>"
      ]
     },
     "metadata": {
      "needs_background": "light"
     },
     "output_type": "display_data"
    }
   ],
   "source": [
    "# Calculate the regression line \"y values\" from the slope and intercept.\n",
    "regress_values = [(farm * slope + intercept) for farm in rats_df[\"No_farm\"]]\n",
    "\n",
    "# Create a scatter plot of the x and y values.\n",
    "plt.scatter(rats_df[\"No_farm\"], rats_df[\"SCORE\"])\n",
    "\n",
    "# Plot the regression line with the x-values and the y coordinates based on the intercept and slope.\n",
    "plt.plot(rats_df[\"No_farm\"], regress_values, \"r\")\n",
    "\n",
    "# Annotate the text for the line equation and add its coordinates.\n",
    "plt.annotate(line_eq, (10, 70), fontsize=15, color=\"red\")\n",
    "plt.xlabel('No_farm')\n",
    "plt.ylabel('SCORE')\n",
    "plt.show()"
   ]
  },
  {
   "cell_type": "markdown",
   "metadata": {},
   "source": [
    "### Prop_obse"
   ]
  },
  {
   "cell_type": "code",
   "execution_count": 61,
   "metadata": {},
   "outputs": [
    {
     "name": "stdout",
     "output_type": "stream",
     "text": [
      "y = 0.81x + 91.59\n",
      "The p-value is: 0.000\n",
      "The r-value is: 0.013332474614608158\n"
     ]
    }
   ],
   "source": [
    "# x = \"Prop_obse\"\n",
    "# y = \"SCORE\"\n",
    "\n",
    "# Perform linear regression.\n",
    "(slope, intercept, r_value, p_value, std_err) = linregress(rats_df[\"Prop_obse\"], rats_df[\"SCORE\"])\n",
    "\n",
    "# Get the equation of the line.\n",
    "line_eq = \"y = \" + str(round(slope,2)) + \"x + \" + str(round(intercept,2))\n",
    "print(line_eq)\n",
    "print(f\"The p-value is: {p_value:.3f}\")\n",
    "print(f\"The r-value is: {r_value}\")"
   ]
  },
  {
   "cell_type": "code",
   "execution_count": 63,
   "metadata": {},
   "outputs": [
    {
     "data": {
      "image/png": "[encoded data removed]",
      "text/plain": [
       "<Figure size 432x288 with 1 Axes>"
      ]
     },
     "metadata": {
      "needs_background": "light"
     },
     "output_type": "display_data"
    }
   ],
   "source": [
    "# Calculate the regression line \"y values\" from the slope and intercept.\n",
    "regress_values = [(obse * slope + intercept) for obse in rats_df[\"Prop_obse\"]]\n",
    "\n",
    "# Create a scatter plot of the x and y values.\n",
    "plt.scatter(rats_df[\"Prop_obse\"], rats_df[\"SCORE\"])\n",
    "\n",
    "# Plot the regression line with the x-values and the y coordinates based on the intercept and slope.\n",
    "plt.plot(rats_df[\"Prop_obse\"], regress_values, \"r\")\n",
    "\n",
    "# Annotate the text for the line equation and add its coordinates.\n",
    "plt.annotate(line_eq, (0.0, 70), fontsize=15, color=\"red\")\n",
    "plt.xlabel('Prop_obse')\n",
    "plt.ylabel('SCORE')\n",
    "plt.show()"
   ]
  },
  {
   "cell_type": "markdown",
   "metadata": {},
   "source": [
    "### Prop_DM"
   ]
  },
  {
   "cell_type": "code",
   "execution_count": 64,
   "metadata": {},
   "outputs": [
    {
     "name": "stdout",
     "output_type": "stream",
     "text": [
      "y = -6.91x + 92.43\n",
      "The p-value is: 0.000\n",
      "The r-value is: -0.041751157526699785\n"
     ]
    }
   ],
   "source": [
    "# x = \"Prop_DM\"\n",
    "# y = \"SCORE\"\n",
    "\n",
    "# Perform linear regression.\n",
    "(slope, intercept, r_value, p_value, std_err) = linregress(rats_df[\"Prop_DM\"], rats_df[\"SCORE\"])\n",
    "\n",
    "# Get the equation of the line.\n",
    "line_eq = \"y = \" + str(round(slope,2)) + \"x + \" + str(round(intercept,2))\n",
    "print(line_eq)\n",
    "print(f\"The p-value is: {p_value:.3f}\")\n",
    "print(f\"The r-value is: {r_value}\")"
   ]
  },
  {
   "cell_type": "code",
   "execution_count": 66,
   "metadata": {},
   "outputs": [
    {
     "data": {
      "image/png": "[encoded data removed]",
      "text/plain": [
       "<Figure size 432x288 with 1 Axes>"
      ]
     },
     "metadata": {
      "needs_background": "light"
     },
     "output_type": "display_data"
    }
   ],
   "source": [
    "# Calculate the regression line \"y values\" from the slope and intercept.\n",
    "regress_values = [(dm * slope + intercept) for dm in rats_df[\"Prop_DM\"]]\n",
    "\n",
    "# Create a scatter plot of the x and y values.\n",
    "plt.scatter(rats_df[\"Prop_DM\"], rats_df[\"SCORE\"])\n",
    "\n",
    "# Plot the regression line with the x-values and the y coordinates based on the intercept and slope.\n",
    "plt.plot(rats_df[\"Prop_DM\"], regress_values, \"r\")\n",
    "\n",
    "# Annotate the text for the line equation and add its coordinates.\n",
    "plt.annotate(line_eq, (0.01, 70), fontsize=15, color=\"red\")\n",
    "plt.xlabel('Prop_DM')\n",
    "plt.ylabel('SCORE')\n",
    "plt.show()"
   ]
  },
  {
   "cell_type": "markdown",
   "metadata": {},
   "source": [
    "### Rte_CVD"
   ]
  },
  {
   "cell_type": "code",
   "execution_count": 67,
   "metadata": {},
   "outputs": [
    {
     "name": "stdout",
     "output_type": "stream",
     "text": [
      "y = 0.0x + 91.17\n",
      "The p-value is: 0.000\n",
      "The r-value is: 0.019705063997125252\n"
     ]
    }
   ],
   "source": [
    "# x = \"Rte_CVD\"\n",
    "# y = \"SCORE\"\n",
    "\n",
    "# Perform linear regression.\n",
    "(slope, intercept, r_value, p_value, std_err) = linregress(rats_df[\"Rte_CVD\"], rats_df[\"SCORE\"])\n",
    "\n",
    "# Get the equation of the line.\n",
    "line_eq = \"y = \" + str(round(slope,2)) + \"x + \" + str(round(intercept,2))\n",
    "print(line_eq)\n",
    "print(f\"The p-value is: {p_value:.3f}\")\n",
    "print(f\"The r-value is: {r_value}\")"
   ]
  },
  {
   "cell_type": "code",
   "execution_count": 70,
   "metadata": {},
   "outputs": [
    {
     "data": {
      "image/png": "[encoded data removed]",
      "text/plain": [
       "<Figure size 432x288 with 1 Axes>"
      ]
     },
     "metadata": {
      "needs_background": "light"
     },
     "output_type": "display_data"
    }
   ],
   "source": [
    "# Calculate the regression line \"y values\" from the slope and intercept.\n",
    "regress_values = [(groc * slope + intercept) for groc in rats_df[\"Rte_CVD\"]]\n",
    "\n",
    "# Create a scatter plot of the x and y values.\n",
    "plt.scatter(rats_df[\"Rte_CVD\"], rats_df[\"SCORE\"])\n",
    "\n",
    "# Plot the regression line with the x-values and the y coordinates based on the intercept and slope.\n",
    "plt.plot(rats_df[\"Rte_CVD\"], regress_values, \"r\")\n",
    "\n",
    "# Annotate the text for the line equation and add its coordinates.\n",
    "plt.annotate(line_eq, (225, 70), fontsize=15, color=\"red\")\n",
    "plt.xlabel('Rte_CVD')\n",
    "plt.ylabel('SCORE')\n",
    "plt.show()"
   ]
  },
  {
   "cell_type": "markdown",
   "metadata": {},
   "source": [
    "### Prop_ownr"
   ]
  },
  {
   "cell_type": "code",
   "execution_count": 71,
   "metadata": {},
   "outputs": [
    {
     "name": "stdout",
     "output_type": "stream",
     "text": [
      "y = -0.72x + 92.13\n",
      "The p-value is: 0.000\n",
      "The r-value is: -0.023149701651480684\n"
     ]
    }
   ],
   "source": [
    "# x = \"Prop_ownr\"\n",
    "# y = \"SCORE\"\n",
    "\n",
    "# Perform linear regression.\n",
    "(slope, intercept, r_value, p_value, std_err) = linregress(rats_df[\"Prop_ownr\"], rats_df[\"SCORE\"])\n",
    "\n",
    "# Get the equation of the line.\n",
    "line_eq = \"y = \" + str(round(slope,2)) + \"x + \" + str(round(intercept,2))\n",
    "print(line_eq)\n",
    "print(f\"The p-value is: {p_value:.3f}\")\n",
    "print(f\"The r-value is: {r_value}\")"
   ]
  },
  {
   "cell_type": "code",
   "execution_count": 72,
   "metadata": {},
   "outputs": [
    {
     "data": {
      "image/png": "[encoded data removed]",
      "text/plain": [
       "<Figure size 432x288 with 1 Axes>"
      ]
     },
     "metadata": {
      "needs_background": "light"
     },
     "output_type": "display_data"
    }
   ],
   "source": [
    "# Calculate the regression line \"y values\" from the slope and intercept.\n",
    "regress_values = [(ownr * slope + intercept) for ownr in rats_df[\"Prop_ownr\"]]\n",
    "\n",
    "# Create a scatter plot of the x and y values.\n",
    "plt.scatter(rats_df[\"Prop_ownr\"], rats_df[\"SCORE\"])\n",
    "\n",
    "# Plot the regression line with the x-values and the y coordinates based on the intercept and slope.\n",
    "plt.plot(rats_df[\"Prop_ownr\"], regress_values, \"r\")\n",
    "\n",
    "# Annotate the text for the line equation and add its coordinates.\n",
    "plt.annotate(line_eq, (0.2, 70), fontsize=15, color=\"red\")\n",
    "plt.xlabel('Prop_ownr')\n",
    "plt.ylabel('SCORE')\n",
    "plt.show()"
   ]
  },
  {
   "cell_type": "markdown",
   "metadata": {},
   "source": [
    "### Prop_rentr"
   ]
  },
  {
   "cell_type": "code",
   "execution_count": 73,
   "metadata": {},
   "outputs": [
    {
     "name": "stdout",
     "output_type": "stream",
     "text": [
      "y = 0.72x + 91.41\n",
      "The p-value is: 0.000\n",
      "The r-value is: 0.023149701651480694\n"
     ]
    }
   ],
   "source": [
    "# x = \"Prop_edSC\"\n",
    "# y = \"SCORE\"\n",
    "\n",
    "# Perform linear regression.\n",
    "(slope, intercept, r_value, p_value, std_err) = linregress(rats_df[\"Prop_rentr\"], rats_df[\"SCORE\"])\n",
    "\n",
    "# Get the equation of the line.\n",
    "line_eq = \"y = \" + str(round(slope,2)) + \"x + \" + str(round(intercept,2))\n",
    "print(line_eq)\n",
    "print(f\"The p-value is: {p_value:.3f}\")\n",
    "print(f\"The r-value is: {r_value}\")"
   ]
  },
  {
   "cell_type": "code",
   "execution_count": 74,
   "metadata": {},
   "outputs": [
    {
     "data": {
      "image/png": "[encoded data removed]",
      "text/plain": [
       "<Figure size 432x288 with 1 Axes>"
      ]
     },
     "metadata": {
      "needs_background": "light"
     },
     "output_type": "display_data"
    }
   ],
   "source": [
    "# Calculate the regression line \"y values\" from the slope and intercept.\n",
    "regress_values = [(renter * slope + intercept) for renter in rats_df[\"Prop_rentr\"]]\n",
    "\n",
    "# Create a scatter plot of the x and y values.\n",
    "plt.scatter(rats_df[\"Prop_rentr\"], rats_df[\"SCORE\"])\n",
    "\n",
    "# Plot the regression line with the x-values and the y coordinates based on the intercept and slope.\n",
    "plt.plot(rats_df[\"Prop_rentr\"], regress_values, \"r\")\n",
    "\n",
    "# Annotate the text for the line equation and add its coordinates.\n",
    "plt.annotate(line_eq, (0.2, 70), fontsize=15, color=\"red\")\n",
    "plt.xlabel('Prop_rentr')\n",
    "plt.ylabel('SCORE')\n",
    "plt.show()"
   ]
  },
  {
   "cell_type": "markdown",
   "metadata": {},
   "source": [
    "### No_hless  "
   ]
  },
  {
   "cell_type": "code",
   "execution_count": 75,
   "metadata": {},
   "outputs": [
    {
     "name": "stdout",
     "output_type": "stream",
     "text": [
      "y = -0.0x + 91.81\n",
      "The p-value is: 0.000\n",
      "The r-value is: -0.010387146970954145\n"
     ]
    }
   ],
   "source": [
    "# x = \"No_hless\"\n",
    "# y = \"SCORE\"\n",
    "\n",
    "# Perform linear regression.\n",
    "(slope, intercept, r_value, p_value, std_err) = linregress(rats_df[\"No_hless\"], rats_df[\"SCORE\"])\n",
    "\n",
    "# Get the equation of the line.\n",
    "line_eq = \"y = \" + str(round(slope,2)) + \"x + \" + str(round(intercept,2))\n",
    "print(line_eq)\n",
    "print(f\"The p-value is: {p_value:.3f}\")\n",
    "print(f\"The r-value is: {r_value}\")"
   ]
  },
  {
   "cell_type": "code",
   "execution_count": 77,
   "metadata": {},
   "outputs": [
    {
     "data": {
      "image/png": "[encoded data removed]",
      "text/plain": [
       "<Figure size 432x288 with 1 Axes>"
      ]
     },
     "metadata": {
      "needs_background": "light"
     },
     "output_type": "display_data"
    }
   ],
   "source": [
    "# Calculate the regression line \"y values\" from the slope and intercept.\n",
    "regress_values = [(hless * slope + intercept) for hless in rats_df[\"No_hless\"]]\n",
    "\n",
    "# Create a scatter plot of the x and y values.\n",
    "plt.scatter(rats_df[\"No_hless\"], rats_df[\"SCORE\"])\n",
    "\n",
    "# Plot the regression line with the x-values and the y coordinates based on the intercept and slope.\n",
    "plt.plot(rats_df[\"No_hless\"], regress_values, \"r\")\n",
    "\n",
    "# Annotate the text for the line equation and add its coordinates.\n",
    "plt.annotate(line_eq, (5000, 70), fontsize=15, color=\"red\")\n",
    "plt.xlabel('No_hless')\n",
    "plt.ylabel('SCORE')\n",
    "plt.show()"
   ]
  },
  {
   "cell_type": "markdown",
   "metadata": {},
   "source": [
    "### Rte_crim "
   ]
  },
  {
   "cell_type": "code",
   "execution_count": 78,
   "metadata": {},
   "outputs": [
    {
     "name": "stdout",
     "output_type": "stream",
     "text": [
      "y = -0.0x + 91.84\n",
      "The p-value is: 0.000\n",
      "The r-value is: -0.00719895833609568\n"
     ]
    }
   ],
   "source": [
    "# x = \"Rte_crim\"\n",
    "# y = \"SCORE\"\n",
    "\n",
    "# Perform linear regression.\n",
    "(slope, intercept, r_value, p_value, std_err) = linregress(rats_df[\"Rte_crim\"], rats_df[\"SCORE\"])\n",
    "\n",
    "# Get the equation of the line.\n",
    "line_eq = \"y = \" + str(round(slope,2)) + \"x + \" + str(round(intercept,2))\n",
    "print(line_eq)\n",
    "print(f\"The p-value is: {p_value:.3f}\")\n",
    "print(f\"The r-value is: {r_value}\")"
   ]
  },
  {
   "cell_type": "code",
   "execution_count": 80,
   "metadata": {},
   "outputs": [
    {
     "data": {
      "image/png": "[encoded data removed]",
      "text/plain": [
       "<Figure size 432x288 with 1 Axes>"
      ]
     },
     "metadata": {
      "needs_background": "light"
     },
     "output_type": "display_data"
    }
   ],
   "source": [
    "# Calculate the regression line \"y values\" from the slope and intercept.\n",
    "regress_values = [(crime * slope + intercept) for crime in rats_df[\"Rte_crim\"]]\n",
    "\n",
    "# Create a scatter plot of the x and y values.\n",
    "plt.scatter(rats_df[\"Rte_crim\"], rats_df[\"SCORE\"])\n",
    "\n",
    "# Plot the regression line with the x-values and the y coordinates based on the intercept and slope.\n",
    "plt.plot(rats_df[\"Rte_crim\"], regress_values, \"r\")\n",
    "\n",
    "# Annotate the text for the line equation and add its coordinates.\n",
    "plt.annotate(line_eq, (600, 70), fontsize=15, color=\"red\")\n",
    "plt.xlabel('Rte_crim')\n",
    "plt.ylabel('SCORE')\n",
    "plt.show()"
   ]
  },
  {
   "cell_type": "markdown",
   "metadata": {},
   "source": [
    "### Rte_alco "
   ]
  },
  {
   "cell_type": "code",
   "execution_count": 81,
   "metadata": {},
   "outputs": [
    {
     "name": "stdout",
     "output_type": "stream",
     "text": [
      "y = 0.01x + 91.65\n",
      "The p-value is: 0.000\n",
      "The r-value is: 0.011270928119006839\n"
     ]
    }
   ],
   "source": [
    "# x = \"Rte_alco\"\n",
    "# y = \"SCORE\"\n",
    "\n",
    "# Perform linear regression.\n",
    "(slope, intercept, r_value, p_value, std_err) = linregress(rats_df[\"Rte_alco\"], rats_df[\"SCORE\"])\n",
    "\n",
    "# Get the equation of the line.\n",
    "line_eq = \"y = \" + str(round(slope,2)) + \"x + \" + str(round(intercept,2))\n",
    "print(line_eq)\n",
    "print(f\"The p-value is: {p_value:.3f}\")\n",
    "print(f\"The r-value is: {r_value}\")"
   ]
  },
  {
   "cell_type": "code",
   "execution_count": 83,
   "metadata": {},
   "outputs": [
    {
     "data": {
      "image/png": "[encoded data removed]",
      "text/plain": [
       "<Figure size 432x288 with 1 Axes>"
      ]
     },
     "metadata": {
      "needs_background": "light"
     },
     "output_type": "display_data"
    }
   ],
   "source": [
    "# Calculate the regression line \"y values\" from the slope and intercept.\n",
    "regress_values = [(alco * slope + intercept) for alco in rats_df[\"Rte_alco\"]]\n",
    "\n",
    "# Create a scatter plot of the x and y values.\n",
    "plt.scatter(rats_df[\"Rte_alco\"], rats_df[\"SCORE\"])\n",
    "\n",
    "# Plot the regression line with the x-values and the y coordinates based on the intercept and slope.\n",
    "plt.plot(rats_df[\"Rte_alco\"], regress_values, \"r\")\n",
    "\n",
    "# Annotate the text for the line equation and add its coordinates.\n",
    "plt.annotate(line_eq, (30, 70), fontsize=15, color=\"red\")\n",
    "plt.xlabel('Rte_alco')\n",
    "plt.ylabel('SCORE')\n",
    "plt.show()"
   ]
  },
  {
   "attachments": {},
   "cell_type": "markdown",
   "metadata": {},
   "source": [
    "### Propt_envi"
   ]
  },
  {
   "cell_type": "code",
   "execution_count": 84,
   "metadata": {},
   "outputs": [
    {
     "name": "stdout",
     "output_type": "stream",
     "text": [
      "y = -0.01x + 92.1\n",
      "The p-value is: 0.000\n",
      "The r-value is: -0.05471755163354202\n"
     ]
    }
   ],
   "source": [
    "# x = \"Propt_envi\"\n",
    "# y = \"SCORE\"\n",
    "\n",
    "# Perform linear regression.\n",
    "(slope, intercept, r_value, p_value, std_err) = linregress(rats_df[\"Propt_envi\"], rats_df[\"SCORE\"])\n",
    "\n",
    "# Get the equation of the line.\n",
    "line_eq = \"y = \" + str(round(slope,2)) + \"x + \" + str(round(intercept,2))\n",
    "print(line_eq)\n",
    "print(f\"The p-value is: {p_value:.3f}\")\n",
    "print(f\"The r-value is: {r_value}\")"
   ]
  },
  {
   "cell_type": "code",
   "execution_count": 85,
   "metadata": {},
   "outputs": [
    {
     "data": {
      "image/png": "[encoded data removed]",
      "text/plain": [
       "<Figure size 432x288 with 1 Axes>"
      ]
     },
     "metadata": {
      "needs_background": "light"
     },
     "output_type": "display_data"
    }
   ],
   "source": [
    "# Calculate the regression line \"y values\" from the slope and intercept.\n",
    "regress_values = [(envi * slope + intercept) for envi in rats_df[\"Propt_envi\"]]\n",
    "\n",
    "# Create a scatter plot of the x and y values.\n",
    "plt.scatter(rats_df[\"Propt_envi\"], rats_df[\"SCORE\"])\n",
    "\n",
    "# Plot the regression line with the x-values and the y coordinates based on the intercept and slope.\n",
    "plt.plot(rats_df[\"Propt_envi\"], regress_values, \"r\")\n",
    "\n",
    "# Annotate the text for the line equation and add its coordinates.\n",
    "plt.annotate(line_eq, (0.2, 70), fontsize=15, color=\"red\")\n",
    "plt.xlabel('Propt_envi')\n",
    "plt.ylabel('SCORE')\n",
    "plt.show()"
   ]
  },
  {
   "cell_type": "markdown",
   "metadata": {},
   "source": [
    "### Prop_depr "
   ]
  },
  {
   "cell_type": "code",
   "execution_count": 86,
   "metadata": {},
   "outputs": [
    {
     "name": "stdout",
     "output_type": "stream",
     "text": [
      "y = 15.43x + 90.43\n",
      "The p-value is: 0.000\n",
      "The r-value is: 0.09881492693121459\n"
     ]
    }
   ],
   "source": [
    "# x = \"Prop_depr\"\n",
    "# y = \"SCORE\"\n",
    "\n",
    "# Perform linear regression.\n",
    "(slope, intercept, r_value, p_value, std_err) = linregress(rats_df[\"Prop_depr\"], rats_df[\"SCORE\"])\n",
    "\n",
    "# Get the equation of the line.\n",
    "line_eq = \"y = \" + str(round(slope,2)) + \"x + \" + str(round(intercept,2))\n",
    "print(line_eq)\n",
    "print(f\"The p-value is: {p_value:.3f}\")\n",
    "print(f\"The r-value is: {r_value}\")"
   ]
  },
  {
   "cell_type": "code",
   "execution_count": 87,
   "metadata": {},
   "outputs": [
    {
     "data": {
      "image/png": "[encoded data removed]",
      "text/plain": [
       "<Figure size 432x288 with 1 Axes>"
      ]
     },
     "metadata": {
      "needs_background": "light"
     },
     "output_type": "display_data"
    }
   ],
   "source": [
    "# Calculate the regression line \"y values\" from the slope and intercept.\n",
    "regress_values = [(depr * slope + intercept) for depr in rats_df[\"Prop_depr\"]]\n",
    "\n",
    "# Create a scatter plot of the x and y values.\n",
    "plt.scatter(rats_df[\"Prop_depr\"], rats_df[\"SCORE\"])\n",
    "\n",
    "# Plot the regression line with the x-values and the y coordinates based on the intercept and slope.\n",
    "plt.plot(rats_df[\"Prop_depr\"], regress_values, \"r\")\n",
    "\n",
    "# Annotate the text for the line equation and add its coordinates.\n",
    "plt.annotate(line_eq, (0.2, 70), fontsize=15, color=\"red\")\n",
    "plt.xlabel('Prop_depr')\n",
    "plt.ylabel('SCORE')\n",
    "plt.show()"
   ]
  },
  {
   "cell_type": "markdown",
   "metadata": {},
   "source": [
    "### Propt_HPI"
   ]
  },
  {
   "cell_type": "code",
   "execution_count": 88,
   "metadata": {},
   "outputs": [
    {
     "name": "stdout",
     "output_type": "stream",
     "text": [
      "y = 0.0x + 91.73\n",
      "The p-value is: 0.000\n",
      "The r-value is: 0.005025583064417425\n"
     ]
    }
   ],
   "source": [
    "# x = \"Propt_HPI\"\n",
    "# y = \"SCORE\"\n",
    "\n",
    "# Perform linear regression.\n",
    "(slope, intercept, r_value, p_value, std_err) = linregress(rats_df[\"Propt_HPI\"], rats_df[\"SCORE\"])\n",
    "\n",
    "# Get the equation of the line.\n",
    "line_eq = \"y = \" + str(round(slope,2)) + \"x + \" + str(round(intercept,2))\n",
    "print(line_eq)\n",
    "print(f\"The p-value is: {p_value:.3f}\")\n",
    "print(f\"The r-value is: {r_value}\")"
   ]
  },
  {
   "cell_type": "code",
   "execution_count": 90,
   "metadata": {},
   "outputs": [
    {
     "data": {
      "image/png": "[encoded data removed]",
      "text/plain": [
       "<Figure size 432x288 with 1 Axes>"
      ]
     },
     "metadata": {
      "needs_background": "light"
     },
     "output_type": "display_data"
    }
   ],
   "source": [
    "# Calculate the regression line \"y values\" from the slope and intercept.\n",
    "regress_values = [(hpi * slope + intercept) for hpi in rats_df[\"Propt_HPI\"]]\n",
    "\n",
    "# Create a scatter plot of the x and y values.\n",
    "plt.scatter(rats_df[\"Propt_HPI\"], rats_df[\"SCORE\"])\n",
    "\n",
    "# Plot the regression line with the x-values and the y coordinates based on the intercept and slope.\n",
    "plt.plot(rats_df[\"Propt_HPI\"], regress_values, \"r\")\n",
    "\n",
    "# Annotate the text for the line equation and add its coordinates.\n",
    "plt.annotate(line_eq, (40, 70), fontsize=15, color=\"red\")\n",
    "plt.xlabel('Propt_HPI')\n",
    "plt.ylabel('SCORE')\n",
    "plt.show()"
   ]
  },
  {
   "cell_type": "markdown",
   "metadata": {},
   "source": [
    "### Prop_fru "
   ]
  },
  {
   "cell_type": "code",
   "execution_count": 91,
   "metadata": {},
   "outputs": [
    {
     "name": "stdout",
     "output_type": "stream",
     "text": [
      "y = 1.65x + 91.52\n",
      "The p-value is: 0.000\n",
      "The r-value is: 0.02251739424317713\n"
     ]
    }
   ],
   "source": [
    "# x = \"Propt_fru\"\n",
    "# y = \"SCORE\"\n",
    "\n",
    "# Perform linear regression.\n",
    "(slope, intercept, r_value, p_value, std_err) = linregress(rats_df[\"Prop_fru\"], rats_df[\"SCORE\"])\n",
    "\n",
    "# Get the equation of the line.\n",
    "line_eq = \"y = \" + str(round(slope,2)) + \"x + \" + str(round(intercept,2))\n",
    "print(line_eq)\n",
    "print(f\"The p-value is: {p_value:.3f}\")\n",
    "print(f\"The r-value is: {r_value}\")"
   ]
  },
  {
   "cell_type": "code",
   "execution_count": 93,
   "metadata": {},
   "outputs": [
    {
     "data": {
      "image/png": "[encoded data removed]",
      "text/plain": [
       "<Figure size 432x288 with 1 Axes>"
      ]
     },
     "metadata": {
      "needs_background": "light"
     },
     "output_type": "display_data"
    }
   ],
   "source": [
    "# Calculate the regression line \"y values\" from the slope and intercept.\n",
    "regress_values = [(fruit * slope + intercept) for fruit in rats_df[\"Prop_fru\"]]\n",
    "\n",
    "# Create a scatter plot of the x and y values.\n",
    "plt.scatter(rats_df[\"Prop_fru\"], rats_df[\"SCORE\"])\n",
    "\n",
    "# Plot the regression line with the x-values and the y coordinates based on the intercept and slope.\n",
    "plt.plot(rats_df[\"Prop_fru\"], regress_values, \"r\")\n",
    "\n",
    "# Annotate the text for the line equation and add its coordinates.\n",
    "plt.annotate(line_eq, (0.22, 70), fontsize=15, color=\"red\")\n",
    "plt.xlabel('Prop_fru')\n",
    "plt.ylabel('SCORE')\n",
    "plt.show()"
   ]
  },
  {
   "cell_type": "markdown",
   "metadata": {},
   "source": [
    "### Prop_bev  "
   ]
  },
  {
   "cell_type": "code",
   "execution_count": 94,
   "metadata": {},
   "outputs": [
    {
     "name": "stdout",
     "output_type": "stream",
     "text": [
      "y = 0.58x + 91.57\n",
      "The p-value is: 0.000\n",
      "The r-value is: 0.01373068036358126\n"
     ]
    }
   ],
   "source": [
    "# x = \"Prop_bev\"\n",
    "# y = \"SCORE\"\n",
    "\n",
    "# Perform linear regression.\n",
    "(slope, intercept, r_value, p_value, std_err) = linregress(rats_df[\"Prop_bev\"], rats_df[\"SCORE\"])\n",
    "\n",
    "# Get the equation of the line.\n",
    "line_eq = \"y = \" + str(round(slope,2)) + \"x + \" + str(round(intercept,2))\n",
    "print(line_eq)\n",
    "print(f\"The p-value is: {p_value:.3f}\")\n",
    "print(f\"The r-value is: {r_value}\")"
   ]
  },
  {
   "cell_type": "code",
   "execution_count": 96,
   "metadata": {},
   "outputs": [
    {
     "data": {
      "image/png": "[encoded data removed]",
      "text/plain": [
       "<Figure size 432x288 with 1 Axes>"
      ]
     },
     "metadata": {
      "needs_background": "light"
     },
     "output_type": "display_data"
    }
   ],
   "source": [
    "# Calculate the regression line \"y values\" from the slope and intercept.\n",
    "regress_values = [(bev * slope + intercept) for bev in rats_df[\"Prop_bev\"]]\n",
    "\n",
    "# Create a scatter plot of the x and y values.\n",
    "plt.scatter(rats_df[\"Prop_bev\"], rats_df[\"SCORE\"])\n",
    "\n",
    "# Plot the regression line with the x-values and the y coordinates based on the intercept and slope.\n",
    "plt.plot(rats_df[\"Prop_bev\"], regress_values, \"r\")\n",
    "\n",
    "# Annotate the text for the line equation and add its coordinates.\n",
    "plt.annotate(line_eq, (0.12, 70), fontsize=15, color=\"red\")\n",
    "plt.xlabel('Prop_bev')\n",
    "plt.ylabel('SCORE')\n",
    "plt.show()"
   ]
  },
  {
   "cell_type": "markdown",
   "metadata": {},
   "source": [
    "### Prop_hyp"
   ]
  },
  {
   "cell_type": "code",
   "execution_count": 97,
   "metadata": {},
   "outputs": [
    {
     "name": "stdout",
     "output_type": "stream",
     "text": [
      "y = -4.63x + 92.85\n",
      "The p-value is: 0.000\n",
      "The r-value is: -0.055413279272404664\n"
     ]
    }
   ],
   "source": [
    "# x = \"Prop_hyp\"\n",
    "# y = \"SCORE\"\n",
    "\n",
    "# Perform linear regression.\n",
    "(slope, intercept, r_value, p_value, std_err) = linregress(rats_df[\"Prop_hyp\"], rats_df[\"SCORE\"])\n",
    "\n",
    "# Get the equation of the line.\n",
    "line_eq = \"y = \" + str(round(slope,2)) + \"x + \" + str(round(intercept,2))\n",
    "print(line_eq)\n",
    "print(f\"The p-value is: {p_value:.3f}\")\n",
    "print(f\"The r-value is: {r_value}\")"
   ]
  },
  {
   "cell_type": "code",
   "execution_count": 98,
   "metadata": {},
   "outputs": [
    {
     "data": {
      "image/png": "[encoded data removed]",
      "text/plain": [
       "<Figure size 432x288 with 1 Axes>"
      ]
     },
     "metadata": {
      "needs_background": "light"
     },
     "output_type": "display_data"
    }
   ],
   "source": [
    "# Calculate the regression line \"y values\" from the slope and intercept.\n",
    "regress_values = [(hyp * slope + intercept) for hyp in rats_df[\"Prop_hyp\"]]\n",
    "\n",
    "# Create a scatter plot of the x and y values.\n",
    "plt.scatter(rats_df[\"Prop_hyp\"], rats_df[\"SCORE\"])\n",
    "\n",
    "# Plot the regression line with the x-values and the y coordinates based on the intercept and slope.\n",
    "plt.plot(rats_df[\"Prop_hyp\"], regress_values, \"r\")\n",
    "\n",
    "# Annotate the text for the line equation and add its coordinates.\n",
    "plt.annotate(line_eq, (0.2, 70), fontsize=15, color=\"red\")\n",
    "plt.xlabel('Prop_hyp')\n",
    "plt.ylabel('SCORE')\n",
    "plt.show()"
   ]
  },
  {
   "cell_type": "markdown",
   "metadata": {},
   "source": [
    "### Prop_marj  "
   ]
  },
  {
   "cell_type": "code",
   "execution_count": 99,
   "metadata": {},
   "outputs": [
    {
     "name": "stdout",
     "output_type": "stream",
     "text": [
      "y = 8.02x + 90.91\n",
      "The p-value is: 0.000\n",
      "The r-value is: 0.08851449332688283\n"
     ]
    }
   ],
   "source": [
    "# x = \"Prop_marj\"\n",
    "# y = \"SCORE\"\n",
    "\n",
    "# Perform linear regression.\n",
    "(slope, intercept, r_value, p_value, std_err) = linregress(rats_df[\"Prop_marj\"], rats_df[\"SCORE\"])\n",
    "\n",
    "# Get the equation of the line.\n",
    "line_eq = \"y = \" + str(round(slope,2)) + \"x + \" + str(round(intercept,2))\n",
    "print(line_eq)\n",
    "print(f\"The p-value is: {p_value:.3f}\")\n",
    "print(f\"The r-value is: {r_value}\")"
   ]
  },
  {
   "cell_type": "code",
   "execution_count": 101,
   "metadata": {},
   "outputs": [
    {
     "data": {
      "image/png": "[encoded data removed]",
      "text/plain": [
       "<Figure size 432x288 with 1 Axes>"
      ]
     },
     "metadata": {
      "needs_background": "light"
     },
     "output_type": "display_data"
    }
   ],
   "source": [
    "# Calculate the regression line \"y values\" from the slope and intercept.\n",
    "regress_values = [(marj * slope + intercept) for marj in rats_df[\"Prop_marj\"]]\n",
    "\n",
    "# Create a scatter plot of the x and y values.\n",
    "plt.scatter(rats_df[\"Prop_marj\"], rats_df[\"SCORE\"])\n",
    "\n",
    "# Plot the regression line with the x-values and the y coordinates based on the intercept and slope.\n",
    "plt.plot(rats_df[\"Prop_marj\"], regress_values, \"r\")\n",
    "\n",
    "# Annotate the text for the line equation and add its coordinates.\n",
    "plt.annotate(line_eq, (0.01, 70), fontsize=15, color=\"red\")\n",
    "plt.xlabel('Prop_marj')\n",
    "plt.ylabel('SCORE')\n",
    "plt.show()"
   ]
  },
  {
   "cell_type": "markdown",
   "metadata": {},
   "source": [
    "### new_seats"
   ]
  },
  {
   "cell_type": "code",
   "execution_count": 102,
   "metadata": {},
   "outputs": [
    {
     "name": "stdout",
     "output_type": "stream",
     "text": [
      "y = -0.01x + 91.94\n",
      "The p-value is: 0.000\n",
      "The r-value is: -0.04904665992041494\n"
     ]
    }
   ],
   "source": [
    "# x = \"new_seats\"\n",
    "# y = \"SCORE\"\n",
    "\n",
    "# Perform linear regression.\n",
    "(slope, intercept, r_value, p_value, std_err) = linregress(rats_df[\"new_seats\"], rats_df[\"SCORE\"])\n",
    "\n",
    "# Get the equation of the line.\n",
    "line_eq = \"y = \" + str(round(slope,2)) + \"x + \" + str(round(intercept,2))\n",
    "print(line_eq)\n",
    "print(f\"The p-value is: {p_value:.3f}\")\n",
    "print(f\"The r-value is: {r_value}\")"
   ]
  },
  {
   "cell_type": "code",
   "execution_count": 105,
   "metadata": {},
   "outputs": [
    {
     "data": {
      "image/png": "[encoded data removed]",
      "text/plain": [
       "<Figure size 432x288 with 1 Axes>"
      ]
     },
     "metadata": {
      "needs_background": "light"
     },
     "output_type": "display_data"
    }
   ],
   "source": [
    "# Calculate the regression line \"y values\" from the slope and intercept.\n",
    "regress_values = [(seat * slope + intercept) for seat in rats_df[\"new_seats\"]]\n",
    "\n",
    "# Create a scatter plot of the x and y values.\n",
    "plt.scatter(rats_df[\"new_seats\"], rats_df[\"SCORE\"])\n",
    "\n",
    "# Plot the regression line with the x-values and the y coordinates based on the intercept and slope.\n",
    "plt.plot(rats_df[\"new_seats\"], regress_values, \"r\")\n",
    "\n",
    "# Annotate the text for the line equation and add its coordinates.\n",
    "plt.annotate(line_eq, (70, 70), fontsize=15, color=\"red\")\n",
    "plt.xlabel('new_seats')\n",
    "plt.ylabel('SCORE')\n",
    "plt.show()"
   ]
  },
  {
   "cell_type": "markdown",
   "metadata": {},
   "source": [
    "### Observations\n",
    "* All p-values are equal to 0.000. A linear regression with a p-value < 0.05 is statistically significant.\n",
    "* The majority of r-values are less than 0.10, which is really small. A correlation coefficient close to 1 shows a strong positive correlation, whereas close to –1 shows a strong negative correlation. There are a few that can equal 0.10 when rounding up, and there are another few that are even less than 0.01.\n",
    "* FACILITY_CITY = 'City of Los Angeles' may be visually disturbing the data. Likely to be causing outliers."
   ]
  },
  {
   "cell_type": "markdown",
   "metadata": {},
   "source": [
    "### Next Steps\n",
    "* 3D scatter plots with same data:\n",
    "    * x = One of the features\n",
    "    * y = SCORE\n",
    "    * z = FACILITY_CITY"
   ]
  },
  {
   "cell_type": "code",
   "execution_count": null,
   "metadata": {},
   "outputs": [],
   "source": []
  }
 ],
 "metadata": {
  "kernelspec": {
   "display_name": "Python 3",
   "language": "python",
   "name": "python3"
  },
  "language_info": {
   "codemirror_mode": {
    "name": "ipython",
    "version": 3
   },
   "file_extension": ".py",
   "mimetype": "text/x-python",
   "name": "python",
   "nbconvert_exporter": "python",
   "pygments_lexer": "ipython3",
   "version": "3.7.4"
  }
 },
 "nbformat": 4,
 "nbformat_minor": 2
}
