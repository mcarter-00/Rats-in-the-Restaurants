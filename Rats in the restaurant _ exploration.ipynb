{
 "cells": [
  {
   "cell_type": "code",
   "execution_count": 1,
   "metadata": {},
   "outputs": [],
   "source": [
    "import pandas as pd\n",
    "import numpy as np"
   ]
  },
  {
   "cell_type": "code",
   "execution_count": 2,
   "metadata": {},
   "outputs": [
    {
     "data": {
      "text/html": [
       "<div>\n",
       "<style scoped>\n",
       "    .dataframe tbody tr th:only-of-type {\n",
       "        vertical-align: middle;\n",
       "    }\n",
       "\n",
       "    .dataframe tbody tr th {\n",
       "        vertical-align: top;\n",
       "    }\n",
       "\n",
       "    .dataframe thead th {\n",
       "        text-align: right;\n",
       "    }\n",
       "</style>\n",
       "<table border=\"1\" class=\"dataframe\">\n",
       "  <thead>\n",
       "    <tr style=\"text-align: right;\">\n",
       "      <th></th>\n",
       "      <th>ACTIVITY DATE</th>\n",
       "      <th>OWNER ID</th>\n",
       "      <th>OWNER NAME</th>\n",
       "      <th>FACILITY ID</th>\n",
       "      <th>FACILITY NAME</th>\n",
       "      <th>RECORD ID</th>\n",
       "      <th>PROGRAM NAME</th>\n",
       "      <th>PROGRAM STATUS</th>\n",
       "      <th>PROGRAM ELEMENT (PE)</th>\n",
       "      <th>PE DESCRIPTION</th>\n",
       "      <th>...</th>\n",
       "      <th>FACILITY CITY</th>\n",
       "      <th>FACILITY STATE</th>\n",
       "      <th>FACILITY ZIP</th>\n",
       "      <th>SERVICE CODE</th>\n",
       "      <th>SERVICE DESCRIPTION</th>\n",
       "      <th>SCORE</th>\n",
       "      <th>GRADE</th>\n",
       "      <th>SERIAL NUMBER</th>\n",
       "      <th>EMPLOYEE ID</th>\n",
       "      <th>Location</th>\n",
       "    </tr>\n",
       "  </thead>\n",
       "  <tbody>\n",
       "    <tr>\n",
       "      <td>0</td>\n",
       "      <td>09/10/2018</td>\n",
       "      <td>OW0105348</td>\n",
       "      <td>GUCKENHEIMER SERVICES, LLC.</td>\n",
       "      <td>FA0242046</td>\n",
       "      <td>SERVERY- NICKELODEON</td>\n",
       "      <td>PR0190194</td>\n",
       "      <td>SERVERY- NICKELODEON</td>\n",
       "      <td>ACTIVE</td>\n",
       "      <td>1635</td>\n",
       "      <td>RESTAURANT (31-60) SEATS HIGH RISK</td>\n",
       "      <td>...</td>\n",
       "      <td>BURBANK</td>\n",
       "      <td>CA</td>\n",
       "      <td>91502</td>\n",
       "      <td>1</td>\n",
       "      <td>ROUTINE INSPECTION</td>\n",
       "      <td>96</td>\n",
       "      <td>A</td>\n",
       "      <td>DARRFUZBW</td>\n",
       "      <td>EE0000495</td>\n",
       "      <td>POINT (-118.314661 34.175253)</td>\n",
       "    </tr>\n",
       "    <tr>\n",
       "      <td>1</td>\n",
       "      <td>07/19/2018</td>\n",
       "      <td>OW0246461</td>\n",
       "      <td>ANASTACIOS POLITIS</td>\n",
       "      <td>FA0252769</td>\n",
       "      <td>TOMS JR BURGERS</td>\n",
       "      <td>PR0202127</td>\n",
       "      <td>TOMS JR BURGERS</td>\n",
       "      <td>ACTIVE</td>\n",
       "      <td>1632</td>\n",
       "      <td>RESTAURANT (0-30) SEATS HIGH RISK</td>\n",
       "      <td>...</td>\n",
       "      <td>LOS ANGELES</td>\n",
       "      <td>CA</td>\n",
       "      <td>90037-1867</td>\n",
       "      <td>1</td>\n",
       "      <td>ROUTINE INSPECTION</td>\n",
       "      <td>98</td>\n",
       "      <td>A</td>\n",
       "      <td>DA0XQVMTN</td>\n",
       "      <td>EE0001130</td>\n",
       "      <td>POINT (-118.292543 34.010859)</td>\n",
       "    </tr>\n",
       "    <tr>\n",
       "      <td>2</td>\n",
       "      <td>08/15/2018</td>\n",
       "      <td>OW0010130</td>\n",
       "      <td>DJ BIBINGKAHAN CORPORATION</td>\n",
       "      <td>FA0011237</td>\n",
       "      <td>DJ BIBINGKAHAN</td>\n",
       "      <td>PR0035416</td>\n",
       "      <td>DJ BIBINGKAHAN BAKESHOP</td>\n",
       "      <td>ACTIVE</td>\n",
       "      <td>1631</td>\n",
       "      <td>RESTAURANT (0-30) SEATS MODERATE RISK</td>\n",
       "      <td>...</td>\n",
       "      <td>WEST COVINA</td>\n",
       "      <td>CA</td>\n",
       "      <td>91792</td>\n",
       "      <td>1</td>\n",
       "      <td>ROUTINE INSPECTION</td>\n",
       "      <td>98</td>\n",
       "      <td>A</td>\n",
       "      <td>DAMPOJNY8</td>\n",
       "      <td>EE0000500</td>\n",
       "      <td>POINT (-117.913926 34.030964)</td>\n",
       "    </tr>\n",
       "    <tr>\n",
       "      <td>3</td>\n",
       "      <td>07/16/2018</td>\n",
       "      <td>OW0020051</td>\n",
       "      <td>KULWINDER KAUR</td>\n",
       "      <td>FA0061073</td>\n",
       "      <td>DOROSE LIQUOR</td>\n",
       "      <td>PR0027907</td>\n",
       "      <td>DOROSE LIQUOR</td>\n",
       "      <td>ACTIVE</td>\n",
       "      <td>1610</td>\n",
       "      <td>FOOD MKT RETAIL (1-1,999 SF) LOW RISK</td>\n",
       "      <td>...</td>\n",
       "      <td>PANORAMA CITY</td>\n",
       "      <td>CA</td>\n",
       "      <td>91402</td>\n",
       "      <td>1</td>\n",
       "      <td>ROUTINE INSPECTION</td>\n",
       "      <td>91</td>\n",
       "      <td>A</td>\n",
       "      <td>DAUTU3DPD</td>\n",
       "      <td>EE0000045</td>\n",
       "      <td>POINT (-118.428399 34.221664)</td>\n",
       "    </tr>\n",
       "    <tr>\n",
       "      <td>4</td>\n",
       "      <td>09/07/2018</td>\n",
       "      <td>OW0246329</td>\n",
       "      <td>JUAN C OROZCO</td>\n",
       "      <td>FA0252595</td>\n",
       "      <td>MEJICO GRILL AND TEQUILLA LOUNGE</td>\n",
       "      <td>PR0201914</td>\n",
       "      <td>MEJICO GRILL AND TEQUILLA LOUNGE</td>\n",
       "      <td>ACTIVE</td>\n",
       "      <td>1641</td>\n",
       "      <td>RESTAURANT (151 + ) SEATS HIGH RISK</td>\n",
       "      <td>...</td>\n",
       "      <td>AGOURA HILLS</td>\n",
       "      <td>CA</td>\n",
       "      <td>91301</td>\n",
       "      <td>1</td>\n",
       "      <td>ROUTINE INSPECTION</td>\n",
       "      <td>90</td>\n",
       "      <td>A</td>\n",
       "      <td>DAUEU4NGF</td>\n",
       "      <td>EE0000526</td>\n",
       "      <td>POINT (-118.756808 34.143452)</td>\n",
       "    </tr>\n",
       "  </tbody>\n",
       "</table>\n",
       "<p>5 rows × 21 columns</p>\n",
       "</div>"
      ],
      "text/plain": [
       "  ACTIVITY DATE   OWNER ID                   OWNER NAME FACILITY ID  \\\n",
       "0    09/10/2018  OW0105348  GUCKENHEIMER SERVICES, LLC.   FA0242046   \n",
       "1    07/19/2018  OW0246461           ANASTACIOS POLITIS   FA0252769   \n",
       "2    08/15/2018  OW0010130   DJ BIBINGKAHAN CORPORATION   FA0011237   \n",
       "3    07/16/2018  OW0020051               KULWINDER KAUR   FA0061073   \n",
       "4    09/07/2018  OW0246329                JUAN C OROZCO   FA0252595   \n",
       "\n",
       "                      FACILITY NAME  RECORD ID  \\\n",
       "0              SERVERY- NICKELODEON  PR0190194   \n",
       "1                   TOMS JR BURGERS  PR0202127   \n",
       "2                    DJ BIBINGKAHAN  PR0035416   \n",
       "3                     DOROSE LIQUOR  PR0027907   \n",
       "4  MEJICO GRILL AND TEQUILLA LOUNGE  PR0201914   \n",
       "\n",
       "                       PROGRAM NAME PROGRAM STATUS  PROGRAM ELEMENT (PE)  \\\n",
       "0              SERVERY- NICKELODEON         ACTIVE                  1635   \n",
       "1                   TOMS JR BURGERS         ACTIVE                  1632   \n",
       "2           DJ BIBINGKAHAN BAKESHOP         ACTIVE                  1631   \n",
       "3                     DOROSE LIQUOR         ACTIVE                  1610   \n",
       "4  MEJICO GRILL AND TEQUILLA LOUNGE         ACTIVE                  1641   \n",
       "\n",
       "                          PE DESCRIPTION  ...  FACILITY CITY FACILITY STATE  \\\n",
       "0     RESTAURANT (31-60) SEATS HIGH RISK  ...        BURBANK             CA   \n",
       "1      RESTAURANT (0-30) SEATS HIGH RISK  ...    LOS ANGELES             CA   \n",
       "2  RESTAURANT (0-30) SEATS MODERATE RISK  ...    WEST COVINA             CA   \n",
       "3  FOOD MKT RETAIL (1-1,999 SF) LOW RISK  ...  PANORAMA CITY             CA   \n",
       "4    RESTAURANT (151 + ) SEATS HIGH RISK  ...   AGOURA HILLS             CA   \n",
       "\n",
       "  FACILITY ZIP SERVICE CODE  SERVICE DESCRIPTION SCORE  GRADE SERIAL NUMBER  \\\n",
       "0        91502            1   ROUTINE INSPECTION    96      A     DARRFUZBW   \n",
       "1   90037-1867            1   ROUTINE INSPECTION    98      A     DA0XQVMTN   \n",
       "2        91792            1   ROUTINE INSPECTION    98      A     DAMPOJNY8   \n",
       "3        91402            1   ROUTINE INSPECTION    91      A     DAUTU3DPD   \n",
       "4        91301            1   ROUTINE INSPECTION    90      A     DAUEU4NGF   \n",
       "\n",
       "  EMPLOYEE ID                       Location  \n",
       "0   EE0000495  POINT (-118.314661 34.175253)  \n",
       "1   EE0001130  POINT (-118.292543 34.010859)  \n",
       "2   EE0000500  POINT (-117.913926 34.030964)  \n",
       "3   EE0000045  POINT (-118.428399 34.221664)  \n",
       "4   EE0000526  POINT (-118.756808 34.143452)  \n",
       "\n",
       "[5 rows x 21 columns]"
      ]
     },
     "execution_count": 2,
     "metadata": {},
     "output_type": "execute_result"
    }
   ],
   "source": [
    "file_path = \"Resources/LOS_ANGELES_COUNTY_RESTAURANT_AND_MARKET_INSPECTIONS.csv\"\n",
    "restaurant_list_df = pd.read_csv(file_path)\n",
    "restaurant_list_df.head()"
   ]
  },
  {
   "cell_type": "code",
   "execution_count": 3,
   "metadata": {},
   "outputs": [
    {
     "name": "stdout",
     "output_type": "stream",
     "text": [
      "Column ACTIVITY DATE has 0 null values\n",
      "Column OWNER ID has 0 null values\n",
      "Column OWNER NAME has 0 null values\n",
      "Column FACILITY ID has 0 null values\n",
      "Column FACILITY NAME has 0 null values\n",
      "Column RECORD ID has 0 null values\n",
      "Column PROGRAM NAME has 0 null values\n",
      "Column PROGRAM STATUS has 0 null values\n",
      "Column PROGRAM ELEMENT (PE) has 0 null values\n",
      "Column PE DESCRIPTION has 0 null values\n",
      "Column FACILITY ADDRESS has 0 null values\n",
      "Column FACILITY CITY has 0 null values\n",
      "Column FACILITY STATE has 0 null values\n",
      "Column FACILITY ZIP has 0 null values\n",
      "Column SERVICE CODE has 0 null values\n",
      "Column SERVICE DESCRIPTION has 0 null values\n",
      "Column SCORE has 0 null values\n",
      "Column GRADE has 77 null values\n",
      "Column SERIAL NUMBER has 0 null values\n",
      "Column EMPLOYEE ID has 0 null values\n",
      "Column Location has 7106 null values\n"
     ]
    }
   ],
   "source": [
    "# loop through each column, check if there are null values, \n",
    "#sum them up, and print out a readable total:\n",
    "for column in restaurant_list_df.columns:\n",
    "    print(f\"Column {column} has {restaurant_list_df[column].isnull().sum()} null values\")"
   ]
  },
  {
   "cell_type": "code",
   "execution_count": 4,
   "metadata": {},
   "outputs": [],
   "source": [
    "pd.set_option('display.max_columns', 999)"
   ]
  },
  {
   "cell_type": "code",
   "execution_count": 5,
   "metadata": {},
   "outputs": [
    {
     "data": {
      "text/plain": [
       "ACTIVITY DATE           object\n",
       "OWNER ID                object\n",
       "OWNER NAME              object\n",
       "FACILITY ID             object\n",
       "FACILITY NAME           object\n",
       "RECORD ID               object\n",
       "PROGRAM NAME            object\n",
       "PROGRAM STATUS          object\n",
       "PROGRAM ELEMENT (PE)     int64\n",
       "PE DESCRIPTION          object\n",
       "FACILITY ADDRESS        object\n",
       "FACILITY CITY           object\n",
       "FACILITY STATE          object\n",
       "FACILITY ZIP            object\n",
       "SERVICE CODE             int64\n",
       "SERVICE DESCRIPTION     object\n",
       "SCORE                    int64\n",
       "GRADE                   object\n",
       "SERIAL NUMBER           object\n",
       "EMPLOYEE ID             object\n",
       "Location                object\n",
       "dtype: object"
      ]
     },
     "execution_count": 5,
     "metadata": {},
     "output_type": "execute_result"
    }
   ],
   "source": [
    "#data type\n",
    "restaurant_list_df.dtypes"
   ]
  },
  {
   "cell_type": "code",
   "execution_count": 6,
   "metadata": {},
   "outputs": [
    {
     "data": {
      "text/plain": [
       "Index(['ACTON', 'AGOURA', 'AGOURA HILLS', 'AGUA DULCE', 'ALHAMBRA', 'ALTADENA',\n",
       "       'ARCADIA', 'ARLETA', 'ARTESIA', 'ATWATER',\n",
       "       ...\n",
       "       'WEST HOLLYWOOD', 'WEST LOS ANGELES', 'WESTCHESTER', 'WESTLAKE VILLAGE',\n",
       "       'WESTWOOD', 'WHITTIER', 'WILMINGTON', 'WINNETKA', 'WOODLAND HILLS',\n",
       "       'WRIGHTWOOD'],\n",
       "      dtype='object', name='FACILITY CITY', length=177)"
      ]
     },
     "execution_count": 6,
     "metadata": {},
     "output_type": "execute_result"
    }
   ],
   "source": [
    "#check PE DESCRIPTION options\n",
    "restaurant_list_df.groupby(\"FACILITY CITY\").count().index"
   ]
  },
  {
   "cell_type": "code",
   "execution_count": 7,
   "metadata": {},
   "outputs": [
    {
     "data": {
      "text/plain": [
       "Index(['ACTIVE', 'INACTIVE'], dtype='object', name='PROGRAM STATUS')"
      ]
     },
     "execution_count": 7,
     "metadata": {},
     "output_type": "execute_result"
    }
   ],
   "source": [
    "#check PE DESCRIPTION options\n",
    "restaurant_list_df.groupby(\"PROGRAM STATUS\").count().index"
   ]
  },
  {
   "cell_type": "code",
   "execution_count": 8,
   "metadata": {},
   "outputs": [
    {
     "data": {
      "text/plain": [
       "Index(['CATERER (0-999 SQ. FT.)', 'CATERER (1,000-1,999 SQ. FT.)',\n",
       "       'FOOD MARKET WHOLESALE', 'FOOD MKT RETAIL (1-1,999 SF) HIGH RISK',\n",
       "       'FOOD MKT RETAIL (1-1,999 SF) LOW RISK',\n",
       "       'FOOD MKT RETAIL (1-1,999 SF) MODERATE RISK',\n",
       "       'FOOD MKT RETAIL (2,000+ SF) HIGH RISK',\n",
       "       'FOOD MKT RETAIL (2,000+ SF) LOW RISK',\n",
       "       'FOOD MKT RETAIL (2,000+ SF) MODERATE RISK',\n",
       "       'FOOD PROCESSING WHOLESALE (1-1,999 SQ. FT.)',\n",
       "       'FOOD PROCESSING WHOLESALE (2,000-5,999 SF)',\n",
       "       'FOOD PROCESSING WHOLESALE (6,000 + SQ. FT.)',\n",
       "       'FOOD VEHICLE COMMISSARY (0-10)', 'FOOD WAREHOUSE (1-4,999) SQ. FT.',\n",
       "       'INTERIM HOUSING FF (1-1,999) SQ. FT.',\n",
       "       'INTERIM HOUSING FF (2,000-4,999) SQ. FT.',\n",
       "       'LIC HTH CARE FOOD FAC (0-1999 SF) HIGH RISK',\n",
       "       'LIC HTH CARE FOOD FAC (0-1999 SF) MOD RISK',\n",
       "       'LIC HTH CARE FOOD FAC (10,000+ SF) HIGH RISK',\n",
       "       'LIC HTH CARE FOOD FAC (2000-3999 SF)HIGH RISK',\n",
       "       'LIC HTH CARE FOOD FAC (4000-9999 SF)HIGH RISK',\n",
       "       'PRIVATE SCHOOL CAFETERIA', 'RESTAURANT (0-30) SEATS HIGH RISK',\n",
       "       'RESTAURANT (0-30) SEATS LOW RISK',\n",
       "       'RESTAURANT (0-30) SEATS MODERATE RISK',\n",
       "       'RESTAURANT (151 + ) SEATS HIGH RISK',\n",
       "       'RESTAURANT (151 + ) SEATS LOW RISK',\n",
       "       'RESTAURANT (151 + ) SEATS MODERATE RISK',\n",
       "       'RESTAURANT (31-60) SEATS HIGH RISK',\n",
       "       'RESTAURANT (31-60) SEATS LOW RISK',\n",
       "       'RESTAURANT (31-60) SEATS MODERATE RISK',\n",
       "       'RESTAURANT (61-150) SEATS HIGH RISK',\n",
       "       'RESTAURANT (61-150) SEATS LOW RISK',\n",
       "       'RESTAURANT (61-150) SEATS MODERATE RISK'],\n",
       "      dtype='object', name='PE DESCRIPTION')"
      ]
     },
     "execution_count": 8,
     "metadata": {},
     "output_type": "execute_result"
    }
   ],
   "source": [
    "#check PE DESCRIPTION options\n",
    "restaurant_list_df.groupby(\"PE DESCRIPTION\").count().index"
   ]
  },
  {
   "cell_type": "code",
   "execution_count": 9,
   "metadata": {
    "slideshow": {
     "slide_type": "slide"
    }
   },
   "outputs": [
    {
     "data": {
      "text/html": [
       "<div>\n",
       "<style scoped>\n",
       "    .dataframe tbody tr th:only-of-type {\n",
       "        vertical-align: middle;\n",
       "    }\n",
       "\n",
       "    .dataframe tbody tr th {\n",
       "        vertical-align: top;\n",
       "    }\n",
       "\n",
       "    .dataframe thead th {\n",
       "        text-align: right;\n",
       "    }\n",
       "</style>\n",
       "<table border=\"1\" class=\"dataframe\">\n",
       "  <thead>\n",
       "    <tr style=\"text-align: right;\">\n",
       "      <th></th>\n",
       "      <th>ACTIVITY DATE</th>\n",
       "      <th>OWNER ID</th>\n",
       "      <th>OWNER NAME</th>\n",
       "      <th>FACILITY ID</th>\n",
       "      <th>FACILITY NAME</th>\n",
       "      <th>RECORD ID</th>\n",
       "      <th>PROGRAM NAME</th>\n",
       "      <th>PROGRAM STATUS</th>\n",
       "      <th>PROGRAM ELEMENT (PE)</th>\n",
       "      <th>PE DESCRIPTION</th>\n",
       "      <th>FACILITY ADDRESS</th>\n",
       "      <th>FACILITY CITY</th>\n",
       "      <th>FACILITY STATE</th>\n",
       "      <th>FACILITY ZIP</th>\n",
       "      <th>SERVICE CODE</th>\n",
       "      <th>SERVICE DESCRIPTION</th>\n",
       "      <th>SCORE</th>\n",
       "      <th>GRADE</th>\n",
       "      <th>SERIAL NUMBER</th>\n",
       "      <th>EMPLOYEE ID</th>\n",
       "      <th>Location</th>\n",
       "    </tr>\n",
       "  </thead>\n",
       "  <tbody>\n",
       "    <tr>\n",
       "      <td>0</td>\n",
       "      <td>09/10/2018</td>\n",
       "      <td>OW0105348</td>\n",
       "      <td>GUCKENHEIMER SERVICES, LLC.</td>\n",
       "      <td>FA0242046</td>\n",
       "      <td>SERVERY- NICKELODEON</td>\n",
       "      <td>PR0190194</td>\n",
       "      <td>SERVERY- NICKELODEON</td>\n",
       "      <td>ACTIVE</td>\n",
       "      <td>1635</td>\n",
       "      <td>RESTAURANT (31-60) SEATS HIGH RISK</td>\n",
       "      <td>203 W OLIVE AVE # C</td>\n",
       "      <td>BURBANK</td>\n",
       "      <td>CA</td>\n",
       "      <td>91502</td>\n",
       "      <td>1</td>\n",
       "      <td>ROUTINE INSPECTION</td>\n",
       "      <td>96</td>\n",
       "      <td>A</td>\n",
       "      <td>DARRFUZBW</td>\n",
       "      <td>EE0000495</td>\n",
       "      <td>POINT (-118.314661 34.175253)</td>\n",
       "    </tr>\n",
       "    <tr>\n",
       "      <td>1</td>\n",
       "      <td>07/19/2018</td>\n",
       "      <td>OW0246461</td>\n",
       "      <td>ANASTACIOS POLITIS</td>\n",
       "      <td>FA0252769</td>\n",
       "      <td>TOMS JR BURGERS</td>\n",
       "      <td>PR0202127</td>\n",
       "      <td>TOMS JR BURGERS</td>\n",
       "      <td>ACTIVE</td>\n",
       "      <td>1632</td>\n",
       "      <td>RESTAURANT (0-30) SEATS HIGH RISK</td>\n",
       "      <td>1030 W MARTIN LUTHER KING JR BLVD STE 108</td>\n",
       "      <td>LOS ANGELES</td>\n",
       "      <td>CA</td>\n",
       "      <td>90037-1867</td>\n",
       "      <td>1</td>\n",
       "      <td>ROUTINE INSPECTION</td>\n",
       "      <td>98</td>\n",
       "      <td>A</td>\n",
       "      <td>DA0XQVMTN</td>\n",
       "      <td>EE0001130</td>\n",
       "      <td>POINT (-118.292543 34.010859)</td>\n",
       "    </tr>\n",
       "    <tr>\n",
       "      <td>2</td>\n",
       "      <td>08/15/2018</td>\n",
       "      <td>OW0010130</td>\n",
       "      <td>DJ BIBINGKAHAN CORPORATION</td>\n",
       "      <td>FA0011237</td>\n",
       "      <td>DJ BIBINGKAHAN</td>\n",
       "      <td>PR0035416</td>\n",
       "      <td>DJ BIBINGKAHAN BAKESHOP</td>\n",
       "      <td>ACTIVE</td>\n",
       "      <td>1631</td>\n",
       "      <td>RESTAURANT (0-30) SEATS MODERATE RISK</td>\n",
       "      <td>1515 E AMAR RD</td>\n",
       "      <td>WEST COVINA</td>\n",
       "      <td>CA</td>\n",
       "      <td>91792</td>\n",
       "      <td>1</td>\n",
       "      <td>ROUTINE INSPECTION</td>\n",
       "      <td>98</td>\n",
       "      <td>A</td>\n",
       "      <td>DAMPOJNY8</td>\n",
       "      <td>EE0000500</td>\n",
       "      <td>POINT (-117.913926 34.030964)</td>\n",
       "    </tr>\n",
       "    <tr>\n",
       "      <td>4</td>\n",
       "      <td>09/07/2018</td>\n",
       "      <td>OW0246329</td>\n",
       "      <td>JUAN C OROZCO</td>\n",
       "      <td>FA0252595</td>\n",
       "      <td>MEJICO GRILL AND TEQUILLA LOUNGE</td>\n",
       "      <td>PR0201914</td>\n",
       "      <td>MEJICO GRILL AND TEQUILLA LOUNGE</td>\n",
       "      <td>ACTIVE</td>\n",
       "      <td>1641</td>\n",
       "      <td>RESTAURANT (151 + ) SEATS HIGH RISK</td>\n",
       "      <td>29002 AGOURA RD</td>\n",
       "      <td>AGOURA HILLS</td>\n",
       "      <td>CA</td>\n",
       "      <td>91301</td>\n",
       "      <td>1</td>\n",
       "      <td>ROUTINE INSPECTION</td>\n",
       "      <td>90</td>\n",
       "      <td>A</td>\n",
       "      <td>DAUEU4NGF</td>\n",
       "      <td>EE0000526</td>\n",
       "      <td>POINT (-118.756808 34.143452)</td>\n",
       "    </tr>\n",
       "    <tr>\n",
       "      <td>5</td>\n",
       "      <td>09/18/2018</td>\n",
       "      <td>OW0123199</td>\n",
       "      <td>REDONDO ENTERPRISES LLC</td>\n",
       "      <td>FA0158101</td>\n",
       "      <td>MCDONALD'S #10681</td>\n",
       "      <td>PR0146191</td>\n",
       "      <td>MCDONALD'S #10681</td>\n",
       "      <td>ACTIVE</td>\n",
       "      <td>1637</td>\n",
       "      <td>RESTAURANT (61-150) SEATS MODERATE RISK</td>\n",
       "      <td>5725 FLORENCE AVE</td>\n",
       "      <td>BELL GARDENS</td>\n",
       "      <td>CA</td>\n",
       "      <td>90201</td>\n",
       "      <td>1</td>\n",
       "      <td>ROUTINE INSPECTION</td>\n",
       "      <td>91</td>\n",
       "      <td>A</td>\n",
       "      <td>DARQIUA45</td>\n",
       "      <td>EE0000437</td>\n",
       "      <td>POINT (-118.163665 33.967791)</td>\n",
       "    </tr>\n",
       "    <tr>\n",
       "      <td>...</td>\n",
       "      <td>...</td>\n",
       "      <td>...</td>\n",
       "      <td>...</td>\n",
       "      <td>...</td>\n",
       "      <td>...</td>\n",
       "      <td>...</td>\n",
       "      <td>...</td>\n",
       "      <td>...</td>\n",
       "      <td>...</td>\n",
       "      <td>...</td>\n",
       "      <td>...</td>\n",
       "      <td>...</td>\n",
       "      <td>...</td>\n",
       "      <td>...</td>\n",
       "      <td>...</td>\n",
       "      <td>...</td>\n",
       "      <td>...</td>\n",
       "      <td>...</td>\n",
       "      <td>...</td>\n",
       "      <td>...</td>\n",
       "      <td>...</td>\n",
       "    </tr>\n",
       "    <tr>\n",
       "      <td>210418</td>\n",
       "      <td>02/27/2020</td>\n",
       "      <td>OW0267763</td>\n",
       "      <td>CALIF CHICKEN NINE , INC</td>\n",
       "      <td>FA0278951</td>\n",
       "      <td>CALIFORNIA CHICKEN CAFE</td>\n",
       "      <td>PR0233062</td>\n",
       "      <td>CALIFORNIA CHICKEN CAFE</td>\n",
       "      <td>ACTIVE</td>\n",
       "      <td>1635</td>\n",
       "      <td>RESTAURANT (31-60) SEATS HIGH RISK</td>\n",
       "      <td>809 S HILL ST</td>\n",
       "      <td>LOS ANGELES</td>\n",
       "      <td>CA</td>\n",
       "      <td>90014-3103</td>\n",
       "      <td>1</td>\n",
       "      <td>ROUTINE INSPECTION</td>\n",
       "      <td>96</td>\n",
       "      <td>A</td>\n",
       "      <td>DA96YTYI2</td>\n",
       "      <td>EE0001064</td>\n",
       "      <td>POINT (-118.255985 34.044257)</td>\n",
       "    </tr>\n",
       "    <tr>\n",
       "      <td>210419</td>\n",
       "      <td>03/10/2020</td>\n",
       "      <td>OW0027458</td>\n",
       "      <td>PANDA EXPRESS INC.</td>\n",
       "      <td>FA0043076</td>\n",
       "      <td>PANDA EXPRESS #2018</td>\n",
       "      <td>PR0020389</td>\n",
       "      <td>PANDA EXPRESS #2018</td>\n",
       "      <td>ACTIVE</td>\n",
       "      <td>1635</td>\n",
       "      <td>RESTAURANT (31-60) SEATS HIGH RISK</td>\n",
       "      <td>15528 WHITTIER BLVD # #B</td>\n",
       "      <td>WHITTIER</td>\n",
       "      <td>CA</td>\n",
       "      <td>90603</td>\n",
       "      <td>1</td>\n",
       "      <td>ROUTINE INSPECTION</td>\n",
       "      <td>95</td>\n",
       "      <td>A</td>\n",
       "      <td>DAUHBHK0C</td>\n",
       "      <td>EE0000926</td>\n",
       "      <td>POINT (-117.995246 33.945004)</td>\n",
       "    </tr>\n",
       "    <tr>\n",
       "      <td>210420</td>\n",
       "      <td>03/31/2020</td>\n",
       "      <td>OW0016998</td>\n",
       "      <td>IN-N-OUT BURGERS, INC.</td>\n",
       "      <td>FA0030146</td>\n",
       "      <td>IN-N-OUT BURGER #27</td>\n",
       "      <td>PR0020544</td>\n",
       "      <td>IN-N-OUT BURGER #27</td>\n",
       "      <td>ACTIVE</td>\n",
       "      <td>1631</td>\n",
       "      <td>RESTAURANT (0-30) SEATS MODERATE RISK</td>\n",
       "      <td>420 N SANTA ANITA AVE</td>\n",
       "      <td>ARCADIA</td>\n",
       "      <td>CA</td>\n",
       "      <td>91006</td>\n",
       "      <td>1</td>\n",
       "      <td>ROUTINE INSPECTION</td>\n",
       "      <td>100</td>\n",
       "      <td>A</td>\n",
       "      <td>DAPOZY6B7</td>\n",
       "      <td>EE0000232</td>\n",
       "      <td>POINT (-118.031451 34.145206)</td>\n",
       "    </tr>\n",
       "    <tr>\n",
       "      <td>210425</td>\n",
       "      <td>03/03/2020</td>\n",
       "      <td>OW0255835</td>\n",
       "      <td>LA FIESTA # 1 LLC</td>\n",
       "      <td>FA0264750</td>\n",
       "      <td>LA FIESTA # 1</td>\n",
       "      <td>PR0215888</td>\n",
       "      <td>LA FIESTA # 1</td>\n",
       "      <td>ACTIVE</td>\n",
       "      <td>1635</td>\n",
       "      <td>RESTAURANT (31-60) SEATS HIGH RISK</td>\n",
       "      <td>18515 ROSCOE BLVD</td>\n",
       "      <td>NORTHRIDGE</td>\n",
       "      <td>CA</td>\n",
       "      <td>91324</td>\n",
       "      <td>1</td>\n",
       "      <td>ROUTINE INSPECTION</td>\n",
       "      <td>96</td>\n",
       "      <td>A</td>\n",
       "      <td>DAH0HFNIW</td>\n",
       "      <td>EE0000688</td>\n",
       "      <td>POINT (-118.53732 34.220723)</td>\n",
       "    </tr>\n",
       "    <tr>\n",
       "      <td>210426</td>\n",
       "      <td>03/10/2020</td>\n",
       "      <td>OW0184101</td>\n",
       "      <td>JUAN PEDRO AMAYA</td>\n",
       "      <td>FA0178332</td>\n",
       "      <td>SUPER TOM'S BURGERS</td>\n",
       "      <td>PR0171459</td>\n",
       "      <td>SUPER TOM'S BURGERS</td>\n",
       "      <td>ACTIVE</td>\n",
       "      <td>1638</td>\n",
       "      <td>RESTAURANT (61-150) SEATS HIGH RISK</td>\n",
       "      <td>444 E FOOTHILL BLVD</td>\n",
       "      <td>AZUSA</td>\n",
       "      <td>CA</td>\n",
       "      <td>91702</td>\n",
       "      <td>1</td>\n",
       "      <td>ROUTINE INSPECTION</td>\n",
       "      <td>94</td>\n",
       "      <td>A</td>\n",
       "      <td>DALQRTJE3</td>\n",
       "      <td>EE0000431</td>\n",
       "      <td>POINT (-117.902822 34.133457)</td>\n",
       "    </tr>\n",
       "  </tbody>\n",
       "</table>\n",
       "<p>171862 rows × 21 columns</p>\n",
       "</div>"
      ],
      "text/plain": [
       "       ACTIVITY DATE   OWNER ID                   OWNER NAME FACILITY ID  \\\n",
       "0         09/10/2018  OW0105348  GUCKENHEIMER SERVICES, LLC.   FA0242046   \n",
       "1         07/19/2018  OW0246461           ANASTACIOS POLITIS   FA0252769   \n",
       "2         08/15/2018  OW0010130   DJ BIBINGKAHAN CORPORATION   FA0011237   \n",
       "4         09/07/2018  OW0246329                JUAN C OROZCO   FA0252595   \n",
       "5         09/18/2018  OW0123199      REDONDO ENTERPRISES LLC   FA0158101   \n",
       "...              ...        ...                          ...         ...   \n",
       "210418    02/27/2020  OW0267763     CALIF CHICKEN NINE , INC   FA0278951   \n",
       "210419    03/10/2020  OW0027458           PANDA EXPRESS INC.   FA0043076   \n",
       "210420    03/31/2020  OW0016998       IN-N-OUT BURGERS, INC.   FA0030146   \n",
       "210425    03/03/2020  OW0255835            LA FIESTA # 1 LLC   FA0264750   \n",
       "210426    03/10/2020  OW0184101             JUAN PEDRO AMAYA   FA0178332   \n",
       "\n",
       "                           FACILITY NAME  RECORD ID  \\\n",
       "0                   SERVERY- NICKELODEON  PR0190194   \n",
       "1                        TOMS JR BURGERS  PR0202127   \n",
       "2                         DJ BIBINGKAHAN  PR0035416   \n",
       "4       MEJICO GRILL AND TEQUILLA LOUNGE  PR0201914   \n",
       "5                      MCDONALD'S #10681  PR0146191   \n",
       "...                                  ...        ...   \n",
       "210418           CALIFORNIA CHICKEN CAFE  PR0233062   \n",
       "210419               PANDA EXPRESS #2018  PR0020389   \n",
       "210420               IN-N-OUT BURGER #27  PR0020544   \n",
       "210425                     LA FIESTA # 1  PR0215888   \n",
       "210426               SUPER TOM'S BURGERS  PR0171459   \n",
       "\n",
       "                            PROGRAM NAME PROGRAM STATUS  PROGRAM ELEMENT (PE)  \\\n",
       "0                   SERVERY- NICKELODEON         ACTIVE                  1635   \n",
       "1                        TOMS JR BURGERS         ACTIVE                  1632   \n",
       "2                DJ BIBINGKAHAN BAKESHOP         ACTIVE                  1631   \n",
       "4       MEJICO GRILL AND TEQUILLA LOUNGE         ACTIVE                  1641   \n",
       "5                      MCDONALD'S #10681         ACTIVE                  1637   \n",
       "...                                  ...            ...                   ...   \n",
       "210418           CALIFORNIA CHICKEN CAFE         ACTIVE                  1635   \n",
       "210419               PANDA EXPRESS #2018         ACTIVE                  1635   \n",
       "210420               IN-N-OUT BURGER #27         ACTIVE                  1631   \n",
       "210425                     LA FIESTA # 1         ACTIVE                  1635   \n",
       "210426               SUPER TOM'S BURGERS         ACTIVE                  1638   \n",
       "\n",
       "                                 PE DESCRIPTION  \\\n",
       "0            RESTAURANT (31-60) SEATS HIGH RISK   \n",
       "1             RESTAURANT (0-30) SEATS HIGH RISK   \n",
       "2         RESTAURANT (0-30) SEATS MODERATE RISK   \n",
       "4           RESTAURANT (151 + ) SEATS HIGH RISK   \n",
       "5       RESTAURANT (61-150) SEATS MODERATE RISK   \n",
       "...                                         ...   \n",
       "210418       RESTAURANT (31-60) SEATS HIGH RISK   \n",
       "210419       RESTAURANT (31-60) SEATS HIGH RISK   \n",
       "210420    RESTAURANT (0-30) SEATS MODERATE RISK   \n",
       "210425       RESTAURANT (31-60) SEATS HIGH RISK   \n",
       "210426      RESTAURANT (61-150) SEATS HIGH RISK   \n",
       "\n",
       "                                 FACILITY ADDRESS FACILITY CITY  \\\n",
       "0                             203 W OLIVE AVE # C       BURBANK   \n",
       "1       1030 W MARTIN LUTHER KING JR BLVD STE 108   LOS ANGELES   \n",
       "2                                  1515 E AMAR RD   WEST COVINA   \n",
       "4                                 29002 AGOURA RD  AGOURA HILLS   \n",
       "5                               5725 FLORENCE AVE  BELL GARDENS   \n",
       "...                                           ...           ...   \n",
       "210418                              809 S HILL ST   LOS ANGELES   \n",
       "210419                   15528 WHITTIER BLVD # #B      WHITTIER   \n",
       "210420                      420 N SANTA ANITA AVE       ARCADIA   \n",
       "210425                          18515 ROSCOE BLVD    NORTHRIDGE   \n",
       "210426                        444 E FOOTHILL BLVD         AZUSA   \n",
       "\n",
       "       FACILITY STATE FACILITY ZIP  SERVICE CODE SERVICE DESCRIPTION  SCORE  \\\n",
       "0                  CA        91502             1  ROUTINE INSPECTION     96   \n",
       "1                  CA   90037-1867             1  ROUTINE INSPECTION     98   \n",
       "2                  CA        91792             1  ROUTINE INSPECTION     98   \n",
       "4                  CA        91301             1  ROUTINE INSPECTION     90   \n",
       "5                  CA        90201             1  ROUTINE INSPECTION     91   \n",
       "...               ...          ...           ...                 ...    ...   \n",
       "210418             CA   90014-3103             1  ROUTINE INSPECTION     96   \n",
       "210419             CA        90603             1  ROUTINE INSPECTION     95   \n",
       "210420             CA        91006             1  ROUTINE INSPECTION    100   \n",
       "210425             CA        91324             1  ROUTINE INSPECTION     96   \n",
       "210426             CA        91702             1  ROUTINE INSPECTION     94   \n",
       "\n",
       "       GRADE SERIAL NUMBER EMPLOYEE ID                       Location  \n",
       "0          A     DARRFUZBW   EE0000495  POINT (-118.314661 34.175253)  \n",
       "1          A     DA0XQVMTN   EE0001130  POINT (-118.292543 34.010859)  \n",
       "2          A     DAMPOJNY8   EE0000500  POINT (-117.913926 34.030964)  \n",
       "4          A     DAUEU4NGF   EE0000526  POINT (-118.756808 34.143452)  \n",
       "5          A     DARQIUA45   EE0000437  POINT (-118.163665 33.967791)  \n",
       "...      ...           ...         ...                            ...  \n",
       "210418     A     DA96YTYI2   EE0001064  POINT (-118.255985 34.044257)  \n",
       "210419     A     DAUHBHK0C   EE0000926  POINT (-117.995246 33.945004)  \n",
       "210420     A     DAPOZY6B7   EE0000232  POINT (-118.031451 34.145206)  \n",
       "210425     A     DAH0HFNIW   EE0000688   POINT (-118.53732 34.220723)  \n",
       "210426     A     DALQRTJE3   EE0000431  POINT (-117.902822 34.133457)  \n",
       "\n",
       "[171862 rows x 21 columns]"
      ]
     },
     "execution_count": 9,
     "metadata": {},
     "output_type": "execute_result"
    }
   ],
   "source": [
    "#Remove all PE DESCRIPTION that are not restaurants\n",
    "restaurant_list2_df= restaurant_list_df.loc[restaurant_list_df['PE DESCRIPTION'].str.contains('RESTAURANT')]\n",
    "restaurant_list2_df\n"
   ]
  },
  {
   "cell_type": "code",
   "execution_count": 10,
   "metadata": {},
   "outputs": [
    {
     "data": {
      "text/plain": [
       "Index(['RESTAURANT (0-30) SEATS HIGH RISK', 'RESTAURANT (0-30) SEATS LOW RISK',\n",
       "       'RESTAURANT (0-30) SEATS MODERATE RISK',\n",
       "       'RESTAURANT (151 + ) SEATS HIGH RISK',\n",
       "       'RESTAURANT (151 + ) SEATS LOW RISK',\n",
       "       'RESTAURANT (151 + ) SEATS MODERATE RISK',\n",
       "       'RESTAURANT (31-60) SEATS HIGH RISK',\n",
       "       'RESTAURANT (31-60) SEATS LOW RISK',\n",
       "       'RESTAURANT (31-60) SEATS MODERATE RISK',\n",
       "       'RESTAURANT (61-150) SEATS HIGH RISK',\n",
       "       'RESTAURANT (61-150) SEATS LOW RISK',\n",
       "       'RESTAURANT (61-150) SEATS MODERATE RISK'],\n",
       "      dtype='object', name='PE DESCRIPTION')"
      ]
     },
     "execution_count": 10,
     "metadata": {},
     "output_type": "execute_result"
    }
   ],
   "source": [
    "#check PE DESCRIPTION options\n",
    "restaurant_list2_df.groupby(\"PE DESCRIPTION\").count().index"
   ]
  },
  {
   "cell_type": "code",
   "execution_count": 11,
   "metadata": {},
   "outputs": [
    {
     "data": {
      "text/plain": [
       "Index(['RESTAURANT (0-30) SEATS HIGH RISK', 'RESTAURANT (0-30) SEATS LOW RISK',\n",
       "       'RESTAURANT (0-30) SEATS MODERATE RISK',\n",
       "       'RESTAURANT (151 + ) SEATS HIGH RISK',\n",
       "       'RESTAURANT (151 + ) SEATS LOW RISK',\n",
       "       'RESTAURANT (151 + ) SEATS MODERATE RISK',\n",
       "       'RESTAURANT (31-60) SEATS HIGH RISK',\n",
       "       'RESTAURANT (31-60) SEATS LOW RISK',\n",
       "       'RESTAURANT (31-60) SEATS MODERATE RISK',\n",
       "       'RESTAURANT (61-150) SEATS HIGH RISK',\n",
       "       'RESTAURANT (61-150) SEATS LOW RISK',\n",
       "       'RESTAURANT (61-150) SEATS MODERATE RISK'],\n",
       "      dtype='object', name='PE DESCRIPTION')"
      ]
     },
     "execution_count": 11,
     "metadata": {},
     "output_type": "execute_result"
    }
   ],
   "source": [
    "#check PE DESCRIPTION options\n",
    "restaurant_list2_df.groupby(\"PE DESCRIPTION\").count().index"
   ]
  },
  {
   "cell_type": "code",
   "execution_count": 12,
   "metadata": {},
   "outputs": [
    {
     "name": "stdout",
     "output_type": "stream",
     "text": [
      "Column ACTIVITY DATE has 0 null values\n",
      "Column OWNER ID has 0 null values\n",
      "Column OWNER NAME has 0 null values\n",
      "Column FACILITY ID has 0 null values\n",
      "Column FACILITY NAME has 0 null values\n",
      "Column RECORD ID has 0 null values\n",
      "Column PROGRAM NAME has 0 null values\n",
      "Column PROGRAM STATUS has 0 null values\n",
      "Column PROGRAM ELEMENT (PE) has 0 null values\n",
      "Column PE DESCRIPTION has 0 null values\n",
      "Column FACILITY ADDRESS has 0 null values\n",
      "Column FACILITY CITY has 0 null values\n",
      "Column FACILITY STATE has 0 null values\n",
      "Column FACILITY ZIP has 0 null values\n",
      "Column SERVICE CODE has 0 null values\n",
      "Column SERVICE DESCRIPTION has 0 null values\n",
      "Column SCORE has 0 null values\n",
      "Column GRADE has 68 null values\n",
      "Column SERIAL NUMBER has 0 null values\n",
      "Column EMPLOYEE ID has 0 null values\n",
      "Column Location has 5889 null values\n"
     ]
    }
   ],
   "source": [
    "# loop through each column, check if there are null values, \n",
    "#sum them up, and print out a readable total:\n",
    "for column in restaurant_list2_df.columns:\n",
    "    print(f\"Column {column} has {restaurant_list2_df[column].isnull().sum()} null values\")"
   ]
  },
  {
   "cell_type": "code",
   "execution_count": 13,
   "metadata": {},
   "outputs": [
    {
     "data": {
      "text/plain": [
       "count    171862.000000\n",
       "mean         93.535046\n",
       "std           3.937322\n",
       "min          52.000000\n",
       "25%          91.000000\n",
       "50%          94.000000\n",
       "75%          96.000000\n",
       "max         100.000000\n",
       "Name: SCORE, dtype: float64"
      ]
     },
     "execution_count": 13,
     "metadata": {},
     "output_type": "execute_result"
    }
   ],
   "source": [
    "#use the describe() method to print out some stats on central tendency and spread.\n",
    "restaurant_list2_df['SCORE'].describe()"
   ]
  },
  {
   "cell_type": "code",
   "execution_count": 14,
   "metadata": {},
   "outputs": [
    {
     "data": {
      "text/plain": [
       "<matplotlib.axes._subplots.AxesSubplot at 0x11456bf10>"
      ]
     },
     "execution_count": 14,
     "metadata": {},
     "output_type": "execute_result"
    }
   ],
   "source": [
    "#histogram of the score distributions\n",
    "restaurant_list2_df['SCORE'].plot(kind='hist')"
   ]
  },
  {
   "cell_type": "code",
   "execution_count": 15,
   "metadata": {},
   "outputs": [
    {
     "data": {
      "text/plain": [
       "count     171862\n",
       "unique         2\n",
       "top       ACTIVE\n",
       "freq      152040\n",
       "Name: PROGRAM STATUS, dtype: object"
      ]
     },
     "execution_count": 15,
     "metadata": {},
     "output_type": "execute_result"
    }
   ],
   "source": [
    "#use the describe() method to print out some stats on central tendency and spread.\n",
    "restaurant_list2_df['PROGRAM STATUS'].describe()"
   ]
  },
  {
   "cell_type": "code",
   "execution_count": 19,
   "metadata": {},
   "outputs": [
    {
     "data": {
      "text/plain": [
       "Index(['A', 'B', 'C'], dtype='object', name='GRADE')"
      ]
     },
     "execution_count": 19,
     "metadata": {},
     "output_type": "execute_result"
    }
   ],
   "source": [
    "#check PE DESCRIPTION options\n",
    "restaurant_list2_df.groupby(\"GRADE\").count().index"
   ]
  },
  {
   "cell_type": "code",
   "execution_count": 20,
   "metadata": {},
   "outputs": [
    {
     "data": {
      "text/plain": [
       "90     22371\n",
       "95     18948\n",
       "96     18858\n",
       "94     18242\n",
       "93     16614\n",
       "97     16610\n",
       "92     14854\n",
       "91     13776\n",
       "98     12773\n",
       "99      6603\n",
       "100     2775\n",
       "80      1495\n",
       "85      1092\n",
       "84      1088\n",
       "83       988\n",
       "86       945\n",
       "82       926\n",
       "81       884\n",
       "87       649\n",
       "88       291\n",
       "75       140\n",
       "77       130\n",
       "74       124\n",
       "76       117\n",
       "70        96\n",
       "73        85\n",
       "78        85\n",
       "71        80\n",
       "72        76\n",
       "89        51\n",
       "79        28\n",
       "65        12\n",
       "66        11\n",
       "67        10\n",
       "68         9\n",
       "69         6\n",
       "63         4\n",
       "64         4\n",
       "62         3\n",
       "60         3\n",
       "61         2\n",
       "59         1\n",
       "55         1\n",
       "54         1\n",
       "52         1\n",
       "Name: SCORE, dtype: int64"
      ]
     },
     "execution_count": 20,
     "metadata": {},
     "output_type": "execute_result"
    }
   ],
   "source": [
    "#count program name value\n",
    "restaurant_list2_df['SCORE'].value_counts(dropna=False)"
   ]
  },
  {
   "cell_type": "code",
   "execution_count": 21,
   "metadata": {},
   "outputs": [
    {
     "data": {
      "text/plain": [
       "ROUTINE INSPECTION                  168923\n",
       "OWNER INITIATED ROUTINE INSPECT.      2939\n",
       "Name: SERVICE DESCRIPTION, dtype: int64"
      ]
     },
     "execution_count": 21,
     "metadata": {},
     "output_type": "execute_result"
    }
   ],
   "source": [
    "#count program name value \n",
    "# WE CAN DROP\n",
    "restaurant_list2_df['SERVICE DESCRIPTION'].value_counts(dropna=False)"
   ]
  },
  {
   "cell_type": "code",
   "execution_count": 22,
   "metadata": {},
   "outputs": [
    {
     "data": {
      "text/plain": [
       "SUBWAY                              621\n",
       "WABA GRILL                          409\n",
       "DOMINO'S PIZZA                      366\n",
       "EL POLLO LOCO                       355\n",
       "JERSEY MIKE'S SUBS                  301\n",
       "                                   ... \n",
       "JAMAFO JAMAICAN FOOD & FIMIWINGS      1\n",
       "XOK                                   1\n",
       "JIVANA AT INDIAN SUMMERS CLUB         1\n",
       "BOTTOMS UP TIKI LOUNGE                1\n",
       "BARCLAY'S COFFEE AND TEA              1\n",
       "Name: PROGRAM NAME, Length: 28987, dtype: int64"
      ]
     },
     "execution_count": 22,
     "metadata": {},
     "output_type": "execute_result"
    }
   ],
   "source": [
    "#count program name value\n",
    "restaurant_list2_df['PROGRAM NAME'].value_counts(dropna=False)"
   ]
  },
  {
   "cell_type": "code",
   "execution_count": 23,
   "metadata": {},
   "outputs": [
    {
     "data": {
      "text/plain": [
       "SUBWAY                    621\n",
       "WABA GRILL                409\n",
       "DOMINO'S PIZZA            366\n",
       "EL POLLO LOCO             355\n",
       "JERSEY MIKE'S SUBS        301\n",
       "                         ... \n",
       "ACE SUSHI - VONS            9\n",
       "TAN KHAI HOAN               9\n",
       "LAS CASITAS RESTAURANT      9\n",
       "WHICH WHICH                 9\n",
       "PI                          9\n",
       "Name: PROGRAM NAME, Length: 2000, dtype: int64"
      ]
     },
     "execution_count": 23,
     "metadata": {},
     "output_type": "execute_result"
    }
   ],
   "source": [
    "restaurant_list2_df['PROGRAM NAME'].value_counts(dropna=False).head(2000)"
   ]
  },
  {
   "cell_type": "code",
   "execution_count": 24,
   "metadata": {},
   "outputs": [
    {
     "data": {
      "text/plain": [
       "STARBUCKS COFFEE #5491              2\n",
       "LAS TRANCAS                         2\n",
       "PEDROZA'S MEXICAN FOOD              2\n",
       "BOBA RICA                           2\n",
       "FEU PHO KITCHEN                     1\n",
       "                                   ..\n",
       "JAMAFO JAMAICAN FOOD & FIMIWINGS    1\n",
       "XOK                                 1\n",
       "JIVANA AT INDIAN SUMMERS CLUB       1\n",
       "BOTTOMS UP TIKI LOUNGE              1\n",
       "BARCLAY'S COFFEE AND TEA            1\n",
       "Name: PROGRAM NAME, Length: 2255, dtype: int64"
      ]
     },
     "execution_count": 24,
     "metadata": {},
     "output_type": "execute_result"
    }
   ],
   "source": [
    "restaurant_list2_df['PROGRAM NAME'].value_counts(dropna=False).tail(2255)"
   ]
  },
  {
   "cell_type": "code",
   "execution_count": 25,
   "metadata": {},
   "outputs": [
    {
     "data": {
      "text/plain": [
       "DARCA4TB0    1\n",
       "DAFROCP93    1\n",
       "DAQR6BAJU    1\n",
       "DAENDJPI0    1\n",
       "DAXXQJPVI    1\n",
       "            ..\n",
       "DAEI3M8QC    1\n",
       "DA0GCLSY1    1\n",
       "DASDZJJZO    1\n",
       "DA72XBTDT    1\n",
       "DA5YH4PAG    1\n",
       "Name: SERIAL NUMBER, Length: 171862, dtype: int64"
      ]
     },
     "execution_count": 25,
     "metadata": {},
     "output_type": "execute_result"
    }
   ],
   "source": [
    "#count serial number valie\n",
    "restaurant_list2_df['SERIAL NUMBER'].value_counts(dropna=False)"
   ]
  },
  {
   "cell_type": "code",
   "execution_count": 26,
   "metadata": {},
   "outputs": [
    {
     "data": {
      "text/html": [
       "<div>\n",
       "<style scoped>\n",
       "    .dataframe tbody tr th:only-of-type {\n",
       "        vertical-align: middle;\n",
       "    }\n",
       "\n",
       "    .dataframe tbody tr th {\n",
       "        vertical-align: top;\n",
       "    }\n",
       "\n",
       "    .dataframe thead th {\n",
       "        text-align: right;\n",
       "    }\n",
       "</style>\n",
       "<table border=\"1\" class=\"dataframe\">\n",
       "  <thead>\n",
       "    <tr style=\"text-align: right;\">\n",
       "      <th></th>\n",
       "      <th>SERIAL NUMBER</th>\n",
       "      <th>VIOLATION  STATUS</th>\n",
       "      <th>VIOLATION CODE</th>\n",
       "      <th>VIOLATION DESCRIPTION</th>\n",
       "      <th>POINTS</th>\n",
       "    </tr>\n",
       "  </thead>\n",
       "  <tbody>\n",
       "    <tr>\n",
       "      <td>0</td>\n",
       "      <td>DA000211Z</td>\n",
       "      <td>OUT OF COMPLIANCE</td>\n",
       "      <td>F006</td>\n",
       "      <td># 06. Adequate handwashing facilities supplied...</td>\n",
       "      <td>2.0</td>\n",
       "    </tr>\n",
       "    <tr>\n",
       "      <td>1</td>\n",
       "      <td>DA000211Z</td>\n",
       "      <td>OUT OF COMPLIANCE</td>\n",
       "      <td>F044</td>\n",
       "      <td># 44. Floors, walls and ceilings: properly bui...</td>\n",
       "      <td>1.0</td>\n",
       "    </tr>\n",
       "    <tr>\n",
       "      <td>2</td>\n",
       "      <td>DA000211Z</td>\n",
       "      <td>OUT OF COMPLIANCE</td>\n",
       "      <td>F014</td>\n",
       "      <td># 14. Food contact surfaces: clean and sanitized</td>\n",
       "      <td>2.0</td>\n",
       "    </tr>\n",
       "    <tr>\n",
       "      <td>3</td>\n",
       "      <td>DA000211Z</td>\n",
       "      <td>OUT OF COMPLIANCE</td>\n",
       "      <td>F029</td>\n",
       "      <td># 29. Toxic substances properly identified, st...</td>\n",
       "      <td>1.0</td>\n",
       "    </tr>\n",
       "    <tr>\n",
       "      <td>4</td>\n",
       "      <td>DA000211Z</td>\n",
       "      <td>OUT OF COMPLIANCE</td>\n",
       "      <td>F035</td>\n",
       "      <td># 35. Equipment/Utensils - approved; installed...</td>\n",
       "      <td>1.0</td>\n",
       "    </tr>\n",
       "    <tr>\n",
       "      <td>...</td>\n",
       "      <td>...</td>\n",
       "      <td>...</td>\n",
       "      <td>...</td>\n",
       "      <td>...</td>\n",
       "      <td>...</td>\n",
       "    </tr>\n",
       "    <tr>\n",
       "      <td>971326</td>\n",
       "      <td>DAZZZ6W6B</td>\n",
       "      <td>OUT OF COMPLIANCE</td>\n",
       "      <td>F006</td>\n",
       "      <td># 06. Adequate handwashing facilities supplied...</td>\n",
       "      <td>2.0</td>\n",
       "    </tr>\n",
       "    <tr>\n",
       "      <td>971327</td>\n",
       "      <td>DAZZZ6W6B</td>\n",
       "      <td>OUT OF COMPLIANCE</td>\n",
       "      <td>F030</td>\n",
       "      <td># 30. Food properly stored; food storage conta...</td>\n",
       "      <td>1.0</td>\n",
       "    </tr>\n",
       "    <tr>\n",
       "      <td>971328</td>\n",
       "      <td>DAZZZ6W6B</td>\n",
       "      <td>OUT OF COMPLIANCE</td>\n",
       "      <td>F044</td>\n",
       "      <td># 44. Floors, walls and ceilings: properly bui...</td>\n",
       "      <td>1.0</td>\n",
       "    </tr>\n",
       "    <tr>\n",
       "      <td>971329</td>\n",
       "      <td>DAZZZIUVR</td>\n",
       "      <td>OUT OF COMPLIANCE</td>\n",
       "      <td>F035</td>\n",
       "      <td># 35. Equipment/Utensils - approved; installed...</td>\n",
       "      <td>1.0</td>\n",
       "    </tr>\n",
       "    <tr>\n",
       "      <td>971330</td>\n",
       "      <td>DAZZZIUVR</td>\n",
       "      <td>OUT OF COMPLIANCE</td>\n",
       "      <td>F034</td>\n",
       "      <td># 34. Warewashing facilities: Adequate, mainta...</td>\n",
       "      <td>1.0</td>\n",
       "    </tr>\n",
       "  </tbody>\n",
       "</table>\n",
       "<p>971331 rows × 5 columns</p>\n",
       "</div>"
      ],
      "text/plain": [
       "       SERIAL NUMBER  VIOLATION  STATUS VIOLATION CODE  \\\n",
       "0          DA000211Z  OUT OF COMPLIANCE           F006   \n",
       "1          DA000211Z  OUT OF COMPLIANCE           F044   \n",
       "2          DA000211Z  OUT OF COMPLIANCE           F014   \n",
       "3          DA000211Z  OUT OF COMPLIANCE           F029   \n",
       "4          DA000211Z  OUT OF COMPLIANCE           F035   \n",
       "...              ...                ...            ...   \n",
       "971326     DAZZZ6W6B  OUT OF COMPLIANCE           F006   \n",
       "971327     DAZZZ6W6B  OUT OF COMPLIANCE           F030   \n",
       "971328     DAZZZ6W6B  OUT OF COMPLIANCE           F044   \n",
       "971329     DAZZZIUVR  OUT OF COMPLIANCE           F035   \n",
       "971330     DAZZZIUVR  OUT OF COMPLIANCE           F034   \n",
       "\n",
       "                                    VIOLATION DESCRIPTION  POINTS  \n",
       "0       # 06. Adequate handwashing facilities supplied...     2.0  \n",
       "1       # 44. Floors, walls and ceilings: properly bui...     1.0  \n",
       "2        # 14. Food contact surfaces: clean and sanitized     2.0  \n",
       "3       # 29. Toxic substances properly identified, st...     1.0  \n",
       "4       # 35. Equipment/Utensils - approved; installed...     1.0  \n",
       "...                                                   ...     ...  \n",
       "971326  # 06. Adequate handwashing facilities supplied...     2.0  \n",
       "971327  # 30. Food properly stored; food storage conta...     1.0  \n",
       "971328  # 44. Floors, walls and ceilings: properly bui...     1.0  \n",
       "971329  # 35. Equipment/Utensils - approved; installed...     1.0  \n",
       "971330  # 34. Warewashing facilities: Adequate, mainta...     1.0  \n",
       "\n",
       "[971331 rows x 5 columns]"
      ]
     },
     "execution_count": 26,
     "metadata": {},
     "output_type": "execute_result"
    }
   ],
   "source": [
    "file_path = \"Resources/LOS_ANGELES_COUNTY_RESTAURANT_AND_MARKET_VIOLATIONS.csv\"\n",
    "violation_list_df = pd.read_csv(file_path)\n",
    "violation_list_df"
   ]
  },
  {
   "cell_type": "code",
   "execution_count": 27,
   "metadata": {},
   "outputs": [],
   "source": [
    "# ATTENTION - SERIAL NUMBER IS COMMING AS INDEX "
   ]
  },
  {
   "cell_type": "code",
   "execution_count": 28,
   "metadata": {},
   "outputs": [
    {
     "name": "stdout",
     "output_type": "stream",
     "text": [
      "Column SERIAL NUMBER has 0 null values\n",
      "Column VIOLATION  STATUS has 0 null values\n",
      "Column VIOLATION CODE has 0 null values\n",
      "Column VIOLATION DESCRIPTION has 0 null values\n",
      "Column POINTS has 0 null values\n"
     ]
    }
   ],
   "source": [
    "# loop through each column, check if there are null values, \n",
    "#sum them up, and print out a readable total:\n",
    "for column in violation_list_df.columns:\n",
    "    print(f\"Column {column} has {violation_list_df[column].isnull().sum()} null values\")"
   ]
  },
  {
   "cell_type": "code",
   "execution_count": 29,
   "metadata": {},
   "outputs": [
    {
     "data": {
      "text/plain": [
       "SERIAL NUMBER             object\n",
       "VIOLATION  STATUS         object\n",
       "VIOLATION CODE            object\n",
       "VIOLATION DESCRIPTION     object\n",
       "POINTS                   float64\n",
       "dtype: object"
      ]
     },
     "execution_count": 29,
     "metadata": {},
     "output_type": "execute_result"
    }
   ],
   "source": [
    "#data type\n",
    "violation_list_df.dtypes"
   ]
  },
  {
   "cell_type": "code",
   "execution_count": 30,
   "metadata": {},
   "outputs": [
    {
     "name": "stdout",
     "output_type": "stream",
     "text": [
      "<class 'pandas.core.frame.DataFrame'>\n",
      "RangeIndex: 971331 entries, 0 to 971330\n",
      "Data columns (total 5 columns):\n",
      "SERIAL NUMBER            971331 non-null object\n",
      "VIOLATION  STATUS        971331 non-null object\n",
      "VIOLATION CODE           971331 non-null object\n",
      "VIOLATION DESCRIPTION    971331 non-null object\n",
      "POINTS                   971331 non-null float64\n",
      "dtypes: float64(1), object(4)\n",
      "memory usage: 37.1+ MB\n"
     ]
    }
   ],
   "source": [
    "#Reasonability Checks on violation Data\n",
    "violation_list_df.info(null_counts=True)"
   ]
  },
  {
   "cell_type": "code",
   "execution_count": 31,
   "metadata": {},
   "outputs": [
    {
     "data": {
      "text/plain": [
       "count    971331.000000\n",
       "mean          1.336050\n",
       "std           0.891329\n",
       "min           0.000000\n",
       "25%           1.000000\n",
       "50%           1.000000\n",
       "75%           1.000000\n",
       "max          11.000000\n",
       "Name: POINTS, dtype: float64"
      ]
     },
     "execution_count": 31,
     "metadata": {},
     "output_type": "execute_result"
    }
   ],
   "source": [
    "#use the describe() method to print out some stats on central tendency and spread.\n",
    "violation_list_df['POINTS'].describe()"
   ]
  },
  {
   "cell_type": "code",
   "execution_count": 32,
   "metadata": {},
   "outputs": [
    {
     "data": {
      "text/plain": [
       "<matplotlib.axes._subplots.AxesSubplot at 0x11381df10>"
      ]
     },
     "execution_count": 32,
     "metadata": {},
     "output_type": "execute_result"
    },
    {
     "data": {
      "image/png": "[encoded data removed]",
      "text/plain": [
       "<Figure size 432x288 with 1 Axes>"
      ]
     },
     "metadata": {
      "needs_background": "light"
     },
     "output_type": "display_data"
    }
   ],
   "source": [
    "#histogram of the points distributions\n",
    "violation_list_df['POINTS'].plot(kind='hist')"
   ]
  },
  {
   "cell_type": "code",
   "execution_count": 33,
   "metadata": {},
   "outputs": [
    {
     "data": {
      "text/plain": [
       "2047      1\n",
       "823495    1\n",
       "798931    1\n",
       "800978    1\n",
       "794833    1\n",
       "         ..\n",
       "374300    1\n",
       "364059    1\n",
       "362010    1\n",
       "368153    1\n",
       "0         1\n",
       "Length: 971331, dtype: int64"
      ]
     },
     "execution_count": 33,
     "metadata": {},
     "output_type": "execute_result"
    }
   ],
   "source": [
    "violation_list_df.index.value_counts(dropna=False)"
   ]
  },
  {
   "cell_type": "code",
   "execution_count": 34,
   "metadata": {},
   "outputs": [
    {
     "data": {
      "text/plain": [
       "97928     1\n",
       "67207     1\n",
       "69254     1\n",
       "71301     1\n",
       "73348     1\n",
       "         ..\n",
       "374300    1\n",
       "364059    1\n",
       "362010    1\n",
       "368153    1\n",
       "0         1\n",
       "Length: 12740, dtype: int64"
      ]
     },
     "execution_count": 34,
     "metadata": {},
     "output_type": "execute_result"
    }
   ],
   "source": [
    "violation_list_df.index.value_counts(dropna=False).tail(12740)"
   ]
  },
  {
   "cell_type": "code",
   "execution_count": 35,
   "metadata": {},
   "outputs": [
    {
     "data": {
      "text/plain": [
       "DAELDAETV    27\n",
       "DANKB40O8    24\n",
       "DAXPIB7H8    23\n",
       "DABCZMF1J    22\n",
       "DAV1HWO03    22\n",
       "             ..\n",
       "DA139HZNB     1\n",
       "DAM2M2CFF     1\n",
       "DAPP7D0RK     1\n",
       "DABWIC0I0     1\n",
       "DAEJRPWZW     1\n",
       "Name: SERIAL NUMBER, Length: 205850, dtype: int64"
      ]
     },
     "execution_count": 35,
     "metadata": {},
     "output_type": "execute_result"
    }
   ],
   "source": [
    "#count serial number valie\n",
    "violation_list_df['SERIAL NUMBER'].value_counts(dropna=False)"
   ]
  },
  {
   "cell_type": "code",
   "execution_count": 36,
   "metadata": {},
   "outputs": [
    {
     "data": {
      "text/plain": [
       "SUBWAY                              621\n",
       "WABA GRILL                          409\n",
       "DOMINO'S PIZZA                      366\n",
       "EL POLLO LOCO                       355\n",
       "JERSEY MIKE'S SUBS                  301\n",
       "                                   ... \n",
       "JAMAFO JAMAICAN FOOD & FIMIWINGS      1\n",
       "XOK                                   1\n",
       "JIVANA AT INDIAN SUMMERS CLUB         1\n",
       "BOTTOMS UP TIKI LOUNGE                1\n",
       "BARCLAY'S COFFEE AND TEA              1\n",
       "Name: PROGRAM NAME, Length: 28987, dtype: int64"
      ]
     },
     "execution_count": 36,
     "metadata": {},
     "output_type": "execute_result"
    }
   ],
   "source": [
    "#count program name value\n",
    "restaurant_list2_df['PROGRAM NAME'].value_counts(dropna=False)"
   ]
  },
  {
   "cell_type": "code",
   "execution_count": null,
   "metadata": {},
   "outputs": [],
   "source": []
  },
  {
   "cell_type": "code",
   "execution_count": null,
   "metadata": {},
   "outputs": [],
   "source": []
  }
 ],
 "metadata": {
  "kernelspec": {
   "display_name": "PythonData",
   "language": "python",
   "name": "pythondata"
  },
  "language_info": {
   "codemirror_mode": {
    "name": "ipython",
    "version": 3
   },
   "file_extension": ".py",
   "mimetype": "text/x-python",
   "name": "python",
   "nbconvert_exporter": "python",
   "pygments_lexer": "ipython3",
   "version": "3.7.4"
  }
 },
 "nbformat": 4,
 "nbformat_minor": 2
}
